{
 "cells": [
  {
   "cell_type": "code",
   "execution_count": 1,
   "metadata": {
    "collapsed": true
   },
   "outputs": [],
   "source": [
    "%matplotlib inline\n",
    "import math\n",
    "import pandas as pd\n",
    "import numpy as np\n",
    "import matplotlib.pyplot as plt\n",
    "\n",
    "from sklearn.feature_extraction.stop_words import ENGLISH_STOP_WORDS\n",
    "from sklearn.datasets import load_files\n",
    "from sklearn.cross_validation import train_test_split\n",
    "import string\n",
    "import sys"
   ]
  },
  {
   "cell_type": "code",
   "execution_count": 2,
   "metadata": {
    "collapsed": false
   },
   "outputs": [],
   "source": [
    "movie_reviews_data_folder = './txt_sentoken/'\n",
    "dataset = load_files(movie_reviews_data_folder, shuffle=False)\n",
    "\n",
    "docs_train, docs_test, y_train, y_test = train_test_split(\n",
    "        dataset.data, dataset.target, test_size=0.25, random_state=None)"
   ]
  },
  {
   "cell_type": "markdown",
   "metadata": {},
   "source": [
    "# ||||||||||||||||||||||||||||||||||||||||||||||||||||||||||||||||||||||||||||||||||||||||||||||||||||||||||||||||||||||||||||||||||||"
   ]
  },
  {
   "cell_type": "markdown",
   "metadata": {},
   "source": [
    "# What is the probability that a review is positive/negative, given that a word is in it?"
   ]
  },
  {
   "cell_type": "markdown",
   "metadata": {},
   "source": [
    "P(positive | 'word' ) = ( P(positive) * P( 'word' | positive ) ) / P('word')"
   ]
  },
  {
   "cell_type": "code",
   "execution_count": 3,
   "metadata": {
    "collapsed": true
   },
   "outputs": [],
   "source": [
    "stop = list(ENGLISH_STOP_WORDS)\n",
    "\n",
    "def tf(file):\n",
    "    file = str(file)\n",
    "    file = file.split()\n",
    "    doc_dict = set()\n",
    "    for word in file:\n",
    "        word = word.lower()\n",
    "\n",
    "        for c in string.punctuation:\n",
    "            word = word.replace(c,\"\")\n",
    "    \n",
    "        if word not in stop:\n",
    "            if word not in doc_dict:\n",
    "                doc_dict.add(word)\n",
    "    \n",
    "    return doc_dict"
   ]
  },
  {
   "cell_type": "code",
   "execution_count": 4,
   "metadata": {
    "collapsed": false
   },
   "outputs": [],
   "source": [
    "# create dictionary that counds occurance of every word in all reviews\n",
    "word_count = {}\n",
    "for x in docs_train:\n",
    "    dic = tf(x)\n",
    "    for word in dic:\n",
    "        if word in word_count:\n",
    "            word_count[word] += 1\n",
    "        else:\n",
    "            word_count[word] = 1\n",
    "            \n",
    "        \n",
    "# create list of positive and negative reviews        \n",
    "pos_reviews = []\n",
    "neg_reviews = []\n",
    "for review_idx in range(len(docs_train)):\n",
    "    if y_train[review_idx] == 1:\n",
    "        pos_reviews.append(docs_train[review_idx])\n",
    "    else:\n",
    "        neg_reviews.append(docs_train[review_idx])\n",
    "     \n",
    "    \n",
    "    \n",
    "# create dictionary that counds occurance of every word in all positive reviews\n",
    "pos_word_count = {}\n",
    "for x in pos_reviews:\n",
    "    dic = tf(x)\n",
    "    for word in dic:\n",
    "        if word in pos_word_count:\n",
    "            pos_word_count[word] += 1\n",
    "        else:\n",
    "            pos_word_count[word] = 1\n",
    "        \n",
    "# create dictionary that counds occurance of every word in all negative reviews\n",
    "neg_word_count = {}\n",
    "for x in neg_reviews:\n",
    "    dic = tf(x)\n",
    "    for word in dic:\n",
    "        if word in neg_word_count:\n",
    "            neg_word_count[word] += 1\n",
    "        else:\n",
    "            neg_word_count[word] = 1\n",
    "            \n",
    "# find total amount of words in all reviews\n",
    "word_total = 0\n",
    "for word in word_count:\n",
    "    word_total += word_count[word]\n",
    "    \n",
    "# find total amount of words in all positive reviews\n",
    "pos_word_total = 0\n",
    "for word in pos_word_count:\n",
    "    pos_word_total += pos_word_count[word]\n",
    "    \n",
    "# find total amount of words in all negative reviews\n",
    "neg_word_total = 0\n",
    "for word in neg_word_count:\n",
    "    neg_word_total += neg_word_count[word]"
   ]
  },
  {
   "cell_type": "code",
   "execution_count": 5,
   "metadata": {
    "collapsed": false
   },
   "outputs": [],
   "source": [
    "def bayes(word):\n",
    "    p_pos_review = 768/1500\n",
    "    p_neg_review = 732/1500\n",
    "    \n",
    "    if word in word_count:\n",
    "        p_word = word_count[word]/word_total\n",
    "    else:\n",
    "        print(\"Word not used in reviews, can not define probabilities\")\n",
    "        return(None,None)\n",
    "    \n",
    "    p_word_pos = pos_word_count[word]/pos_word_total\n",
    "    p_word_neg = neg_word_count[word]/neg_word_total\n",
    "    \n",
    "    p_pos_word = (p_pos_review*p_word_pos)/p_word\n",
    "    p_neg_word = (p_neg_review*p_word_neg)/p_word\n",
    "    \n",
    "    print(\"P(Positive | '\"+word+\"') = \", p_pos_word)\n",
    "    print(\"P(Negative | '\"+word+\"') = \", p_neg_word)\n",
    "    print()\n",
    "    \n",
    "    "
   ]
  },
  {
   "cell_type": "code",
   "execution_count": 6,
   "metadata": {
    "collapsed": false
   },
   "outputs": [
    {
     "name": "stdout",
     "output_type": "stream",
     "text": [
      "P(Positive | 'awesome') =  0.6811412615393257\n",
      "P(Negative | 'awesome') =  0.3185139258469155\n",
      "\n",
      "P(Positive | 'fun') =  0.5126484231585451\n",
      "P(Negative | 'fun') =  0.487350254961258\n",
      "\n",
      "P(Positive | 'boring') =  0.237568781463716\n",
      "P(Negative | 'boring') =  0.7629906760270188\n",
      "\n"
     ]
    }
   ],
   "source": [
    "bayes(\"awesome\")\n",
    "bayes(\"fun\")\n",
    "bayes(\"boring\")"
   ]
  },
  {
   "cell_type": "markdown",
   "metadata": {},
   "source": [
    "# What is the probability of a review being positive/negative?"
   ]
  },
  {
   "cell_type": "code",
   "execution_count": 7,
   "metadata": {
    "collapsed": true
   },
   "outputs": [],
   "source": [
    "def bayes2(word):\n",
    "    p_pos_review = 768/1500\n",
    "    p_neg_review = 732/1500\n",
    "    \n",
    "    if word in word_count:\n",
    "        p_word = word_count[word]/word_total\n",
    "    else:\n",
    "        return(None,None)\n",
    "    \n",
    "    p_word_pos = pos_word_count[word]/pos_word_total\n",
    "    p_word_neg = neg_word_count[word]/neg_word_total\n",
    "    \n",
    "    p_pos_word = (p_pos_review*p_word_pos)/p_word\n",
    "    p_neg_word = (p_neg_review*p_word_neg)/p_word\n",
    "    \n",
    "    return(p_pos_word,p_neg_word)"
   ]
  },
  {
   "cell_type": "code",
   "execution_count": 8,
   "metadata": {
    "collapsed": true
   },
   "outputs": [],
   "source": [
    "def find_type_probability(review):\n",
    "    review = str(review)\n",
    "    review = review.split()\n",
    "    p_pos = []\n",
    "    p_neg = []\n",
    "    for word in review:\n",
    "        pos, neg = bayes2(word)\n",
    "        if pos != None:\n",
    "            p_pos.append(pos)\n",
    "            p_neg.append(neg)\n",
    "        \n",
    "    p = 1\n",
    "    pnot = 1\n",
    "    for x in p_pos:\n",
    "        p = p*x\n",
    "        pnot = pnot*(1-x)\n",
    "    \n",
    "    prob_pos = p/(p+pnot)\n",
    "    \n",
    "    \n",
    "    p = 1\n",
    "    pnot = 1\n",
    "    for x in p_neg:\n",
    "        p = p*x\n",
    "        pnot = pnot*(1-x)\n",
    "    \n",
    "    prob_neg = p/(p+pnot)\n",
    "    \n",
    "    print(\"P(Positive) = \",prob_pos)\n",
    "    print(\"P(Negative) = \",prob_neg)\n",
    "    print()\n",
    "\n",
    "    \n",
    "    "
   ]
  },
  {
   "cell_type": "code",
   "execution_count": 9,
   "metadata": {
    "collapsed": false
   },
   "outputs": [
    {
     "name": "stdout",
     "output_type": "stream",
     "text": [
      "P(Positive) =  0.6109560334184939\n",
      "P(Negative) =  0.3889213167109818\n",
      "\n",
      "P(Positive) =  0.28501707183563396\n",
      "P(Negative) =  0.7154992430474458\n",
      "\n"
     ]
    }
   ],
   "source": [
    "find_type_probability(\"That was a really great movie. I throughly enjoyed watching that movie\")\n",
    "find_type_probability(\"That was a really bad movie. I throughly hated watching that movie\")"
   ]
  },
  {
   "cell_type": "code",
   "execution_count": null,
   "metadata": {
    "collapsed": true
   },
   "outputs": [],
   "source": []
  }
 ],
 "metadata": {
  "kernelspec": {
   "display_name": "Python 3",
   "language": "python",
   "name": "python3"
  },
  "language_info": {
   "codemirror_mode": {
    "name": "ipython",
    "version": 3
   },
   "file_extension": ".py",
   "mimetype": "text/x-python",
   "name": "python",
   "nbconvert_exporter": "python",
   "pygments_lexer": "ipython3",
   "version": "3.4.3"
  }
 },
 "nbformat": 4,
 "nbformat_minor": 0
}
