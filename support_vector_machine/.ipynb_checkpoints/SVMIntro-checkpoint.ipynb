{
 "cells": [
  {
   "cell_type": "markdown",
   "metadata": {},
   "source": [
    "# Support Vector Machine\n",
    "\n",
    "![http://docs.opencv.org/_images/optimal-hyperplane.png](http://docs.opencv.org/_images/optimal-hyperplane.png)\n",
    "\n"
   ]
  },
  {
   "cell_type": "markdown",
   "metadata": {},
   "source": [
    "They are an evolved form of the Perceptron.\n",
    "\n",
    "See this link:  http://www.tristanfletcher.co.uk/SVM%20Explained.pdf  for a nice paper (first 10 pages) that goes into the math.  Also here for the scikit-learn page:  http://scikit-learn.org/stable/modules/svm.html#kernel-functions\n",
    "\n",
    "\n"
   ]
  },
  {
   "cell_type": "code",
   "execution_count": 1,
   "metadata": {
    "collapsed": false
   },
   "outputs": [],
   "source": [
    "%matplotlib inline\n",
    "import pandas as pd\n",
    "import numpy as np\n",
    "import matplotlib.pyplot as plt\n",
    "\n",
    "from sklearn.linear_model import Perceptron\n",
    "from sklearn.svm import SVC\n",
    "from sklearn.cross_validation import train_test_split\n",
    "from sklearn.metrics import confusion_matrix, classification_report\n",
    "import matplotlib.pyplot as plt\n",
    "from sklearn import datasets\n",
    "\n",
    "\n",
    "import warnings\n",
    "warnings.filterwarnings('ignore')"
   ]
  },
  {
   "cell_type": "code",
   "execution_count": 2,
   "metadata": {
    "collapsed": false
   },
   "outputs": [],
   "source": [
    "df = pd.read_csv('mystery.csv',header=None)\n",
    "mdata = df[[0,1]].values\n",
    "cats = df[2].values\n",
    "\n",
    "Xtrain, Xtest, Ctrain, Ctest = train_test_split(mdata, cats)"
   ]
  },
  {
   "cell_type": "code",
   "execution_count": 3,
   "metadata": {
    "collapsed": false
   },
   "outputs": [
    {
     "data": {
      "text/plain": [
       "SVC(C=1.0, cache_size=200, class_weight=None, coef0=0.0, degree=3, gamma=0.0,\n",
       "  kernel='rbf', max_iter=-1, probability=False, random_state=None,\n",
       "  shrinking=True, tol=0.001, verbose=False)"
      ]
     },
     "execution_count": 3,
     "metadata": {},
     "output_type": "execute_result"
    }
   ],
   "source": [
    "classifier = SVC()\n",
    "classifier.fit(Xtrain,Ctrain)"
   ]
  },
  {
   "cell_type": "code",
   "execution_count": null,
   "metadata": {
    "collapsed": true
   },
   "outputs": [],
   "source": []
  },
  {
   "cell_type": "code",
   "execution_count": 4,
   "metadata": {
    "collapsed": false
   },
   "outputs": [
    {
     "name": "stdout",
     "output_type": "stream",
     "text": [
      "             precision    recall  f1-score   support\n",
      "\n",
      "         -1       1.00      0.95      0.98        22\n",
      "          1       0.97      1.00      0.98        28\n",
      "\n",
      "avg / total       0.98      0.98      0.98        50\n",
      "\n"
     ]
    }
   ],
   "source": [
    "Cpred = classifier.predict(Xtest)\n",
    "print(classification_report(Ctest,Cpred))"
   ]
  },
  {
   "cell_type": "markdown",
   "metadata": {},
   "source": [
    "## Compare the performance of the Perceptron and the SVM on the iris and digits data"
   ]
  },
  {
   "cell_type": "markdown",
   "metadata": {},
   "source": [
    "### Iris Data Set"
   ]
  },
  {
   "cell_type": "code",
   "execution_count": 5,
   "metadata": {
    "collapsed": false
   },
   "outputs": [
    {
     "data": {
      "text/plain": [
       "SVC(C=1.0, cache_size=200, class_weight=None, coef0=0.0, degree=3, gamma=0.0,\n",
       "  kernel='rbf', max_iter=-1, probability=False, random_state=None,\n",
       "  shrinking=True, tol=0.001, verbose=False)"
      ]
     },
     "execution_count": 5,
     "metadata": {},
     "output_type": "execute_result"
    }
   ],
   "source": [
    "iris = datasets.load_iris()\n",
    "x,y = iris.data, iris.target\n",
    "Xtrain, Xtest, Ctrain, Ctest = train_test_split(x,y)\n",
    "\n",
    "classifier = SVC()\n",
    "classifier.fit(Xtrain,Ctrain)"
   ]
  },
  {
   "cell_type": "code",
   "execution_count": 6,
   "metadata": {
    "collapsed": false
   },
   "outputs": [
    {
     "name": "stdout",
     "output_type": "stream",
     "text": [
      "             precision    recall  f1-score   support\n",
      "\n",
      "          0       1.00      1.00      1.00         9\n",
      "          1       1.00      1.00      1.00        15\n",
      "          2       1.00      1.00      1.00        14\n",
      "\n",
      "avg / total       1.00      1.00      1.00        38\n",
      "\n"
     ]
    }
   ],
   "source": [
    "Cpred = classifier.predict(Xtest)\n",
    "print(classification_report(Ctest,Cpred))"
   ]
  },
  {
   "cell_type": "code",
   "execution_count": 7,
   "metadata": {
    "collapsed": false
   },
   "outputs": [
    {
     "name": "stdout",
     "output_type": "stream",
     "text": [
      "[[ 9  0  0]\n",
      " [ 0 15  0]\n",
      " [ 0  0 14]]\n"
     ]
    },
    {
     "data": {
      "image/png": "[encoded data removed]",
      "text/plain": [
       "<matplotlib.figure.Figure at 0x103d97da0>"
      ]
     },
     "metadata": {},
     "output_type": "display_data"
    }
   ],
   "source": [
    "ypred = classifier.predict(Xtest)\n",
    "print(confusion_matrix(Ctest,Cpred))\n",
    "\n",
    "plt.imshow(np.log(confusion_matrix(Ctest,Cpred)),\n",
    "          cmap='Blues',interpolation='nearest')\n",
    "plt.grid(False)\n",
    "plt.ylabel('true')\n",
    "plt.xlabel('predicted');"
   ]
  },
  {
   "cell_type": "markdown",
   "metadata": {},
   "source": [
    "# |||||||||||||||||||||||||||||||||||||||||||||||||||||||||||||||||||||||||||||||||||||||||||||||||||||||||||||||||||||||||||||||||||||"
   ]
  },
  {
   "cell_type": "markdown",
   "metadata": {},
   "source": [
    "\n",
    "\n",
    "\n",
    "# Digits Data Set"
   ]
  },
  {
   "cell_type": "code",
   "execution_count": 8,
   "metadata": {
    "collapsed": false
   },
   "outputs": [
    {
     "data": {
      "text/plain": [
       "SVC(C=1.0, cache_size=200, class_weight=None, coef0=0.0, degree=3, gamma=0.0,\n",
       "  kernel='linear', max_iter=-1, probability=False, random_state=None,\n",
       "  shrinking=True, tol=0.001, verbose=False)"
      ]
     },
     "execution_count": 8,
     "metadata": {},
     "output_type": "execute_result"
    }
   ],
   "source": [
    "df = datasets.load_digits(n_class=10)\n",
    "x,y = df.data, df.target\n",
    "Xtrain, Xtest, Ctrain, Ctest = train_test_split(x,y)\n",
    "\n",
    "classifier = SVC(kernel='linear')\n",
    "classifier.fit(Xtrain,Ctrain)"
   ]
  },
  {
   "cell_type": "code",
   "execution_count": 9,
   "metadata": {
    "collapsed": false
   },
   "outputs": [
    {
     "name": "stdout",
     "output_type": "stream",
     "text": [
      "             precision    recall  f1-score   support\n",
      "\n",
      "          0       1.00      0.98      0.99        44\n",
      "          1       0.93      1.00      0.96        50\n",
      "          2       1.00      1.00      1.00        43\n",
      "          3       1.00      1.00      1.00        46\n",
      "          4       0.98      1.00      0.99        49\n",
      "          5       0.98      1.00      0.99        45\n",
      "          6       1.00      0.98      0.99        53\n",
      "          7       0.98      0.98      0.98        45\n",
      "          8       0.97      0.93      0.95        40\n",
      "          9       0.97      0.91      0.94        35\n",
      "\n",
      "avg / total       0.98      0.98      0.98       450\n",
      "\n"
     ]
    }
   ],
   "source": [
    "Cpred = classifier.predict(Xtest)\n",
    "print(classification_report(Ctest,Cpred))"
   ]
  },
  {
   "cell_type": "code",
   "execution_count": 10,
   "metadata": {
    "collapsed": false
   },
   "outputs": [
    {
     "name": "stdout",
     "output_type": "stream",
     "text": [
      "[[43  0  0  0  1  0  0  0  0  0]\n",
      " [ 0 50  0  0  0  0  0  0  0  0]\n",
      " [ 0  0 43  0  0  0  0  0  0  0]\n",
      " [ 0  0  0 46  0  0  0  0  0  0]\n",
      " [ 0  0  0  0 49  0  0  0  0  0]\n",
      " [ 0  0  0  0  0 45  0  0  0  0]\n",
      " [ 0  0  0  0  0  0 52  0  1  0]\n",
      " [ 0  0  0  0  0  0  0 44  0  1]\n",
      " [ 0  2  0  0  0  1  0  0 37  0]\n",
      " [ 0  2  0  0  0  0  0  1  0 32]]\n",
      "[0 1 2 3 4 5 6 7 8 9]\n"
     ]
    },
    {
     "data": {
      "image/png": "[encoded data removed]",
      "text/plain": [
       "<matplotlib.figure.Figure at 0x108f8a4a8>"
      ]
     },
     "metadata": {},
     "output_type": "display_data"
    }
   ],
   "source": [
    "ypred = classifier.predict(Xtest)\n",
    "print(confusion_matrix(Ctest,Cpred))\n",
    "print(df.target_names)\n",
    "plt.imshow(np.log(confusion_matrix(Ctest,Cpred)),\n",
    "          cmap='Blues',interpolation='nearest')\n",
    "plt.grid(False)\n",
    "plt.ylabel('true')\n",
    "plt.xlabel('predicted');"
   ]
  },
  {
   "cell_type": "markdown",
   "metadata": {
    "collapsed": true
   },
   "source": [
    "# |||||||||||||||||||||||||||||||||||||||||||||||||||||||||||||||||||||||||||||||||||||||||||||||||||||||||||||||||||||||||||"
   ]
  },
  {
   "cell_type": "markdown",
   "metadata": {
    "collapsed": false
   },
   "source": [
    "# Typed Letter Images\n",
    "        "
   ]
  },
  {
   "cell_type": "code",
   "execution_count": 11,
   "metadata": {
    "collapsed": false
   },
   "outputs": [
    {
     "data": {
      "text/plain": [
       "SVC(C=1.0, cache_size=200, class_weight=None, coef0=0.0, degree=3, gamma=0.0,\n",
       "  kernel='linear', max_iter=-1, probability=False, random_state=None,\n",
       "  shrinking=True, tol=0.001, verbose=False)"
      ]
     },
     "execution_count": 11,
     "metadata": {},
     "output_type": "execute_result"
    }
   ],
   "source": [
    "temp = list(range(400))\n",
    "df = pd.read_csv('letters.csv',header=None)\n",
    "mdata = df[temp].values\n",
    "cats = df[[400]].values\n",
    "\n",
    "Xtrain, Xtest, Ctrain, Ctest = train_test_split(mdata, cats)\n",
    "\n",
    "classifier = SVC(kernel='linear')\n",
    "classifier.fit(Xtrain,Ctrain)"
   ]
  },
  {
   "cell_type": "code",
   "execution_count": 12,
   "metadata": {
    "collapsed": false
   },
   "outputs": [
    {
     "name": "stdout",
     "output_type": "stream",
     "text": [
      "             precision    recall  f1-score   support\n",
      "\n",
      "          A       0.98      1.00      0.99        57\n",
      "          B       1.00      1.00      1.00        52\n",
      "          C       0.80      0.78      0.79        51\n",
      "          D       1.00      0.96      0.98        51\n",
      "          E       1.00      0.98      0.99        49\n",
      "          F       0.96      1.00      0.98        43\n",
      "          G       1.00      1.00      1.00        60\n",
      "          H       1.00      1.00      1.00        59\n",
      "          I       0.69      0.63      0.66        43\n",
      "          J       0.98      0.96      0.97        53\n",
      "          K       1.00      1.00      1.00        51\n",
      "          L       1.00      1.00      1.00        42\n",
      "          M       1.00      0.98      0.99        62\n",
      "          N       0.98      0.98      0.98        53\n",
      "          O       0.71      0.64      0.67        53\n",
      "          P       1.00      0.94      0.97        36\n",
      "          Q       1.00      1.00      1.00        47\n",
      "          R       1.00      0.96      0.98        48\n",
      "          S       0.67      0.79      0.72        38\n",
      "          T       0.98      1.00      0.99        47\n",
      "          U       0.95      0.95      0.95        42\n",
      "          V       0.70      0.65      0.67        51\n",
      "          W       0.81      0.63      0.71        68\n",
      "          X       0.65      0.70      0.67        50\n",
      "          Y       0.96      0.98      0.97        56\n",
      "          Z       0.76      0.78      0.77        49\n",
      "          a       0.97      0.98      0.97        59\n",
      "          b       0.98      1.00      0.99        49\n",
      "          c       0.71      0.74      0.72        39\n",
      "          d       0.98      0.98      0.98        47\n",
      "          e       0.97      0.98      0.97        57\n",
      "          f       0.94      1.00      0.97        49\n",
      "          g       1.00      0.92      0.96        52\n",
      "          h       0.98      0.96      0.97        50\n",
      "          i       1.00      0.50      0.67         2\n",
      "          j       0.00      0.00      0.00         1\n",
      "          k       0.98      1.00      0.99        41\n",
      "          l       0.63      0.72      0.67        43\n",
      "          m       0.98      1.00      0.99        53\n",
      "          n       0.90      0.96      0.93        55\n",
      "          o       0.65      0.67      0.66        49\n",
      "          p       0.95      1.00      0.98        42\n",
      "          q       0.93      1.00      0.97        43\n",
      "          r       0.96      0.98      0.97        47\n",
      "          s       0.81      0.65      0.72        46\n",
      "          t       1.00      0.97      0.98        58\n",
      "          u       0.96      0.93      0.94        54\n",
      "          v       0.69      0.74      0.71        54\n",
      "          w       0.57      0.76      0.65        42\n",
      "          x       0.71      0.65      0.68        55\n",
      "          y       0.98      0.94      0.96        48\n",
      "          z       0.80      0.78      0.79        55\n",
      "\n",
      "avg / total       0.90      0.89      0.89      2501\n",
      "\n"
     ]
    }
   ],
   "source": [
    "Cpred = classifier.predict(Xtest)\n",
    "print(classification_report(Ctest,Cpred))"
   ]
  },
  {
   "cell_type": "code",
   "execution_count": 13,
   "metadata": {
    "collapsed": false
   },
   "outputs": [
    {
     "name": "stdout",
     "output_type": "stream",
     "text": [
      "[[57  0  0 ...,  0  0  0]\n",
      " [ 0 52  0 ...,  0  0  0]\n",
      " [ 0  0 40 ...,  0  0  0]\n",
      " ..., \n",
      " [ 0  0  0 ..., 36  0  0]\n",
      " [ 0  0  0 ...,  0 45  0]\n",
      " [ 0  0  0 ...,  0  0 43]]\n"
     ]
    },
    {
     "data": {
      "image/png": "[encoded data removed]",
      "text/plain": [
       "<matplotlib.figure.Figure at 0x108c56278>"
      ]
     },
     "metadata": {},
     "output_type": "display_data"
    }
   ],
   "source": [
    "ypred = classifier.predict(Xtest)\n",
    "print(confusion_matrix(Ctest,Cpred))\n",
    "plt.imshow(np.log(confusion_matrix(Ctest,Cpred)),\n",
    "          cmap='Blues',interpolation='nearest')\n",
    "plt.grid(False)\n",
    "plt.ylabel('true')\n",
    "plt.xlabel('predicted');"
   ]
  },
  {
   "cell_type": "code",
   "execution_count": null,
   "metadata": {
    "collapsed": true
   },
   "outputs": [],
   "source": []
  }
 ],
 "metadata": {
  "kernelspec": {
   "display_name": "Python 3",
   "language": "python",
   "name": "python3"
  },
  "language_info": {
   "codemirror_mode": {
    "name": "ipython",
    "version": 3
   },
   "file_extension": ".py",
   "mimetype": "text/x-python",
   "name": "python",
   "nbconvert_exporter": "python",
   "pygments_lexer": "ipython3",
   "version": "3.4.3"
  }
 },
 "nbformat": 4,
 "nbformat_minor": 0
}
