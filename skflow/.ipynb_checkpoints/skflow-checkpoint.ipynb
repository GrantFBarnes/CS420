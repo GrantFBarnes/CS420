{
 "cells": [
  {
   "cell_type": "markdown",
   "metadata": {
    "collapsed": false
   },
   "source": [
    "# SKFlow"
   ]
  },
  {
   "cell_type": "code",
   "execution_count": 16,
   "metadata": {
    "collapsed": false
   },
   "outputs": [
    {
     "name": "stdout",
     "output_type": "stream",
     "text": [
      "Step #1, avg. loss: 0.78198\n",
      "Step #6, avg. loss: 0.77503\n",
      "Step #11, avg. loss: 0.64446\n",
      "Step #16, avg. loss: 0.55808\n",
      "Step #21, avg. loss: 0.53258\n",
      "Step #26, avg. loss: 0.66417\n",
      "Step #31, avg. loss: 0.54165\n",
      "Step #36, avg. loss: 0.60295\n",
      "Step #41, avg. loss: 0.58445\n",
      "Step #46, avg. loss: 0.58475\n",
      "Accuracy: 0.866667\n"
     ]
    }
   ],
   "source": [
    "import skflow\n",
    "from sklearn import datasets, metrics\n",
    "from sklearn.linear_model import LogisticRegression\n",
    "import numpy as np\n",
    "\n",
    "iris = datasets.load_iris()\n",
    "classifier = skflow.TensorFlowLinearClassifier(n_classes=3)\n",
    "classifier.fit(iris.data, iris.target)\n",
    "score = metrics.accuracy_score(classifier.predict(iris.data), iris.target)\n",
    "print(\"Accuracy: %f\" % score)"
   ]
  },
  {
   "cell_type": "code",
   "execution_count": 17,
   "metadata": {
    "collapsed": false
   },
   "outputs": [
    {
     "name": "stdout",
     "output_type": "stream",
     "text": [
      "Step #1, avg. loss: 621.17230\n",
      "Step #6, avg. loss: 527.71362\n",
      "Step #11, avg. loss: 461.25693\n",
      "Step #16, avg. loss: 413.54556\n",
      "Step #21, avg. loss: 369.97858\n",
      "Step #26, avg. loss: 253.18668\n",
      "Step #31, avg. loss: 193.09424\n",
      "Step #36, avg. loss: 184.48141\n",
      "Step #41, avg. loss: 137.55246\n",
      "Step #46, avg. loss: 122.01766\n",
      "MSE: 88.205218\n"
     ]
    }
   ],
   "source": [
    "import skflow\n",
    "from sklearn import datasets, metrics, preprocessing\n",
    "\n",
    "boston = datasets.load_boston()\n",
    "X = preprocessing.StandardScaler().fit_transform(boston.data)\n",
    "regressor = skflow.TensorFlowLinearRegressor()\n",
    "regressor.fit(X, boston.target)\n",
    "score = metrics.mean_squared_error(regressor.predict(X), boston.target)\n",
    "print (\"MSE: %f\" % score)"
   ]
  },
  {
   "cell_type": "code",
   "execution_count": 18,
   "metadata": {
    "collapsed": false
   },
   "outputs": [
    {
     "name": "stdout",
     "output_type": "stream",
     "text": [
      "Step #1, avg. loss: 2.26972\n",
      "Step #6, avg. loss: 1.37979\n",
      "Step #11, avg. loss: 1.22527\n",
      "Step #16, avg. loss: 1.02256\n",
      "Step #21, avg. loss: 0.92510\n",
      "Step #26, avg. loss: 0.90141\n",
      "Step #31, avg. loss: 0.77239\n",
      "Step #36, avg. loss: 0.72056\n",
      "Step #41, avg. loss: 0.76597\n",
      "Step #46, avg. loss: 0.64700\n",
      "Accuracy: 0.666667\n"
     ]
    }
   ],
   "source": [
    "import skflow\n",
    "from sklearn import datasets, metrics\n",
    "\n",
    "iris = datasets.load_iris()\n",
    "classifier = skflow.TensorFlowDNNClassifier(hidden_units=[10, 20, 10], n_classes=3)\n",
    "classifier.fit(iris.data, iris.target)\n",
    "score = metrics.accuracy_score(classifier.predict(iris.data), iris.target)\n",
    "print(\"Accuracy: %f\" % score)"
   ]
  },
  {
   "cell_type": "code",
   "execution_count": 19,
   "metadata": {
    "collapsed": false
   },
   "outputs": [
    {
     "name": "stdout",
     "output_type": "stream",
     "text": [
      "Step #1, avg. loss: 2.08194\n",
      "Step #6, avg. loss: 1.54336\n",
      "Step #11, avg. loss: 1.32321\n",
      "Step #16, avg. loss: 1.29243\n",
      "Step #21, avg. loss: 1.26755\n",
      "Step #26, avg. loss: 0.99657\n",
      "Step #31, avg. loss: 1.01694\n",
      "Step #36, avg. loss: 0.91661\n",
      "Step #41, avg. loss: 0.86029\n",
      "Step #46, avg. loss: 0.82708\n",
      "Accuracy: 0.553333\n"
     ]
    }
   ],
   "source": [
    "import skflow\n",
    "from sklearn import datasets, metrics\n",
    "\n",
    "iris = datasets.load_iris()\n",
    "\n",
    "def my_model(X, y):\n",
    "    \"\"\"This is DNN with 10, 20, 10 hidden layers, and dropout of 0.5 probability.\"\"\"\n",
    "    layers = skflow.ops.dnn(X, [10, 20, 10], keep_prob=0.5)\n",
    "    return skflow.models.logistic_regression(layers, y)\n",
    "\n",
    "classifier = skflow.TensorFlowEstimator(model_fn=my_model, n_classes=3)\n",
    "classifier.fit(iris.data, iris.target)\n",
    "score = metrics.accuracy_score(classifier.predict(iris.data), iris.target)\n",
    "print(\"Accuracy: %f\" % score)"
   ]
  },
  {
   "cell_type": "markdown",
   "metadata": {},
   "source": [
    "# Titantic Data"
   ]
  },
  {
   "cell_type": "markdown",
   "metadata": {},
   "source": [
    "### Using SKLearn"
   ]
  },
  {
   "cell_type": "code",
   "execution_count": 20,
   "metadata": {
    "collapsed": false
   },
   "outputs": [
    {
     "name": "stdout",
     "output_type": "stream",
     "text": [
      "0.664804469274\n"
     ]
    }
   ],
   "source": [
    "import pandas\n",
    "from sklearn.cross_validation import train_test_split\n",
    "\n",
    "data = pandas.read_csv('tf_examples/data/titanic_train.csv')\n",
    "y, X = data['Survived'], data[['Age', 'SibSp', 'Fare']].fillna(0)\n",
    "X_train, X_test, y_train, y_test = train_test_split(X, y, test_size=0.2, random_state=42)\n",
    "lr = LogisticRegression()\n",
    "lr.fit(X_train, y_train)\n",
    "print metrics.accuracy_score(lr.predict(X_test), y_test)"
   ]
  },
  {
   "cell_type": "markdown",
   "metadata": {},
   "source": [
    "## Using FKFlow\n"
   ]
  },
  {
   "cell_type": "code",
   "execution_count": 21,
   "metadata": {
    "collapsed": false
   },
   "outputs": [
    {
     "name": "stdout",
     "output_type": "stream",
     "text": [
      "Step #1, avg. loss: 26.16736\n",
      "Step #51, avg. loss: 4.60090\n",
      "Step #101, avg. loss: 3.14806\n",
      "Step #151, avg. loss: 2.95934\n",
      "Step #201, avg. loss: 2.99349\n",
      "Step #251, avg. loss: 3.05963\n",
      "Step #301, avg. loss: 2.85306\n",
      "Step #351, avg. loss: 3.03066\n",
      "Step #401, avg. loss: 2.99025\n",
      "Step #451, avg. loss: 2.82770\n",
      "0.68156424581\n"
     ]
    }
   ],
   "source": [
    "import skflow\n",
    "import random\n",
    "\n",
    "random.seed(42) # to sample data the same way\n",
    "classifier = skflow.TensorFlowLinearClassifier(n_classes=2, batch_size=128, steps=500, learning_rate=0.05)\n",
    "classifier.fit(np.array(X_train), y_train)\n",
    "print metrics.accuracy_score(classifier.predict(X_test), y_test)"
   ]
  },
  {
   "cell_type": "code",
   "execution_count": null,
   "metadata": {
    "collapsed": true
   },
   "outputs": [],
   "source": []
  },
  {
   "cell_type": "markdown",
   "metadata": {},
   "source": [
    "# Using Luther College Admission Data"
   ]
  },
  {
   "cell_type": "code",
   "execution_count": 41,
   "metadata": {
    "collapsed": true
   },
   "outputs": [],
   "source": [
    "data = pandas.read_csv('data_int.csv')"
   ]
  },
  {
   "cell_type": "markdown",
   "metadata": {},
   "source": [
    "## Attending or not"
   ]
  },
  {
   "cell_type": "code",
   "execution_count": 42,
   "metadata": {
    "collapsed": true
   },
   "outputs": [],
   "source": [
    "y1, X1 = data['attending'], data[['distance', 'class_percentile', 'visited','act']].fillna(0)\n",
    "X_train1, X_test1, y_train1, y_test1 = train_test_split(X, y, test_size=0.2)"
   ]
  },
  {
   "cell_type": "code",
   "execution_count": 43,
   "metadata": {
    "collapsed": false
   },
   "outputs": [
    {
     "name": "stdout",
     "output_type": "stream",
     "text": [
      "0.664804469274\n"
     ]
    }
   ],
   "source": [
    "lr = LogisticRegression()\n",
    "lr.fit(X_train1, y_train1)\n",
    "print metrics.accuracy_score(lr.predict(X_test1), y_test1)"
   ]
  },
  {
   "cell_type": "code",
   "execution_count": 44,
   "metadata": {
    "collapsed": false
   },
   "outputs": [
    {
     "name": "stdout",
     "output_type": "stream",
     "text": [
      "Step #1, avg. loss: 38.62872\n",
      "Step #51, avg. loss: 4.37117\n",
      "Step #101, avg. loss: 3.13203\n",
      "Step #151, avg. loss: 2.82053\n",
      "Step #201, avg. loss: 2.97387\n",
      "Step #251, avg. loss: 2.96353\n",
      "Step #301, avg. loss: 3.01105\n",
      "Step #351, avg. loss: 2.76385\n",
      "Step #401, avg. loss: 2.79359\n",
      "Step #451, avg. loss: 2.97688\n",
      "0.614525139665\n"
     ]
    }
   ],
   "source": [
    "classifier = skflow.TensorFlowLinearClassifier(n_classes=2, batch_size=128, steps=500, learning_rate=0.05)\n",
    "classifier.fit(np.array(X_train1), y_train1)\n",
    "print metrics.accuracy_score(classifier.predict(X_test1), y_test1)"
   ]
  },
  {
   "cell_type": "markdown",
   "metadata": {},
   "source": [
    "## Accepted or not"
   ]
  },
  {
   "cell_type": "code",
   "execution_count": 45,
   "metadata": {
    "collapsed": true
   },
   "outputs": [],
   "source": [
    "y2, X2 = data['accepted'], data[['distance', 'class_percentile', 'visited','act']].fillna(0)\n",
    "X_train2, X_test2, y_train2, y_test2 = train_test_split(X, y, test_size=0.2)"
   ]
  },
  {
   "cell_type": "code",
   "execution_count": 46,
   "metadata": {
    "collapsed": false
   },
   "outputs": [
    {
     "name": "stdout",
     "output_type": "stream",
     "text": [
      "0.653631284916\n"
     ]
    }
   ],
   "source": [
    "lr = LogisticRegression()\n",
    "lr.fit(X_train2, y_train2)\n",
    "print metrics.accuracy_score(lr.predict(X_test2), y_test2)"
   ]
  },
  {
   "cell_type": "code",
   "execution_count": 47,
   "metadata": {
    "collapsed": false
   },
   "outputs": [
    {
     "name": "stdout",
     "output_type": "stream",
     "text": [
      "Step #1, avg. loss: 34.80655\n",
      "Step #51, avg. loss: 4.67989\n",
      "Step #101, avg. loss: 3.27887\n",
      "Step #151, avg. loss: 2.97719\n",
      "Step #201, avg. loss: 2.96897\n",
      "Step #251, avg. loss: 2.93718\n",
      "Step #301, avg. loss: 2.78516\n",
      "Step #351, avg. loss: 2.87127\n",
      "Step #401, avg. loss: 2.71147\n",
      "Step #451, avg. loss: 2.86169\n",
      "0.541899441341\n"
     ]
    }
   ],
   "source": [
    "classifier = skflow.TensorFlowLinearClassifier(n_classes=2, batch_size=128, steps=500, learning_rate=0.05)\n",
    "classifier.fit(np.array(X_train2), y_train2)\n",
    "print metrics.accuracy_score(classifier.predict(X_test2), y_test2)"
   ]
  },
  {
   "cell_type": "code",
   "execution_count": null,
   "metadata": {
    "collapsed": true
   },
   "outputs": [],
   "source": []
  }
 ],
 "metadata": {
  "kernelspec": {
   "display_name": "Python 2",
   "language": "python",
   "name": "python2"
  },
  "language_info": {
   "codemirror_mode": {
    "name": "ipython",
    "version": 2
   },
   "file_extension": ".py",
   "mimetype": "text/x-python",
   "name": "python",
   "nbconvert_exporter": "python",
   "pygments_lexer": "ipython2",
   "version": "2.7.10"
  }
 },
 "nbformat": 4,
 "nbformat_minor": 0
}
