{
 "cells": [
  {
   "cell_type": "markdown",
   "metadata": {
    "collapsed": false
   },
   "source": [
    "# SKFlow"
   ]
  },
  {
   "cell_type": "code",
   "execution_count": 1,
   "metadata": {
    "collapsed": false
   },
   "outputs": [
    {
     "name": "stdout",
     "output_type": "stream",
     "text": [
      "Step #1, avg. loss: 0.73940\n",
      "Step #6, avg. loss: 0.98723\n",
      "Step #11, avg. loss: 0.84934\n",
      "Step #16, avg. loss: 0.61547\n",
      "Step #21, avg. loss: 0.69915\n",
      "Step #26, avg. loss: 0.50782\n",
      "Step #31, avg. loss: 0.62075\n",
      "Step #36, avg. loss: 0.71262\n",
      "Step #41, avg. loss: 0.53582\n",
      "Step #46, avg. loss: 0.60007\n",
      "Accuracy: 0.673333\n"
     ]
    }
   ],
   "source": [
    "import skflow\n",
    "from sklearn import datasets, metrics\n",
    "from sklearn.linear_model import LogisticRegression\n",
    "import numpy as np\n",
    "\n",
    "iris = datasets.load_iris()\n",
    "classifier = skflow.TensorFlowLinearClassifier(n_classes=3)\n",
    "classifier.fit(iris.data, iris.target)\n",
    "score = metrics.accuracy_score(classifier.predict(iris.data), iris.target)\n",
    "print(\"Accuracy: %f\" % score)"
   ]
  },
  {
   "cell_type": "code",
   "execution_count": 2,
   "metadata": {
    "collapsed": false
   },
   "outputs": [
    {
     "name": "stdout",
     "output_type": "stream",
     "text": [
      "Step #1, avg. loss: 603.09216\n",
      "Step #6, avg. loss: 595.99786\n",
      "Step #11, avg. loss: 502.91187\n",
      "Step #16, avg. loss: 423.48126\n",
      "Step #21, avg. loss: 318.29276\n",
      "Step #26, avg. loss: 274.46713\n",
      "Step #31, avg. loss: 203.66376\n",
      "Step #36, avg. loss: 132.25458\n",
      "Step #41, avg. loss: 113.07619\n",
      "Step #46, avg. loss: 106.61577\n",
      "MSE: 96.454276\n"
     ]
    }
   ],
   "source": [
    "import skflow\n",
    "from sklearn import datasets, metrics, preprocessing\n",
    "\n",
    "boston = datasets.load_boston()\n",
    "X = preprocessing.StandardScaler().fit_transform(boston.data)\n",
    "regressor = skflow.TensorFlowLinearRegressor()\n",
    "regressor.fit(X, boston.target)\n",
    "score = metrics.mean_squared_error(regressor.predict(X), boston.target)\n",
    "print (\"MSE: %f\" % score)"
   ]
  },
  {
   "cell_type": "code",
   "execution_count": 3,
   "metadata": {
    "collapsed": false
   },
   "outputs": [
    {
     "name": "stdout",
     "output_type": "stream",
     "text": [
      "Step #1, avg. loss: 2.53525\n",
      "Step #6, avg. loss: 1.53022\n",
      "Step #11, avg. loss: 1.15271\n",
      "Step #16, avg. loss: 1.09855\n",
      "Step #21, avg. loss: 1.02066\n",
      "Step #26, avg. loss: 0.96356\n",
      "Step #31, avg. loss: 0.88170\n",
      "Step #36, avg. loss: 0.73331\n",
      "Step #41, avg. loss: 0.73909\n",
      "Step #46, avg. loss: 0.64568\n",
      "Accuracy: 0.666667\n"
     ]
    }
   ],
   "source": [
    "import skflow\n",
    "from sklearn import datasets, metrics\n",
    "\n",
    "iris = datasets.load_iris()\n",
    "classifier = skflow.TensorFlowDNNClassifier(hidden_units=[10, 20, 10], n_classes=3)\n",
    "classifier.fit(iris.data, iris.target)\n",
    "score = metrics.accuracy_score(classifier.predict(iris.data), iris.target)\n",
    "print(\"Accuracy: %f\" % score)"
   ]
  },
  {
   "cell_type": "code",
   "execution_count": 4,
   "metadata": {
    "collapsed": false
   },
   "outputs": [
    {
     "name": "stdout",
     "output_type": "stream",
     "text": [
      "Step #1, avg. loss: 1.88602\n",
      "Step #6, avg. loss: 1.61660\n",
      "Step #11, avg. loss: 1.24053\n",
      "Step #16, avg. loss: 1.29660\n",
      "Step #21, avg. loss: 1.20027\n",
      "Step #26, avg. loss: 1.18047\n",
      "Step #31, avg. loss: 1.06887\n",
      "Step #36, avg. loss: 0.94805\n",
      "Step #41, avg. loss: 0.86077\n",
      "Step #46, avg. loss: 0.93819\n",
      "Accuracy: 0.553333\n"
     ]
    }
   ],
   "source": [
    "import skflow\n",
    "from sklearn import datasets, metrics\n",
    "\n",
    "iris = datasets.load_iris()\n",
    "\n",
    "def my_model(X, y):\n",
    "    \"\"\"This is DNN with 10, 20, 10 hidden layers, and dropout of 0.5 probability.\"\"\"\n",
    "    layers = skflow.ops.dnn(X, [10, 20, 10], keep_prob=0.5)\n",
    "    return skflow.models.logistic_regression(layers, y)\n",
    "\n",
    "classifier = skflow.TensorFlowEstimator(model_fn=my_model, n_classes=3)\n",
    "classifier.fit(iris.data, iris.target)\n",
    "score = metrics.accuracy_score(classifier.predict(iris.data), iris.target)\n",
    "print(\"Accuracy: %f\" % score)"
   ]
  },
  {
   "cell_type": "markdown",
   "metadata": {},
   "source": [
    "# Titantic Data"
   ]
  },
  {
   "cell_type": "markdown",
   "metadata": {},
   "source": [
    "### Using SKLearn"
   ]
  },
  {
   "cell_type": "code",
   "execution_count": 5,
   "metadata": {
    "collapsed": false
   },
   "outputs": [
    {
     "name": "stdout",
     "output_type": "stream",
     "text": [
      "0.664804469274\n"
     ]
    }
   ],
   "source": [
    "import pandas\n",
    "from sklearn.cross_validation import train_test_split\n",
    "\n",
    "data = pandas.read_csv('tf_examples/data/titanic_train.csv')\n",
    "y, X = data['Survived'], data[['Age', 'SibSp', 'Fare']].fillna(0)\n",
    "X_train, X_test, y_train, y_test = train_test_split(X, y, test_size=0.2, random_state=42)\n",
    "lr = LogisticRegression()\n",
    "lr.fit(X_train, y_train)\n",
    "print metrics.accuracy_score(lr.predict(X_test), y_test)"
   ]
  },
  {
   "cell_type": "markdown",
   "metadata": {},
   "source": [
    "## Using FKFlow\n"
   ]
  },
  {
   "cell_type": "code",
   "execution_count": 6,
   "metadata": {
    "collapsed": false
   },
   "outputs": [
    {
     "name": "stdout",
     "output_type": "stream",
     "text": [
      "Step #1, avg. loss: 26.16736\n",
      "Step #51, avg. loss: 4.60090\n",
      "Step #101, avg. loss: 3.14806\n",
      "Step #151, avg. loss: 2.95934\n",
      "Step #201, avg. loss: 2.99349\n",
      "Step #251, avg. loss: 3.05963\n",
      "Step #301, avg. loss: 2.85306\n",
      "Step #351, avg. loss: 3.03066\n",
      "Step #401, avg. loss: 2.99025\n",
      "Step #451, avg. loss: 2.82770\n",
      "0.68156424581\n"
     ]
    }
   ],
   "source": [
    "import skflow\n",
    "import random\n",
    "\n",
    "random.seed(42) # to sample data the same way\n",
    "classifier = skflow.TensorFlowLinearClassifier(n_classes=2, batch_size=128, steps=500, learning_rate=0.05)\n",
    "classifier.fit(np.array(X_train), y_train)\n",
    "print metrics.accuracy_score(classifier.predict(X_test), y_test)"
   ]
  },
  {
   "cell_type": "code",
   "execution_count": null,
   "metadata": {
    "collapsed": true
   },
   "outputs": [],
   "source": []
  },
  {
   "cell_type": "markdown",
   "metadata": {},
   "source": [
    "# Using Luther College Admission Data"
   ]
  },
  {
   "cell_type": "code",
   "execution_count": 7,
   "metadata": {
    "collapsed": true
   },
   "outputs": [],
   "source": [
    "data = pandas.read_csv('data_int.csv')"
   ]
  },
  {
   "cell_type": "markdown",
   "metadata": {},
   "source": [
    "## Attending or not"
   ]
  },
  {
   "cell_type": "code",
   "execution_count": 8,
   "metadata": {
    "collapsed": true
   },
   "outputs": [],
   "source": [
    "y1, X1 = data['attending'], data[['distance', 'class_percentile', 'visited','act']].fillna(0)\n",
    "X_train1, X_test1, y_train1, y_test1 = train_test_split(X, y, test_size=0.2)"
   ]
  },
  {
   "cell_type": "code",
   "execution_count": 9,
   "metadata": {
    "collapsed": false
   },
   "outputs": [
    {
     "name": "stdout",
     "output_type": "stream",
     "text": [
      "0.715083798883\n"
     ]
    }
   ],
   "source": [
    "lr = LogisticRegression()\n",
    "lr.fit(X_train1, y_train1)\n",
    "print metrics.accuracy_score(lr.predict(X_test1), y_test1)"
   ]
  },
  {
   "cell_type": "code",
   "execution_count": 10,
   "metadata": {
    "collapsed": false
   },
   "outputs": [
    {
     "name": "stdout",
     "output_type": "stream",
     "text": [
      "Step #1, avg. loss: 51.82570\n",
      "Step #51, avg. loss: 4.47064\n",
      "Step #101, avg. loss: 2.99888\n",
      "Step #151, avg. loss: 3.06597\n",
      "Step #201, avg. loss: 2.94103\n",
      "Step #251, avg. loss: 2.85918\n",
      "Step #301, avg. loss: 2.91118\n",
      "Step #351, avg. loss: 2.94023\n",
      "Step #401, avg. loss: 2.84875\n",
      "Step #451, avg. loss: 2.84601\n",
      "0.480446927374\n"
     ]
    }
   ],
   "source": [
    "classifier = skflow.TensorFlowLinearClassifier(n_classes=2, batch_size=128, steps=500, learning_rate=0.05)\n",
    "classifier.fit(np.array(X_train1), y_train1)\n",
    "print metrics.accuracy_score(classifier.predict(X_test1), y_test1)"
   ]
  },
  {
   "cell_type": "markdown",
   "metadata": {},
   "source": [
    "## Accepted or not"
   ]
  },
  {
   "cell_type": "code",
   "execution_count": 11,
   "metadata": {
    "collapsed": true
   },
   "outputs": [],
   "source": [
    "y2, X2 = data['accepted'], data[['distance', 'class_percentile', 'visited','act']].fillna(0)\n",
    "X_train2, X_test2, y_train2, y_test2 = train_test_split(X, y, test_size=0.2)"
   ]
  },
  {
   "cell_type": "code",
   "execution_count": 12,
   "metadata": {
    "collapsed": false
   },
   "outputs": [
    {
     "name": "stdout",
     "output_type": "stream",
     "text": [
      "0.698324022346\n"
     ]
    }
   ],
   "source": [
    "lr = LogisticRegression()\n",
    "lr.fit(X_train2, y_train2)\n",
    "print metrics.accuracy_score(lr.predict(X_test2), y_test2)"
   ]
  },
  {
   "cell_type": "code",
   "execution_count": 13,
   "metadata": {
    "collapsed": false
   },
   "outputs": [
    {
     "name": "stdout",
     "output_type": "stream",
     "text": [
      "Step #1, avg. loss: 36.51136\n",
      "Step #51, avg. loss: 4.90246\n",
      "Step #101, avg. loss: 3.16234\n",
      "Step #151, avg. loss: 2.98122\n",
      "Step #201, avg. loss: 2.86248\n",
      "Step #251, avg. loss: 3.08886\n",
      "Step #301, avg. loss: 2.93802\n",
      "Step #351, avg. loss: 2.82123\n",
      "Step #401, avg. loss: 2.91605\n",
      "Step #451, avg. loss: 2.84474\n",
      "0.396648044693\n"
     ]
    }
   ],
   "source": [
    "classifier = skflow.TensorFlowLinearClassifier(n_classes=2, batch_size=128, steps=500, learning_rate=0.05)\n",
    "classifier.fit(np.array(X_train2), y_train2)\n",
    "print metrics.accuracy_score(classifier.predict(X_test2), y_test2)"
   ]
  },
  {
   "cell_type": "code",
   "execution_count": null,
   "metadata": {
    "collapsed": true
   },
   "outputs": [],
   "source": []
  }
 ],
 "metadata": {
  "kernelspec": {
   "display_name": "Python 2",
   "language": "python",
   "name": "python2"
  },
  "language_info": {
   "codemirror_mode": {
    "name": "ipython",
    "version": 2
   },
   "file_extension": ".py",
   "mimetype": "text/x-python",
   "name": "python",
   "nbconvert_exporter": "python",
   "pygments_lexer": "ipython2",
   "version": "2.7.10"
  }
 },
 "nbformat": 4,
 "nbformat_minor": 0
}
