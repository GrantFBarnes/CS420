{
 "cells": [
  {
   "cell_type": "code",
   "execution_count": 1,
   "metadata": {
    "collapsed": false
   },
   "outputs": [],
   "source": [
    "%matplotlib inline\n",
    "import pandas as pd\n",
    "import numpy as np\n",
    "import matplotlib.pyplot as plt\n",
    "from sklearn.cross_validation import train_test_split\n",
    "import seaborn as sbn\n",
    "sbn.set()\n",
    "from matplotlib.colors import ListedColormap\n",
    "\n",
    "import warnings\n",
    "warnings.filterwarnings('ignore')"
   ]
  },
  {
   "cell_type": "code",
   "execution_count": 2,
   "metadata": {
    "collapsed": false
   },
   "outputs": [],
   "source": [
    "zipcodes = pd.DataFrame.from_csv(\"zipcode.csv\")\n",
    "zipcode_dict = {}\n",
    "\n",
    "for index, row in zipcodes.iterrows():\n",
    "    zipcode_dict[row['zip']] = (row['longitude'],row['latitude'])\n"
   ]
  },
  {
   "cell_type": "code",
   "execution_count": 3,
   "metadata": {
    "collapsed": true
   },
   "outputs": [],
   "source": [
    "import math\n",
    "def get_distance(zipcode):\n",
    "\n",
    "    long_1 = math.radians(zipcode_dict[52101][0])\n",
    "    lat_1  = math.radians(zipcode_dict[52101][1])\n",
    "\n",
    "    long_2 = math.radians(zipcode_dict[zipcode][0])\n",
    "    lat_2  = math.radians(zipcode_dict[zipcode][1])\n",
    "\n",
    "    dlong = long_2 - long_1\n",
    "    dlat = lat_2 - lat_1\n",
    "    a = (math.sin(dlat / 2))**2 + math.cos(lat_1) * math.cos(lat_2) * (math.sin(dlong / 2))**2\n",
    "    c = 2 * math.asin(min(1, math.sqrt(a)))\n",
    "    dist = 3956 * c\n",
    "    return dist"
   ]
  },
  {
   "cell_type": "code",
   "execution_count": 4,
   "metadata": {
    "collapsed": false
   },
   "outputs": [
    {
     "data": {
      "text/plain": [
       "103.48712083148806"
      ]
     },
     "execution_count": 4,
     "metadata": {},
     "output_type": "execute_result"
    }
   ],
   "source": [
    "get_distance(53516)"
   ]
  },
  {
   "cell_type": "code",
   "execution_count": null,
   "metadata": {
    "collapsed": false
   },
   "outputs": [],
   "source": []
  },
  {
   "cell_type": "code",
   "execution_count": 140,
   "metadata": {
    "collapsed": false
   },
   "outputs": [],
   "source": [
    "\n",
    "data = pd.DataFrame.from_csv(\"original_data.csv\")\n",
    "\n",
    "data.columns = ['address1','address2','city','region','zip','entry_term','career_goal_1','career_goal_2','career_goal_3','hs_code','hs_name','decision','inquiry','race','hispanic','hs_rank','hs_size','hs_gpa','act','sat_verbal','sat_math','parents_college','alumni_child','luther_sibling']\n",
    "\n",
    "\n",
    "\n",
    "accepted = []\n",
    "for index, row in data.iterrows():\n",
    "    if row['decision'] == \"Cancel Application\" or row['decision'] == \"Deferred\" or row['decision'] == \"Denied\":\n",
    "        accepted.append(0)\n",
    "    else:\n",
    "        accepted.append(1)\n",
    "\n",
    "data['accepted'] = accepted\n",
    "\n",
    "\n",
    "hs_gpa = []\n",
    "for index, row in data.iterrows():\n",
    "    if type(row['hs_gpa']) == float:\n",
    "        hs_gpa.append(0)\n",
    "    else:\n",
    "        hs_gpa.append(float((row['hs_gpa']).replace(\",\",\".\")))\n",
    "\n",
    "del data['hs_gpa']\n",
    "data['hs_gpa'] = hs_gpa\n",
    "\n",
    "\n",
    "attending = []\n",
    "for index, row in data.iterrows():\n",
    "    if row['decision'] == \"Deposited\":\n",
    "        attending.append(1)\n",
    "    else:\n",
    "        attending.append(0)\n",
    "\n",
    "data['attending'] = attending\n",
    "        \n",
    "\n",
    "visited = []\n",
    "for index, row in data.iterrows():\n",
    "    if 'V' in row['inquiry']:\n",
    "        visited.append(1)\n",
    "    else:\n",
    "        visited.append(0)\n",
    "\n",
    "data['visited'] = visited\n",
    "        \n",
    "\n",
    "\n",
    "classPos = []\n",
    "for index, row in data.iterrows():\n",
    "    r = row['hs_rank']/row['hs_size']\n",
    "    if np.isnan(r):\n",
    "        classPos.append(0)\n",
    "    else:\n",
    "        classPos.append(100-(100*r)//1.00)\n",
    "        \n",
    "data['class_percentile'] = classPos\n",
    "        \n",
    "\n",
    "# inquiry_status = {'DRMA':'dropped because bad address/no address',\n",
    "#                   'DROP':'dropped',\n",
    "#                   'DRPH':'dropped from phone call',\n",
    "#                   'IQ1':'inquiry search sourse, weak source',\n",
    "#                   'IQ2':'inquiry from strong source',\n",
    "#                   'IQ3':'had contact with after inquiry',\n",
    "#                   'IQ4':'had second significant contact',\n",
    "#                   'IQCH':'counselors hot prospect list',\n",
    "#                   'IQCL':'potentially high prospect',\n",
    "#                   'IQVH':'after visit, high level interest',\n",
    "#                   'IQVI':'visited, no interest determined',\n",
    "#                   'IQVL':'visited, low level interest',\n",
    "#                   'IQVM':'visited, medium level interest',\n",
    "#                   'IQVS':'scheduled visit to luther',\n",
    "#                   'IQVU':'unreachable after visit',\n",
    "#                   'Low':'little interest or low act score'\n",
    "#                  }\n",
    "\n",
    "# high_interest = ['IQCH',\"IQCL\",\"IQVH\",\"IQ4\"]\n",
    "# medium_interest = [\"IQ2\",\"IQ3\",\"IQVM\",\"IQVS\"]\n",
    "# low_interest = [\"IQ1\",'IQVI',\"IQVL\",\"Low\"]\n",
    "# no_interest = [\"DRMA\",\"DROP\",\"DRPH\",\"IQVU\"]\n",
    "\n",
    "# interest = []\n",
    "# for index, row in data.iterrows():\n",
    "#     if row['inquiry'] in high_interest:\n",
    "#         interest.append(3)\n",
    "#     elif row['inquiry'] in medium_interest:\n",
    "#         interest.append(2)\n",
    "#     elif row['inquiry'] in low_interest:\n",
    "#         interest.append(1)\n",
    "#     elif row['inquiry'] in no_interest:\n",
    "#         interest.append(0)\n",
    "\n",
    "# data['interest'] = interest\n",
    "        \n",
    "    \n",
    "    \n",
    "distance = []\n",
    "for index, row in data.iterrows():\n",
    "    if type(row['zip']) == str:\n",
    "        zipc = int(row['zip'].split('-')[0])\n",
    "    else:\n",
    "        zipc = row['zip']\n",
    "    if zipc in zipcode_dict:\n",
    "        distance.append(get_distance(zipc))\n",
    "    else:\n",
    "        distance.append(0)\n",
    "        \n",
    "data['distance'] = distance\n",
    "    \n",
    "    \n",
    "final = []\n",
    "for index, row in data.iterrows():\n",
    "    if row['attending'] == 1:\n",
    "        final.append(2)\n",
    "    elif row['accepted'] == 1:\n",
    "        final.append(1)\n",
    "    else:\n",
    "        final.append(0)\n",
    "        \n",
    "data['final'] = final\n",
    "data.to_csv(\"data_int.csv\")\n",
    "\n",
    "\n"
   ]
  },
  {
   "cell_type": "code",
   "execution_count": 53,
   "metadata": {
    "collapsed": true
   },
   "outputs": [],
   "source": []
  },
  {
   "cell_type": "code",
   "execution_count": 6,
   "metadata": {
    "collapsed": false
   },
   "outputs": [
    {
     "data": {
      "text/plain": [
       "Index(['address1', 'address2', 'city', 'region', 'zip', 'entry_term',\n",
       "       'career_goal_1', 'career_goal_2', 'career_goal_3', 'hs_code', 'hs_name',\n",
       "       'decision', 'inquiry', 'race', 'hispanic', 'hs_rank', 'hs_size', 'act',\n",
       "       'sat_verbal', 'sat_math', 'parents_college', 'alumni_child',\n",
       "       'luther_sibling', 'accepted', 'hs_gpa', 'attending', 'visited',\n",
       "       'class_percentile', 'interest', 'distance'],\n",
       "      dtype='object')"
      ]
     },
     "execution_count": 6,
     "metadata": {},
     "output_type": "execute_result"
    }
   ],
   "source": [
    "data.columns"
   ]
  },
  {
   "cell_type": "code",
   "execution_count": null,
   "metadata": {
    "collapsed": true
   },
   "outputs": [],
   "source": []
  },
  {
   "cell_type": "code",
   "execution_count": 56,
   "metadata": {
    "collapsed": false
   },
   "outputs": [
    {
     "data": {
      "text/plain": [
       "array([1, 1, 1, ..., 0, 0, 1])"
      ]
     },
     "execution_count": 56,
     "metadata": {},
     "output_type": "execute_result"
    }
   ],
   "source": [
    "attending = data['attending']\n",
    "attending_array = np.array(attending)\n",
    "\n",
    "accepted = data['accepted']\n",
    "accepted_array = np.array(accepted)\n",
    "\n",
    "final = data['final']\n",
    "final_array = np.array(final)\n",
    "final_array"
   ]
  },
  {
   "cell_type": "code",
   "execution_count": 48,
   "metadata": {
    "collapsed": false
   },
   "outputs": [
    {
     "data": {
      "text/plain": [
       "Index(['address1', 'address2', 'city', 'region', 'zip', 'entry_term',\n",
       "       'career_goal_1', 'career_goal_2', 'career_goal_3', 'hs_code', 'hs_name',\n",
       "       'decision', 'inquiry', 'race', 'hispanic', 'hs_rank', 'hs_size', 'act',\n",
       "       'sat_verbal', 'sat_math', 'parents_college', 'alumni_child',\n",
       "       'luther_sibling', 'accepted', 'hs_gpa', 'attending', 'visited',\n",
       "       'class_percentile', 'interest', 'distance', 'final'],\n",
       "      dtype='object')"
      ]
     },
     "execution_count": 48,
     "metadata": {},
     "output_type": "execute_result"
    }
   ],
   "source": [
    "data.columns"
   ]
  },
  {
   "cell_type": "code",
   "execution_count": 88,
   "metadata": {
    "collapsed": false
   },
   "outputs": [
    {
     "data": {
      "text/plain": [
       "array([[3.95, 1, 92.0, 957.4183474023392],\n",
       "       [4.025, 0, 97.0, 326.44120346058423],\n",
       "       [2.97, 1, 0.0, 232.11299399685302],\n",
       "       ..., \n",
       "       [0.0, 0, 0.0, 41.91318431026117],\n",
       "       [0.0, 0, 0.0, 0.0],\n",
       "       [4.0, 0, 95.0, 148.91964303383534]], dtype=object)"
      ]
     },
     "execution_count": 88,
     "metadata": {},
     "output_type": "execute_result"
    }
   ],
   "source": [
    "temp = data.copy(False)\n",
    "del temp[\"accepted\"]\n",
    "del temp['attending']\n",
    "del temp['final']\n",
    "del temp['interest']\n",
    "\n",
    "data_array = np.array(temp)\n",
    "data_array = data_array[:,-4:]\n",
    "data_array"
   ]
  },
  {
   "cell_type": "code",
   "execution_count": 50,
   "metadata": {
    "collapsed": false
   },
   "outputs": [
    {
     "data": {
      "text/plain": [
       "Index(['address1', 'address2', 'city', 'region', 'zip', 'entry_term',\n",
       "       'career_goal_1', 'career_goal_2', 'career_goal_3', 'hs_code', 'hs_name',\n",
       "       'decision', 'inquiry', 'race', 'hispanic', 'hs_rank', 'hs_size', 'act',\n",
       "       'sat_verbal', 'sat_math', 'parents_college', 'alumni_child',\n",
       "       'luther_sibling', 'hs_gpa', 'visited', 'class_percentile', 'interest',\n",
       "       'distance'],\n",
       "      dtype='object')"
      ]
     },
     "execution_count": 50,
     "metadata": {},
     "output_type": "execute_result"
    }
   ],
   "source": [
    "temp.columns"
   ]
  },
  {
   "cell_type": "markdown",
   "metadata": {},
   "source": [
    "# Create training and test data and results"
   ]
  },
  {
   "cell_type": "code",
   "execution_count": 89,
   "metadata": {
    "collapsed": false
   },
   "outputs": [
    {
     "data": {
      "text/plain": [
       "4232"
      ]
     },
     "execution_count": 89,
     "metadata": {},
     "output_type": "execute_result"
    }
   ],
   "source": [
    "x_train, x_test, y_train, y_test = train_test_split(\n",
    "    data_array, attending_array, test_size=0.3)\n",
    "\n",
    "len(x_train)\n",
    "# x_train, x_test, y_train, y_test = train_test_split(\n",
    "#     data_array, classifications_array, test_size=0.3)\n",
    "\n"
   ]
  },
  {
   "cell_type": "markdown",
   "metadata": {},
   "source": [
    "# Analysis"
   ]
  },
  {
   "cell_type": "markdown",
   "metadata": {
    "collapsed": true
   },
   "source": [
    "# Logistic Model"
   ]
  },
  {
   "cell_type": "code",
   "execution_count": 11,
   "metadata": {
    "collapsed": false
   },
   "outputs": [],
   "source": [
    "import math\n",
    "\n",
    "def logistic_attending(dist,visited,hs_gpa,act):\n",
    "    if visited == \"Yes\":\n",
    "        visited = 1\n",
    "    else:\n",
    "        visited = 0\n",
    "    x = -3.2240104 - 0.0005415*(dist) + 2.6997458*(visited) + 0.2845320*(hs_gpa) - 0.0361189*(act)\n",
    "    \n",
    "    val = math.exp(x)\n",
    "    \n",
    "    answer = str(((val/(1+val))*100)//1.00)+\"% chance of attending Luther\"\n",
    "    \n",
    "    return answer\n",
    "    \n",
    "    \n",
    "    \n",
    "    \n",
    "    "
   ]
  },
  {
   "cell_type": "code",
   "execution_count": 13,
   "metadata": {
    "collapsed": false
   },
   "outputs": [
    {
     "name": "stdout",
     "output_type": "stream",
     "text": [
      "34.0% chance of attending Luther\n"
     ]
    }
   ],
   "source": [
    "print(logistic_attending(20,\"Yes\",4.2,36))"
   ]
  },
  {
   "cell_type": "code",
   "execution_count": 14,
   "metadata": {
    "collapsed": true
   },
   "outputs": [],
   "source": [
    "def logistic_accepted(visited,hs_gpa,act,class_percentile):\n",
    "    if visited == \"Yes\":\n",
    "        visited = 1\n",
    "    else:\n",
    "        visited = 0\n",
    "    x = -22.031673 + 1.304211*(visited) + 4.005931*(hs_gpa) + 0.539546*(act) + 0.009890*(class_percentile)\n",
    "    \n",
    "    val = math.exp(x)\n",
    "    \n",
    "    answer = str(((val/(1+val))*100)//1.00)+\"% chance of being accepted to Luther\"\n",
    "    \n",
    "    return answer"
   ]
  },
  {
   "cell_type": "code",
   "execution_count": 19,
   "metadata": {
    "collapsed": false
   },
   "outputs": [
    {
     "name": "stdout",
     "output_type": "stream",
     "text": [
      "40.0% chance of being accepted to Luther\n"
     ]
    }
   ],
   "source": [
    "print(logistic_accepted(\"Yes\",1.5,25,85))"
   ]
  },
  {
   "cell_type": "markdown",
   "metadata": {},
   "source": [
    "## Bayes Theorem\n",
    "\n",
    "$P(A|B) = \\frac{P(A)P(B|A)}{P(B)}$"
   ]
  },
  {
   "cell_type": "markdown",
   "metadata": {},
   "source": [
    "Probability of attending given visited"
   ]
  },
  {
   "cell_type": "code",
   "execution_count": 21,
   "metadata": {
    "collapsed": false
   },
   "outputs": [
    {
     "data": {
      "text/plain": [
       "0.18974480151228734"
      ]
     },
     "execution_count": 21,
     "metadata": {},
     "output_type": "execute_result"
    }
   ],
   "source": [
    "yes = 0\n",
    "no = 0\n",
    "for x in y_train:\n",
    "    if (x) == 0:\n",
    "        no += 1\n",
    "    else:\n",
    "        yes += 1\n",
    "        \n",
    "p_a = yes/(no+yes)\n",
    "p_a"
   ]
  },
  {
   "cell_type": "code",
   "execution_count": 27,
   "metadata": {
    "collapsed": false
   },
   "outputs": [],
   "source": [
    "def attending_bayes_visited(yn):\n",
    "    p_a = 0.1838374291115312\n",
    "\n",
    "    yes = 0\n",
    "    no = 0\n",
    "    for x in x_train:\n",
    "        if (x[-4]) == 0:\n",
    "            no += 1\n",
    "        else:\n",
    "            yes += 1\n",
    "\n",
    "    if yn == 1:\n",
    "        p_b = yes/(no+yes)\n",
    "    else:\n",
    "        p_b = no/(no+yes)\n",
    "\n",
    "    yes = 0\n",
    "    no = 0\n",
    "    for x in range(len(x_train)):\n",
    "        if (y_train[x]) == 1:\n",
    "            if (x_train[x][-4]) == 0:\n",
    "                no += 1\n",
    "            else:\n",
    "                yes += 1\n",
    "            \n",
    "    if yn == 1:\n",
    "        p_b_given_a = yes/(no+yes)\n",
    "    else:\n",
    "        p_b_given_a = no/(no+yes)\n",
    "\n",
    "    p_a_given_b = ((p_a)*(p_b_given_a))/p_b\n",
    "    print(p_a_given_b)\n",
    "    "
   ]
  },
  {
   "cell_type": "code",
   "execution_count": 28,
   "metadata": {
    "collapsed": false
   },
   "outputs": [
    {
     "name": "stdout",
     "output_type": "stream",
     "text": [
      "0.36743250836086155\n",
      "0.02754870460619571\n"
     ]
    }
   ],
   "source": [
    "attending_bayes_visited(1)\n",
    "attending_bayes_visited(0)"
   ]
  },
  {
   "cell_type": "code",
   "execution_count": null,
   "metadata": {
    "collapsed": true
   },
   "outputs": [],
   "source": []
  },
  {
   "cell_type": "code",
   "execution_count": 29,
   "metadata": {
    "collapsed": true
   },
   "outputs": [],
   "source": [
    "x_train, x_test, y_train, y_test = train_test_split(\n",
    "    data_array, accepted_array, test_size=0.3)"
   ]
  },
  {
   "cell_type": "code",
   "execution_count": 30,
   "metadata": {
    "collapsed": false
   },
   "outputs": [
    {
     "data": {
      "text/plain": [
       "0.7582703213610587"
      ]
     },
     "execution_count": 30,
     "metadata": {},
     "output_type": "execute_result"
    }
   ],
   "source": [
    "yes = 0\n",
    "no = 0\n",
    "for x in y_train:\n",
    "    if (x) == 0:\n",
    "        no += 1\n",
    "    else:\n",
    "        yes += 1\n",
    "        \n",
    "p_a = yes/(no+yes)\n",
    "p_a"
   ]
  },
  {
   "cell_type": "code",
   "execution_count": 31,
   "metadata": {
    "collapsed": false
   },
   "outputs": [],
   "source": [
    "def accepted_bayes_visited(yn):\n",
    "    p_a = 0.7582703213610587\n",
    "\n",
    "    yes = 0\n",
    "    no = 0\n",
    "    for x in x_train:\n",
    "        if (x[-4]) == 0:\n",
    "            no += 1\n",
    "        else:\n",
    "            yes += 1\n",
    "\n",
    "    if yn == 1:\n",
    "        p_b = yes/(no+yes)\n",
    "    else:\n",
    "        p_b = no/(no+yes)\n",
    "\n",
    "    yes = 0\n",
    "    no = 0\n",
    "    for x in range(len(x_train)):\n",
    "        if (y_train[x]) == 1:\n",
    "            if (x_train[x][-4]) == 0:\n",
    "                no += 1\n",
    "            else:\n",
    "                yes += 1\n",
    "            \n",
    "    if yn == 1:\n",
    "        p_b_given_a = yes/(no+yes)\n",
    "    else:\n",
    "        p_b_given_a = no/(no+yes)\n",
    "\n",
    "    p_a_given_b = ((p_a)*(p_b_given_a))/p_b\n",
    "    print(p_a_given_b)\n",
    "    "
   ]
  },
  {
   "cell_type": "code",
   "execution_count": 33,
   "metadata": {
    "collapsed": false
   },
   "outputs": [
    {
     "name": "stdout",
     "output_type": "stream",
     "text": [
      "0.9564089257913856\n",
      "0.5926247288503255\n"
     ]
    }
   ],
   "source": [
    "accepted_bayes_visited(1)\n",
    "accepted_bayes_visited(0)"
   ]
  },
  {
   "cell_type": "code",
   "execution_count": 37,
   "metadata": {
    "collapsed": true
   },
   "outputs": [],
   "source": [
    "x_train, x_test, y_train, y_test = train_test_split(\n",
    "    data_array, attending_array, test_size=0.3)"
   ]
  },
  {
   "cell_type": "code",
   "execution_count": 42,
   "metadata": {
    "collapsed": true
   },
   "outputs": [],
   "source": [
    "def bayes_dist(dist):\n",
    "    \n",
    "    p_a = 0.1838374291115312\n",
    "\n",
    "    yes = 0\n",
    "    no = 0\n",
    "    for x in x_train:\n",
    "        if (x[-1]) < dist:\n",
    "            yes += 1\n",
    "        else:\n",
    "            no += 1\n",
    "\n",
    "    p_b = yes/(no+yes)\n",
    "\n",
    "    yes = 0\n",
    "    no = 0\n",
    "    for x in range(len(x_train)):\n",
    "        if (y_train[x]) == 1:\n",
    "            if (x_train[x][-1]) < dist:\n",
    "                yes += 1\n",
    "            else:\n",
    "                no += 1\n",
    "    p_b_given_a = yes/(no+yes)\n",
    "\n",
    "    p_a_given_b = ((p_a)*(p_b_given_a))/p_b\n",
    "    print(p_a_given_b)"
   ]
  },
  {
   "cell_type": "code",
   "execution_count": 43,
   "metadata": {
    "collapsed": false
   },
   "outputs": [
    {
     "name": "stdout",
     "output_type": "stream",
     "text": [
      "0.37394086708139357\n",
      "0.27990841977385295\n",
      "0.18549100569594637\n"
     ]
    }
   ],
   "source": [
    "bayes_dist(1)\n",
    "bayes_dist(100)\n",
    "bayes_dist(1000)"
   ]
  },
  {
   "cell_type": "code",
   "execution_count": 44,
   "metadata": {
    "collapsed": true
   },
   "outputs": [],
   "source": [
    "x_train, x_test, y_train, y_test = train_test_split(\n",
    "    data_array, accepted_array, test_size=0.3)"
   ]
  },
  {
   "cell_type": "code",
   "execution_count": 45,
   "metadata": {
    "collapsed": true
   },
   "outputs": [],
   "source": [
    "def bayes_dist(dist):\n",
    "    \n",
    "    p_a = 0.7582703213610587\n",
    "\n",
    "    yes = 0\n",
    "    no = 0\n",
    "    for x in x_train:\n",
    "        if (x[-1]) < dist:\n",
    "            yes += 1\n",
    "        else:\n",
    "            no += 1\n",
    "\n",
    "    p_b = yes/(no+yes)\n",
    "\n",
    "    yes = 0\n",
    "    no = 0\n",
    "    for x in range(len(x_train)):\n",
    "        if (y_train[x]) == 1:\n",
    "            if (x_train[x][-1]) < dist:\n",
    "                yes += 1\n",
    "            else:\n",
    "                no += 1\n",
    "    p_b_given_a = yes/(no+yes)\n",
    "\n",
    "    p_a_given_b = ((p_a)*(p_b_given_a))/p_b\n",
    "    print(p_a_given_b)"
   ]
  },
  {
   "cell_type": "code",
   "execution_count": 46,
   "metadata": {
    "collapsed": false
   },
   "outputs": [
    {
     "name": "stdout",
     "output_type": "stream",
     "text": [
      "0.8939480342418165\n",
      "0.8307677232603113\n",
      "0.7651403277734347\n"
     ]
    }
   ],
   "source": [
    "bayes_dist(1)\n",
    "bayes_dist(100)\n",
    "bayes_dist(1000)"
   ]
  },
  {
   "cell_type": "code",
   "execution_count": 47,
   "metadata": {
    "collapsed": true
   },
   "outputs": [],
   "source": [
    "x_train, x_test, y_train, y_test = train_test_split(\n",
    "    data_array, attending_array, test_size=0.3)"
   ]
  },
  {
   "cell_type": "code",
   "execution_count": 49,
   "metadata": {
    "collapsed": true
   },
   "outputs": [],
   "source": [
    "def bayes_gpa(gpa):\n",
    "    \n",
    "    p_a = 0.1838374291115312\n",
    "\n",
    "    yes = 0\n",
    "    no = 0\n",
    "    for x in x_train:\n",
    "        if (x[-5]) < gpa:\n",
    "            yes += 1\n",
    "        else:\n",
    "            no += 1\n",
    "\n",
    "    p_b = yes/(no+yes)\n",
    "\n",
    "    yes = 0\n",
    "    no = 0\n",
    "    for x in range(len(x_train)):\n",
    "        if (y_train[x]) == 1:\n",
    "            if (x_train[x][-5]) < gpa:\n",
    "                yes += 1\n",
    "            else:\n",
    "                no += 1\n",
    "    p_b_given_a = yes/(no+yes)\n",
    "\n",
    "    p_a_given_b = ((p_a)*(p_b_given_a))/p_b\n",
    "    print(p_a_given_b)"
   ]
  },
  {
   "cell_type": "code",
   "execution_count": 50,
   "metadata": {
    "collapsed": false
   },
   "outputs": [
    {
     "name": "stdout",
     "output_type": "stream",
     "text": [
      "0.002278087753228633\n",
      "0.0022337771218729273\n",
      "0.05756633711718016\n",
      "0.17498030190351638\n",
      "0.18388087922476956\n"
     ]
    }
   ],
   "source": [
    "bayes_gpa(1)\n",
    "bayes_gpa(2)\n",
    "bayes_gpa(3)\n",
    "bayes_gpa(4)\n",
    "bayes_gpa(5)"
   ]
  },
  {
   "cell_type": "code",
   "execution_count": 51,
   "metadata": {
    "collapsed": true
   },
   "outputs": [],
   "source": [
    "x_train, x_test, y_train, y_test = train_test_split(\n",
    "    data_array, accepted_array, test_size=0.3)"
   ]
  },
  {
   "cell_type": "code",
   "execution_count": 52,
   "metadata": {
    "collapsed": true
   },
   "outputs": [],
   "source": [
    "def bayes_gpa(gpa):\n",
    "    \n",
    "    p_a = 0.7582703213610587\n",
    "\n",
    "    yes = 0\n",
    "    no = 0\n",
    "    for x in x_train:\n",
    "        if (x[-5]) < gpa:\n",
    "            yes += 1\n",
    "        else:\n",
    "            no += 1\n",
    "\n",
    "    p_b = yes/(no+yes)\n",
    "\n",
    "    yes = 0\n",
    "    no = 0\n",
    "    for x in range(len(x_train)):\n",
    "        if (y_train[x]) == 1:\n",
    "            if (x_train[x][-5]) < gpa:\n",
    "                yes += 1\n",
    "            else:\n",
    "                no += 1\n",
    "    p_b_given_a = yes/(no+yes)\n",
    "\n",
    "    p_a_given_b = ((p_a)*(p_b_given_a))/p_b\n",
    "    print(p_a_given_b)"
   ]
  },
  {
   "cell_type": "code",
   "execution_count": 53,
   "metadata": {
    "collapsed": false
   },
   "outputs": [
    {
     "name": "stdout",
     "output_type": "stream",
     "text": [
      "0.00471520333487862\n",
      "0.0057914402909544525\n",
      "0.1698945466476037\n",
      "0.7007242406446024\n",
      "0.7582135560609407\n"
     ]
    }
   ],
   "source": [
    "bayes_gpa(1)\n",
    "bayes_gpa(2)\n",
    "bayes_gpa(3)\n",
    "bayes_gpa(4)\n",
    "bayes_gpa(5)"
   ]
  },
  {
   "cell_type": "markdown",
   "metadata": {},
   "source": [
    "# SVM"
   ]
  },
  {
   "cell_type": "markdown",
   "metadata": {},
   "source": [
    "## Attending"
   ]
  },
  {
   "cell_type": "code",
   "execution_count": 127,
   "metadata": {
    "collapsed": true
   },
   "outputs": [],
   "source": [
    "x_train, x_test, y_train, y_test = train_test_split(\n",
    "    data_array, attending_array, test_size=0.3)"
   ]
  },
  {
   "cell_type": "code",
   "execution_count": 128,
   "metadata": {
    "collapsed": true
   },
   "outputs": [],
   "source": [
    "%matplotlib inline\n",
    "import pandas as pd\n",
    "import numpy as np\n",
    "import matplotlib.pyplot as plt\n",
    "\n",
    "from sklearn.linear_model import Perceptron\n",
    "from sklearn.svm import SVC\n",
    "from sklearn.cross_validation import train_test_split\n",
    "from sklearn.metrics import confusion_matrix, classification_report\n",
    "import matplotlib.pyplot as plt\n",
    "from sklearn import datasets"
   ]
  },
  {
   "cell_type": "code",
   "execution_count": 129,
   "metadata": {
    "collapsed": false
   },
   "outputs": [
    {
     "data": {
      "text/plain": [
       "array([[4.048, 0, 90.0, 791.5248367769419],\n",
       "       [4.289, 1, 89.0, 719.1406266091119],\n",
       "       [3.967, 1, 99.0, 254.5188332981459],\n",
       "       ..., \n",
       "       [3.6, 1, 73.0, 139.9840746750748],\n",
       "       [2.613, 1, 0.0, 133.59674045913246],\n",
       "       [1.592, 1, 23.0, 167.77114166006493]], dtype=object)"
      ]
     },
     "execution_count": 129,
     "metadata": {},
     "output_type": "execute_result"
    }
   ],
   "source": [
    "x_train"
   ]
  },
  {
   "cell_type": "code",
   "execution_count": 130,
   "metadata": {
    "collapsed": false
   },
   "outputs": [
    {
     "data": {
      "text/plain": [
       "SVC(C=1.0, cache_size=200, class_weight=None, coef0=0.0, degree=3, gamma=0.0,\n",
       "  kernel='rbf', max_iter=-1, probability=False, random_state=None,\n",
       "  shrinking=True, tol=0.001, verbose=False)"
      ]
     },
     "execution_count": 130,
     "metadata": {},
     "output_type": "execute_result"
    }
   ],
   "source": [
    "classifier = SVC()\n",
    "classifier.fit(x_train,y_train)"
   ]
  },
  {
   "cell_type": "code",
   "execution_count": 131,
   "metadata": {
    "collapsed": false
   },
   "outputs": [
    {
     "name": "stdout",
     "output_type": "stream",
     "text": [
      "             precision    recall  f1-score   support\n",
      "\n",
      "          0       0.83      0.97      0.90      1497\n",
      "          1       0.35      0.07      0.12       317\n",
      "\n",
      "avg / total       0.75      0.81      0.76      1814\n",
      "\n"
     ]
    }
   ],
   "source": [
    "Cpred = classifier.predict(x_test)\n",
    "print(classification_report(y_test,Cpred))"
   ]
  },
  {
   "cell_type": "code",
   "execution_count": 132,
   "metadata": {
    "collapsed": false
   },
   "outputs": [
    {
     "name": "stdout",
     "output_type": "stream",
     "text": [
      "[[1454   43]\n",
      " [ 294   23]]\n"
     ]
    },
    {
     "data": {
      "image/png": "[encoded data removed]",
      "text/plain": [
       "<matplotlib.figure.Figure at 0x10a1dc940>"
      ]
     },
     "metadata": {},
     "output_type": "display_data"
    }
   ],
   "source": [
    "ypred = classifier.predict(x_test)\n",
    "print(confusion_matrix(y_test,ypred))\n",
    "\n",
    "plt.imshow(np.log(confusion_matrix(y_test,ypred)),\n",
    "          cmap='Blues',interpolation='nearest')\n",
    "plt.grid(False)\n",
    "plt.ylabel('true')\n",
    "plt.xlabel('predicted');"
   ]
  },
  {
   "cell_type": "code",
   "execution_count": 139,
   "metadata": {
    "collapsed": false
   },
   "outputs": [
    {
     "name": "stdout",
     "output_type": "stream",
     "text": [
      "[0]\n",
      "[0]\n"
     ]
    }
   ],
   "source": [
    "def predict_attending(hs_gpa,visited,class_percentile,distance):\n",
    "    print(classifier.predict([hs_gpa,visited,class_percentile,distance]))\n",
    "\n",
    "predict_attending(3.5,1,85,0)\n",
    "predict_attending(.2,0,35,100)"
   ]
  },
  {
   "cell_type": "markdown",
   "metadata": {
    "collapsed": true
   },
   "source": [
    "## accepted"
   ]
  },
  {
   "cell_type": "code",
   "execution_count": 122,
   "metadata": {
    "collapsed": true
   },
   "outputs": [],
   "source": [
    "x_train, x_test, y_train, y_test = train_test_split(\n",
    "    data_array, accepted_array, test_size=0.3)"
   ]
  },
  {
   "cell_type": "code",
   "execution_count": 123,
   "metadata": {
    "collapsed": false
   },
   "outputs": [
    {
     "data": {
      "text/plain": [
       "SVC(C=1.0, cache_size=200, class_weight=None, coef0=0.0, degree=3, gamma=0.0,\n",
       "  kernel='rbf', max_iter=-1, probability=False, random_state=None,\n",
       "  shrinking=True, tol=0.001, verbose=False)"
      ]
     },
     "execution_count": 123,
     "metadata": {},
     "output_type": "execute_result"
    }
   ],
   "source": [
    "classifier = SVC()\n",
    "classifier.fit(x_train,y_train)"
   ]
  },
  {
   "cell_type": "code",
   "execution_count": 124,
   "metadata": {
    "collapsed": false
   },
   "outputs": [
    {
     "name": "stdout",
     "output_type": "stream",
     "text": [
      "             precision    recall  f1-score   support\n",
      "\n",
      "          0       0.99      0.51      0.67       424\n",
      "          1       0.87      1.00      0.93      1390\n",
      "\n",
      "avg / total       0.90      0.88      0.87      1814\n",
      "\n"
     ]
    }
   ],
   "source": [
    "Cpred = classifier.predict(x_test)\n",
    "print(classification_report(y_test,Cpred))"
   ]
  },
  {
   "cell_type": "code",
   "execution_count": 125,
   "metadata": {
    "collapsed": false
   },
   "outputs": [
    {
     "name": "stdout",
     "output_type": "stream",
     "text": [
      "[[ 217  207]\n",
      " [   3 1387]]\n"
     ]
    },
    {
     "data": {
      "image/png": "[encoded data removed]",
      "text/plain": [
       "<matplotlib.figure.Figure at 0x10a1ccd30>"
      ]
     },
     "metadata": {},
     "output_type": "display_data"
    }
   ],
   "source": [
    "ypred = classifier.predict(x_test)\n",
    "print(confusion_matrix(y_test,ypred))\n",
    "\n",
    "plt.imshow(np.log(confusion_matrix(y_test,ypred)),\n",
    "          cmap='Blues',interpolation='nearest')\n",
    "plt.grid(False)\n",
    "plt.ylabel('true')\n",
    "plt.xlabel('predicted');"
   ]
  },
  {
   "cell_type": "code",
   "execution_count": 126,
   "metadata": {
    "collapsed": false
   },
   "outputs": [
    {
     "name": "stdout",
     "output_type": "stream",
     "text": [
      "[1]\n",
      "[1]\n"
     ]
    }
   ],
   "source": [
    "def predict_accepted(hs_gpa,visited,class_percentile,distance):\n",
    "    print(classifier.predict([hs_gpa,visited,class_percentile,distance]))\n",
    "\n",
    "predict_accepted(4.2,1,95,100)\n",
    "predict_accepted(.2,0,35,100)"
   ]
  },
  {
   "cell_type": "markdown",
   "metadata": {
    "collapsed": true
   },
   "source": [
    "# Final"
   ]
  },
  {
   "cell_type": "code",
   "execution_count": 90,
   "metadata": {
    "collapsed": false
   },
   "outputs": [
    {
     "data": {
      "text/plain": [
       "array([[3.147, 1, 55.0, 135.15562305768705],\n",
       "       [0.0, 0, 0.0, 1184.931171827807],\n",
       "       [2.918, 1, 56.0, 867.0677681811854],\n",
       "       ..., \n",
       "       [0.0, 1, 14.0, 72.26741139342543],\n",
       "       [2.75, 1, 54.0, 304.1214924067843],\n",
       "       [4.104, 1, 0.0, 82.17849304120968]], dtype=object)"
      ]
     },
     "execution_count": 90,
     "metadata": {},
     "output_type": "execute_result"
    }
   ],
   "source": [
    "x_train, x_test, y_train, y_test = train_test_split(\n",
    "    data_array, final_array, test_size=0.3)\n",
    "\n",
    "x_train"
   ]
  },
  {
   "cell_type": "code",
   "execution_count": 91,
   "metadata": {
    "collapsed": false
   },
   "outputs": [
    {
     "data": {
      "text/plain": [
       "Index(['address1', 'address2', 'city', 'region', 'zip', 'entry_term',\n",
       "       'career_goal_1', 'career_goal_2', 'career_goal_3', 'hs_code', 'hs_name',\n",
       "       'decision', 'inquiry', 'race', 'hispanic', 'hs_rank', 'hs_size', 'act',\n",
       "       'sat_verbal', 'sat_math', 'parents_college', 'alumni_child',\n",
       "       'luther_sibling', 'hs_gpa', 'visited', 'class_percentile', 'distance'],\n",
       "      dtype='object')"
      ]
     },
     "execution_count": 91,
     "metadata": {},
     "output_type": "execute_result"
    }
   ],
   "source": [
    "temp.columns"
   ]
  },
  {
   "cell_type": "code",
   "execution_count": 92,
   "metadata": {
    "collapsed": false
   },
   "outputs": [
    {
     "data": {
      "text/plain": [
       "SVC(C=1.0, cache_size=200, class_weight=None, coef0=0.0, degree=3, gamma=0.0,\n",
       "  kernel='rbf', max_iter=-1, probability=False, random_state=None,\n",
       "  shrinking=True, tol=0.001, verbose=False)"
      ]
     },
     "execution_count": 92,
     "metadata": {},
     "output_type": "execute_result"
    }
   ],
   "source": [
    "classifier = SVC()\n",
    "classifier.fit(x_train,y_train)"
   ]
  },
  {
   "cell_type": "code",
   "execution_count": 93,
   "metadata": {
    "collapsed": false
   },
   "outputs": [
    {
     "name": "stdout",
     "output_type": "stream",
     "text": [
      "             precision    recall  f1-score   support\n",
      "\n",
      "          0       0.99      0.58      0.73       423\n",
      "          1       0.67      0.96      0.79      1049\n",
      "          2       0.37      0.07      0.11       342\n",
      "\n",
      "avg / total       0.69      0.71      0.65      1814\n",
      "\n"
     ]
    }
   ],
   "source": [
    "Cpred = classifier.predict(x_test)\n",
    "print(classification_report(y_test,Cpred))"
   ]
  },
  {
   "cell_type": "code",
   "execution_count": 94,
   "metadata": {
    "collapsed": false
   },
   "outputs": [
    {
     "name": "stdout",
     "output_type": "stream",
     "text": [
      "[[ 246  176    1]\n",
      " [   0 1011   38]\n",
      " [   3  316   23]]\n"
     ]
    },
    {
     "data": {
      "image/png": "[encoded data removed]",
      "text/plain": [
       "<matplotlib.figure.Figure at 0x109a88ac8>"
      ]
     },
     "metadata": {},
     "output_type": "display_data"
    }
   ],
   "source": [
    "ypred = classifier.predict(x_test)\n",
    "print(confusion_matrix(y_test,ypred))\n",
    "\n",
    "plt.imshow(np.log(confusion_matrix(y_test,ypred)),\n",
    "          cmap='Blues',interpolation='nearest')\n",
    "plt.grid(False)\n",
    "plt.ylabel('true')\n",
    "plt.xlabel('predicted');"
   ]
  },
  {
   "cell_type": "code",
   "execution_count": 110,
   "metadata": {
    "collapsed": false
   },
   "outputs": [
    {
     "name": "stdout",
     "output_type": "stream",
     "text": [
      "[1]\n",
      "[2]\n",
      "[1]\n"
     ]
    }
   ],
   "source": [
    "def predict(hs_gpa,visited,class_percentile,distance):\n",
    "    print(classifier.predict([hs_gpa,visited,class_percentile,distance]))\n",
    "\n",
    "predict(4.2,1,95,100)\n",
    "predict(4.2,1,95,1)"
   ]
  },
  {
   "cell_type": "code",
   "execution_count": 95,
   "metadata": {
    "collapsed": false
   },
   "outputs": [
    {
     "data": {
      "text/plain": [
       "Index(['address1', 'address2', 'city', 'region', 'zip', 'entry_term',\n",
       "       'career_goal_1', 'career_goal_2', 'career_goal_3', 'hs_code', 'hs_name',\n",
       "       'decision', 'inquiry', 'race', 'hispanic', 'hs_rank', 'hs_size', 'act',\n",
       "       'sat_verbal', 'sat_math', 'parents_college', 'alumni_child',\n",
       "       'luther_sibling', 'hs_gpa', 'visited', 'class_percentile', 'distance'],\n",
       "      dtype='object')"
      ]
     },
     "execution_count": 95,
     "metadata": {},
     "output_type": "execute_result"
    }
   ],
   "source": [
    "temp.columns"
   ]
  },
  {
   "cell_type": "markdown",
   "metadata": {},
   "source": [
    "# KNN"
   ]
  },
  {
   "cell_type": "code",
   "execution_count": 8,
   "metadata": {
    "collapsed": true
   },
   "outputs": [],
   "source": [
    "%matplotlib inline\n",
    "import numpy as np\n",
    "import matplotlib.pyplot as plt\n",
    "import seaborn as sbn\n",
    "sbn.set()\n",
    "from matplotlib.colors import ListedColormap\n",
    "from sklearn import neighbors, datasets"
   ]
  },
  {
   "cell_type": "code",
   "execution_count": 61,
   "metadata": {
    "collapsed": false
   },
   "outputs": [
    {
     "data": {
      "text/plain": [
       "4232"
      ]
     },
     "execution_count": 61,
     "metadata": {},
     "output_type": "execute_result"
    }
   ],
   "source": [
    "x_train, x_test, y_train, y_test = train_test_split(\n",
    "    data_array, final_array, test_size=0.3)\n",
    "\n",
    "len(x_train)"
   ]
  },
  {
   "cell_type": "code",
   "execution_count": 64,
   "metadata": {
    "collapsed": false
   },
   "outputs": [
    {
     "data": {
      "text/plain": [
       "Index(['address1', 'address2', 'city', 'region', 'zip', 'entry_term',\n",
       "       'career_goal_1', 'career_goal_2', 'career_goal_3', 'hs_code', 'hs_name',\n",
       "       'decision', 'inquiry', 'race', 'hispanic', 'hs_rank', 'hs_size', 'act',\n",
       "       'sat_verbal', 'sat_math', 'parents_college', 'alumni_child',\n",
       "       'luther_sibling', 'hs_gpa', 'visited', 'class_percentile', 'interest',\n",
       "       'distance'],\n",
       "      dtype='object')"
      ]
     },
     "execution_count": 64,
     "metadata": {},
     "output_type": "execute_result"
    }
   ],
   "source": [
    "temp.columns"
   ]
  },
  {
   "cell_type": "code",
   "execution_count": 77,
   "metadata": {
    "collapsed": false
   },
   "outputs": [],
   "source": [
    "\n",
    "X = x_train[:, [-3,-5]]  # only use two features\n",
    "y = y_train"
   ]
  },
  {
   "cell_type": "code",
   "execution_count": 78,
   "metadata": {
    "collapsed": true
   },
   "outputs": [],
   "source": [
    "h = .02  # step size in the mesh\n",
    "\n",
    "\n",
    "# Create color maps\n",
    "cmap_light = ListedColormap(['#FFAAAA', '#AAFFAA', '#AAAAFF'])\n",
    "cmap_bold = ListedColormap(['#FF0000', '#00FF00', '#0000FF'])"
   ]
  },
  {
   "cell_type": "code",
   "execution_count": 81,
   "metadata": {
    "collapsed": false
   },
   "outputs": [
    {
     "data": {
      "image/png": "[encoded data removed]",
      "text/plain": [
       "<matplotlib.figure.Figure at 0x10de2fe48>"
      ]
     },
     "metadata": {},
     "output_type": "display_data"
    }
   ],
   "source": [
    "from sklearn.tree import DecisionTreeClassifier\n",
    "\n",
    "# Parameters\n",
    "n_classes = 3\n",
    "plot_colors = \"rgb\"\n",
    "plot_step = 0.02\n",
    "tree_depth = 20\n",
    "\n",
    "for pairidx, pair in enumerate([[0, 1]]):  #, [0, 2], [0, 3], [1, 2], [1, 3], [2, 3]]):\n",
    "\n",
    "\n",
    "    # Shuffle\n",
    "    idx = np.arange(X.shape[0])\n",
    "    np.random.seed(13)\n",
    "    np.random.shuffle(idx)\n",
    "    X = X[idx]\n",
    "    y = y[idx]\n",
    "\n",
    "    # Train\n",
    "    clf = DecisionTreeClassifier(max_depth=tree_depth)\n",
    "    clf.fit(X, y)\n",
    "\n",
    "    # Plot the decision boundary\n",
    "    #plt.subplot(2, 3, pairidx + 1)\n",
    "    plt.subplot(1, 1, pairidx + 1)\n",
    "\n",
    "\n",
    "    x_min, x_max = X[:, 0].min() - 1, X[:, 0].max() + 1\n",
    "    y_min, y_max = X[:, 1].min() - 1, X[:, 1].max() + 1\n",
    "    \n",
    "    x_min = 10\n",
    "    y_min = 2\n",
    "    xx, yy = np.meshgrid(np.arange(x_min, x_max, plot_step),\n",
    "                         np.arange(y_min, y_max, plot_step))\n",
    "\n",
    "    Z = clf.predict(np.c_[xx.ravel(), yy.ravel()])\n",
    "    Z = Z.reshape(xx.shape)\n",
    "    cs = plt.contourf(xx, yy, Z, cmap=cmap_light)\n",
    "\n",
    "    plt.xlabel(\"HS CLASS PERCENTILE\")\n",
    "    plt.ylabel(\"HS GPA\")\n",
    "    plt.axis(\"tight\")\n",
    "\n",
    "    # Plot the training points\n",
    "    for i, color in zip(range(n_classes), plot_colors):\n",
    "        idx = np.where(y == i)\n",
    "        plt.scatter(X[idx, 0], X[idx, 1], c=color)#,\n",
    "                    #cmap=cmap_bold2)\n",
    "\n",
    "    plt.axis(\"tight\")\n",
    "\n",
    "plt.suptitle(\"Decision surface of a decision tree using paired features\")\n",
    "plt.legend()\n",
    "plt.show()"
   ]
  },
  {
   "cell_type": "code",
   "execution_count": null,
   "metadata": {
    "collapsed": true
   },
   "outputs": [],
   "source": []
  },
  {
   "cell_type": "code",
   "execution_count": null,
   "metadata": {
    "collapsed": true
   },
   "outputs": [],
   "source": []
  }
 ],
 "metadata": {
  "kernelspec": {
   "display_name": "Python 3",
   "language": "python",
   "name": "python3"
  },
  "language_info": {
   "codemirror_mode": {
    "name": "ipython",
    "version": 3
   },
   "file_extension": ".py",
   "mimetype": "text/x-python",
   "name": "python",
   "nbconvert_exporter": "python",
   "pygments_lexer": "ipython3",
   "version": "3.4.3"
  }
 },
 "nbformat": 4,
 "nbformat_minor": 0
}
