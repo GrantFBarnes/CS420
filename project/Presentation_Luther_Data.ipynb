{
 "cells": [
  {
   "cell_type": "markdown",
   "metadata": {},
   "source": [
    "# Luther College Application Data 2013-2014\n",
    "\n",
    "6046 applicants to Luther College for the 2013-2014 school year\n",
    "\n",
    "Want to predict whether they get accepted or not into Luther, and also whether they end up attending Luther or not.\n",
    "\n"
   ]
  },
  {
   "cell_type": "markdown",
   "metadata": {},
   "source": [
    "Grant Barnes"
   ]
  },
  {
   "cell_type": "code",
   "execution_count": 1,
   "metadata": {
    "collapsed": true
   },
   "outputs": [],
   "source": [
    "%matplotlib inline\n",
    "import math\n",
    "import pandas as pd\n",
    "import numpy as np\n",
    "\n",
    "from sklearn.linear_model import Perceptron\n",
    "from sklearn.svm import SVC\n",
    "from sklearn.cross_validation import train_test_split\n",
    "from sklearn.metrics import confusion_matrix, classification_report\n",
    "import matplotlib.pyplot as plt\n",
    "import seaborn as sbn\n",
    "sbn.set()\n",
    "from matplotlib.colors import ListedColormap\n",
    "from sklearn import neighbors\n",
    "from sklearn.tree import DecisionTreeClassifier\n",
    "\n",
    "import warnings\n",
    "warnings.filterwarnings('ignore')"
   ]
  },
  {
   "cell_type": "markdown",
   "metadata": {},
   "source": [
    "## Import pre-cleaned data"
   ]
  },
  {
   "cell_type": "code",
   "execution_count": 2,
   "metadata": {
    "collapsed": true
   },
   "outputs": [],
   "source": [
    "data = pd.DataFrame.from_csv(\"data_int.csv\")"
   ]
  },
  {
   "cell_type": "code",
   "execution_count": 3,
   "metadata": {
    "collapsed": false
   },
   "outputs": [
    {
     "data": {
      "text/plain": [
       "Index(['address1', 'address2', 'city', 'region', 'zip', 'entry_term',\n",
       "       'career_goal_1', 'career_goal_2', 'career_goal_3', 'hs_code', 'hs_name',\n",
       "       'decision', 'inquiry', 'race', 'hispanic', 'hs_rank', 'hs_size', 'act',\n",
       "       'sat_verbal', 'sat_math', 'parents_college', 'alumni_child',\n",
       "       'luther_sibling', 'accepted', 'hs_gpa', 'attending', 'visited',\n",
       "       'class_percentile', 'distance', 'final'],\n",
       "      dtype='object')"
      ]
     },
     "execution_count": 3,
     "metadata": {},
     "output_type": "execute_result"
    }
   ],
   "source": [
    "data.columns"
   ]
  },
  {
   "cell_type": "markdown",
   "metadata": {},
   "source": [
    "### Extract Response Variables from Data"
   ]
  },
  {
   "cell_type": "code",
   "execution_count": 4,
   "metadata": {
    "collapsed": true
   },
   "outputs": [],
   "source": [
    "attending = data['attending']\n",
    "attending_array = np.array(attending)\n",
    "\n",
    "accepted = data['accepted']\n",
    "accepted_array = np.array(accepted)\n",
    "\n",
    "final = data['final']\n",
    "final_array = np.array(final)"
   ]
  },
  {
   "cell_type": "code",
   "execution_count": 5,
   "metadata": {
    "collapsed": true
   },
   "outputs": [],
   "source": [
    "temp = data.copy(False)\n",
    "del temp[\"accepted\"]\n",
    "del temp['attending']\n",
    "del temp['final']\n",
    "\n",
    "data_array = np.array(temp)\n",
    "data_array = data_array[:,-4:]"
   ]
  },
  {
   "cell_type": "markdown",
   "metadata": {},
   "source": [
    "### Set up test and training data"
   ]
  },
  {
   "cell_type": "code",
   "execution_count": 6,
   "metadata": {
    "collapsed": true
   },
   "outputs": [],
   "source": [
    "x_train_attending, x_test_attending, y_train_attending, y_test_attending = train_test_split(\n",
    "    data_array, attending_array, test_size=0.2)\n",
    "\n",
    "x_train_accepted, x_test_accepted, y_train_accepted, y_test_accepted = train_test_split(\n",
    "    data_array, accepted_array, test_size=0.2)\n",
    "\n",
    "x_train_final, x_test_final, y_train_final, y_test_final = train_test_split(\n",
    "    data_array, final_array, test_size=0.2)"
   ]
  },
  {
   "cell_type": "markdown",
   "metadata": {},
   "source": [
    "# |||||||||||||||||||||||||||||||||||||||||||||||||||||||||||||||||||||||||||||||||||||||||||||||||||||||||||||||||||||||||||||||||"
   ]
  },
  {
   "cell_type": "markdown",
   "metadata": {},
   "source": [
    "# Analysis\n",
    "\n",
    "### ------------------------------------------------------------------------------------------------------\n",
    "\n",
    "### Logisitc Models\n",
    "\n",
    "$$ E(Y) = P(Y=1) = \\frac{e^{x}}{1+e^{x}} $$\n",
    "\n",
    "where\n",
    "\n",
    "$$x = \\beta_{0} + \\beta_{1}*x_{1} + . . .  + \\beta_{n}*x_{n} $$\n",
    "\n",
    "### Model \\#1\n",
    "\n",
    "Response variable: \n",
    "            \n",
    "            Attending (whether or not they decided to come to luther)\n",
    "\n",
    "\n",
    "Covariates: \n",
    "\n",
    "            Distance From Luther\n",
    "            Whether they visited Luther or not\n",
    "            High School GPA\n",
    "            ACT Score\n",
    "            \n",
    "            \n",
    "Using R, since sklearn did not support nan values in logistic model, I found the following coefficients for the model.\n",
    "\n",
    "\n",
    "$$ x = -3.2240104 - 0.0005415*(dist) + 2.6997458*(visited) + 0.2845320*(gpa) - 0.0361189*(act) $$\n",
    "\n",
    "So,\n",
    "\n",
    "$$ P(Attends Luther) = \\frac{e^{x}}{1+e^{x}}$$\n",
    "    \n",
    "            \n",
    "Below is a python function that does this calculation for us."
   ]
  },
  {
   "cell_type": "code",
   "execution_count": 7,
   "metadata": {
    "collapsed": false
   },
   "outputs": [],
   "source": [
    "def logistic_attending(dist,visited,hs_gpa,act):\n",
    "    if visited == \"Yes\":\n",
    "        visited = 1\n",
    "    else:\n",
    "        visited = 0\n",
    "    x = -3.2240104 - 0.0005415*(dist) + 2.6997458*(visited) + 0.2845320*(hs_gpa) - 0.0361189*(act)\n",
    "    \n",
    "    val = math.exp(x)\n",
    "    \n",
    "    answer = str(((val/(1+val))*100)//1.00)+\"% chance of attending Luther\"\n",
    "    \n",
    "    return answer\n"
   ]
  },
  {
   "cell_type": "code",
   "execution_count": 8,
   "metadata": {
    "collapsed": false
   },
   "outputs": [
    {
     "name": "stdout",
     "output_type": "stream",
     "text": [
      "37.0% chance of attending Luther\n",
      "42.0% chance of attending Luther\n",
      "3.0% chance of attending Luther\n",
      "36.0% chance of attending Luther\n"
     ]
    }
   ],
   "source": [
    "print(logistic_attending(100,\"Yes\",4.0,30))\n",
    "print(logistic_attending(20,\"Yes\",4.0,25))\n",
    "print(logistic_attending(500,\"No\",4.0,30))\n",
    "print(logistic_attending(2,\"Yes\",3.0,25))"
   ]
  },
  {
   "cell_type": "markdown",
   "metadata": {},
   "source": [
    "\n",
    "\n",
    "### How do we tell how reliable this model is?\n",
    "\n",
    "We use an ROC curve (receiver operating characteristic). This plots the true positive rate (TPR) against the false positive rate (FPR).\n",
    "\n",
    "The horizontal line is as good as guessing.  If your curve is below the horizontal line, it is worse than randomly guessing.  If it is above the line, then it is better than guessing.  \n",
    "\n",
    "The Area Under the Curve (AUC) is a calculated value between 0 and 1.  The closer to 1, the better the model is.\n",
    "\n",
    "Below is the ROC curve with AUC value on it for this first model.\n",
    "\n",
    "<img src=\"roc1.png\">\n",
    "\n",
    "We see that it has an AUC value of 0.7625, which is decent.  Meaning this model does an okay job at finding the probability of a given student who applied to Luther to attend Luther."
   ]
  },
  {
   "cell_type": "markdown",
   "metadata": {},
   "source": [
    "### Model \\#2\n",
    "\n",
    "Response variable: \n",
    "            \n",
    "            Accepted (whether or not they are accepted into luther)\n",
    "\n",
    "\n",
    "Covariates: \n",
    "\n",
    "            Whether they visited Luther or not\n",
    "            High School GPA\n",
    "            ACT Score\n",
    "            High School Class Percentile\n",
    "            \n",
    "            \n",
    "Using R, since sklearn did not support nan values in logistic model, I found the following coefficients for the model.\n",
    "\n",
    "\n",
    "$$ x = -22.031673 + 1.304211*(visited) + 4.005931*(gpa) + 0.539546*(act) + 0.009890*(percentile) $$\n",
    "\n",
    "So,\n",
    "\n",
    "$$ P(LutherAccepted) = \\frac{e^{x}}{1+e^{x}}$$\n",
    "\n",
    "Below is a python function that does this calculation for us."
   ]
  },
  {
   "cell_type": "code",
   "execution_count": 9,
   "metadata": {
    "collapsed": true
   },
   "outputs": [],
   "source": [
    "def logistic_accepted(visited,hs_gpa,act,class_percentile):\n",
    "    if visited == \"Yes\":\n",
    "        visited = 1\n",
    "    else:\n",
    "        visited = 0\n",
    "    x = -22.031673 + 1.304211*(visited) + 4.005931*(hs_gpa) + 0.539546*(act) + 0.009890*(class_percentile)\n",
    "    \n",
    "    val = math.exp(x)\n",
    "    \n",
    "    answer = str(((val/(1+val))*100)//1.00)+\"% chance of being accepted to Luther\"\n",
    "    \n",
    "    return answer"
   ]
  },
  {
   "cell_type": "code",
   "execution_count": 10,
   "metadata": {
    "collapsed": false
   },
   "outputs": [
    {
     "name": "stdout",
     "output_type": "stream",
     "text": [
      "0.0% chance of being accepted to Luther\n",
      "18.0% chance of being accepted to Luther\n",
      "80.0% chance of being accepted to Luther\n",
      "93.0% chance of being accepted to Luther\n",
      "99.0% chance of being accepted to Luther\n"
     ]
    }
   ],
   "source": [
    "print(logistic_accepted(\"Yes\",1.0,15,15))\n",
    "print(logistic_accepted(\"Yes\",2.0,20,45))\n",
    "print(logistic_accepted(\"No\",3.0,20,65))\n",
    "print(logistic_accepted(\"Yes\",3.0,20,55))\n",
    "print(logistic_accepted(\"Yes\",4.0,30,85))"
   ]
  },
  {
   "cell_type": "markdown",
   "metadata": {},
   "source": [
    "\n",
    "\n",
    "### How do we tell how reliable this model is?\n",
    "\n",
    "We use an ROC curve (receiver operating characteristic). This plots the true positive rate (TPR) against the false positive rate (FPR).\n",
    "\n",
    "The horizontal line is as good as guessing.  If your curve is below the horizontal line, it is worse than randomly guessing.  If it is above the line, then it is better than guessing.  \n",
    "\n",
    "The Area Under the Curve (AUC) is a calculated value between 0 and 1.  The closer to 1, the better the model is.\n",
    "\n",
    "Below is the ROC curve with AUC value on it for this second model.\n",
    "\n",
    "<img src=\"roc2.png\">\n",
    "\n",
    "We see that it has an AUC value of 0.991, which is really good.  Meaning this model does a great job at finding the probability of a given student who applied to Luther getting accepted into Luther."
   ]
  },
  {
   "cell_type": "markdown",
   "metadata": {},
   "source": [
    "### ------------------------------------------------------------------------------------------------------\n",
    "\n"
   ]
  },
  {
   "cell_type": "markdown",
   "metadata": {},
   "source": [
    " # Bayes Theorem\n",
    " \n",
    " $$P(A|B) = \\frac{P(A)*P(B|A)}{P(B)}$$\n",
    " \n",
    " Finding the probability of a certain event, given a condition\n",
    " \n",
    " ### Probability of Attending Luther, given that you visited\n",
    " "
   ]
  },
  {
   "cell_type": "code",
   "execution_count": 11,
   "metadata": {
    "collapsed": false
   },
   "outputs": [
    {
     "name": "stdout",
     "output_type": "stream",
     "text": [
      "36.0% chance of attending Luther, given you visited\n",
      "2.0% chance of attending Luther, given you did not visit\n"
     ]
    }
   ],
   "source": [
    "def attend_visited(yn):\n",
    "    yes = 0\n",
    "    no = 0\n",
    "    for x in y_train_attending:\n",
    "        if (x) == 0:\n",
    "            no += 1\n",
    "        else:\n",
    "            yes += 1\n",
    "\n",
    "    p_a = yes/(no+yes)\n",
    "\n",
    "    yes = 0\n",
    "    no = 0\n",
    "    for x in x_train_attending:\n",
    "        if (x[-3]) == 0:\n",
    "            no += 1\n",
    "        else:\n",
    "            yes += 1\n",
    "\n",
    "    if yn == 1:\n",
    "        p_b = yes/(no+yes)\n",
    "    else:\n",
    "        p_b = no/(no+yes)\n",
    "\n",
    "    yes = 0\n",
    "    no = 0\n",
    "    for x in range(len(x_train_attending)):\n",
    "        if (y_train_attending[x]) == 1:\n",
    "            if (x_train_attending[x][-3]) == 0:\n",
    "                no += 1\n",
    "            else:\n",
    "                yes += 1\n",
    "            \n",
    "    if yn == 1:\n",
    "        p_b_given_a = yes/(no+yes)\n",
    "    else:\n",
    "        p_b_given_a = no/(no+yes)\n",
    "\n",
    "    p_a_given_b = ((p_a)*(p_b_given_a))/p_b\n",
    "    \n",
    "    return p_a_given_b\n",
    "\n",
    "print(str((attend_visited(1)*100)//1.00)+\"% chance of attending Luther, given you visited\")\n",
    "print(str((attend_visited(0)*100)//1.00)+\"% chance of attending Luther, given you did not visit\")\n",
    "\n",
    "\n"
   ]
  },
  {
   "cell_type": "markdown",
   "metadata": {},
   "source": [
    "This is for those who applied to Luther, and holding all else constant, if you visited Luther, there is the above percentage chance you attend Luther, otherwise you had the other percentage chance you attend Luther."
   ]
  },
  {
   "cell_type": "markdown",
   "metadata": {},
   "source": [
    " ### Probability of Attending Luther, given your distance from Luther"
   ]
  },
  {
   "cell_type": "code",
   "execution_count": 12,
   "metadata": {
    "collapsed": false
   },
   "outputs": [
    {
     "name": "stdout",
     "output_type": "stream",
     "text": [
      "36.0% chance of attending Luther, given you are 1 mile away\n",
      "28.0% chance of attending Luther, given you are 100 mile away\n",
      "18.0% chance of attending Luther, given you are 1000 mile away\n"
     ]
    }
   ],
   "source": [
    "def attend_distance(dist):\n",
    "    yes = 0\n",
    "    no = 0\n",
    "    for x in y_train_attending:\n",
    "        if (x) == 0:\n",
    "            no += 1\n",
    "        else:\n",
    "            yes += 1\n",
    "\n",
    "    p_a = yes/(no+yes)\n",
    "    \n",
    "    yes = 0\n",
    "    no = 0\n",
    "    for x in x_train_attending:\n",
    "        if (x[-1]) < dist:\n",
    "            yes += 1\n",
    "        else:\n",
    "            no += 1\n",
    "\n",
    "    p_b = yes/(no+yes)\n",
    "\n",
    "    yes = 0\n",
    "    no = 0\n",
    "    for x in range(len(x_train_attending)):\n",
    "        if (y_train_attending[x]) == 1:\n",
    "            if (x_train_attending[x][-1]) < dist:\n",
    "                yes += 1\n",
    "            else:\n",
    "                no += 1\n",
    "    p_b_given_a = yes/(no+yes)\n",
    "\n",
    "    p_a_given_b = ((p_a)*(p_b_given_a))/p_b\n",
    "    \n",
    "    return p_a_given_b\n",
    "\n",
    "print(str((attend_distance(1)*100)//1.00)+\"% chance of attending Luther, given you are 1 mile away\")\n",
    "print(str((attend_distance(100)*100)//1.00)+\"% chance of attending Luther, given you are 100 mile away\")\n",
    "print(str((attend_distance(1000)*100)//1.00)+\"% chance of attending Luther, given you are 1000 mile away\")\n",
    "\n",
    "\n"
   ]
  },
  {
   "cell_type": "markdown",
   "metadata": {},
   "source": [
    "For those who applied to Luther, holding all else constant, this function shows the probability of attending Luther given your distance from Luther."
   ]
  },
  {
   "cell_type": "markdown",
   "metadata": {},
   "source": [
    " ### Probability of being Accepted into Luther, given your High School GPA"
   ]
  },
  {
   "cell_type": "code",
   "execution_count": 13,
   "metadata": {
    "collapsed": false
   },
   "outputs": [
    {
     "name": "stdout",
     "output_type": "stream",
     "text": [
      "0.0% chance of being accepted into Luther, given your hs GPA is 2\n",
      "16.0% chance of being accepted into Luther, given your hs GPA is 3\n",
      "48.0% chance of being accepted into Luther, given your hs GPA is 3.5\n",
      "61.0% chance of being accepted into Luther, given your hs GPA is 3.75\n",
      "70.0% chance of being accepted into Luther, given your hs GPA is 4\n",
      "75.0% chance of being accepted into Luther, given your hs GPA is 4.2\n"
     ]
    }
   ],
   "source": [
    "def accepted_gpa(gpa):\n",
    "    \n",
    "    yes = 0\n",
    "    no = 0\n",
    "    for x in y_train_accepted:\n",
    "        if (x) == 0:\n",
    "            no += 1\n",
    "        else:\n",
    "            yes += 1\n",
    "\n",
    "    p_a = yes/(no+yes)\n",
    "\n",
    "    yes = 0\n",
    "    no = 0\n",
    "    for x in x_train_accepted:\n",
    "        if (x[-4]) < gpa:\n",
    "            yes += 1\n",
    "        else:\n",
    "            no += 1\n",
    "\n",
    "    p_b = yes/(no+yes)\n",
    "\n",
    "    yes = 0\n",
    "    no = 0\n",
    "    for x in range(len(x_train_accepted)):\n",
    "        if (y_train_accepted[x]) == 1:\n",
    "            if (x_train_accepted[x][-4]) < gpa:\n",
    "                yes += 1\n",
    "            else:\n",
    "                no += 1\n",
    "    p_b_given_a = yes/(no+yes)\n",
    "\n",
    "    p_a_given_b = ((p_a)*(p_b_given_a))/p_b\n",
    "    return p_a_given_b\n",
    "\n",
    "print(str((accepted_gpa(2)*100)//1.00)+\"% chance of being accepted into Luther, given your hs GPA is 2\")\n",
    "print(str((accepted_gpa(3)*100)//1.00)+\"% chance of being accepted into Luther, given your hs GPA is 3\")\n",
    "print(str((accepted_gpa(3.5)*100)//1.00)+\"% chance of being accepted into Luther, given your hs GPA is 3.5\")\n",
    "print(str((accepted_gpa(3.75)*100)//1.00)+\"% chance of being accepted into Luther, given your hs GPA is 3.75\")\n",
    "print(str((accepted_gpa(4)*100)//1.00)+\"% chance of being accepted into Luther, given your hs GPA is 4\")\n",
    "print(str((accepted_gpa(4.2)*100)//1.00)+\"% chance of being accepted into Luther, given your hs GPA is 4.2\")\n",
    "\n",
    "\n"
   ]
  },
  {
   "cell_type": "markdown",
   "metadata": {
    "collapsed": true
   },
   "source": [
    "### ------------------------------------------------------------------------------------------------------\n",
    "\n",
    "\n",
    "### Support Vector Machines"
   ]
  },
  {
   "cell_type": "markdown",
   "metadata": {},
   "source": [
    "Response Variable: \n",
    "\n",
    "       Attending Luther or not."
   ]
  },
  {
   "cell_type": "code",
   "execution_count": 14,
   "metadata": {
    "collapsed": false
   },
   "outputs": [
    {
     "name": "stdout",
     "output_type": "stream",
     "text": [
      "             precision    recall  f1-score   support\n",
      "\n",
      "          0       0.82      0.99      0.90       986\n",
      "          1       0.54      0.06      0.11       224\n",
      "\n",
      "avg / total       0.77      0.82      0.75      1210\n",
      "\n",
      "[[974  12]\n",
      " [210  14]]\n"
     ]
    },
    {
     "data": {
      "image/png": "[encoded data removed]",
      "text/plain": [
       "<matplotlib.figure.Figure at 0x1018cb1d0>"
      ]
     },
     "metadata": {},
     "output_type": "display_data"
    }
   ],
   "source": [
    "classifier = SVC()\n",
    "classifier.fit(x_train_attending,y_train_attending)\n",
    "\n",
    "ypred = classifier.predict(x_test_attending)\n",
    "print(classification_report(y_test_attending,ypred))\n",
    "print(confusion_matrix(y_test_attending,ypred))\n",
    "plt.imshow(np.log(confusion_matrix(y_test_attending,ypred)),\n",
    "          cmap='Blues',interpolation='nearest')\n",
    "plt.grid(False)\n",
    "plt.ylabel('true')\n",
    "plt.xlabel('predicted');"
   ]
  },
  {
   "cell_type": "code",
   "execution_count": 15,
   "metadata": {
    "collapsed": false
   },
   "outputs": [
    {
     "name": "stdout",
     "output_type": "stream",
     "text": [
      "Not Attending\n",
      "Not Attending\n",
      "Is Attending\n",
      "Is Attending\n"
     ]
    }
   ],
   "source": [
    "def predict_attending(hs_gpa,visited,class_percentile,distance):\n",
    "    if classifier.predict([hs_gpa,visited,class_percentile,distance]) == [0]:\n",
    "        return \"Not Attending\"\n",
    "    else:\n",
    "        return \"Is Attending\"\n",
    "\n",
    "\n",
    "print(predict_attending(4.0,1,95,100))\n",
    "print(predict_attending(2.5,0,65,40))\n",
    "print(predict_attending(3.5,1,50,100))\n",
    "print(predict_attending(4.0,1,90,1))\n"
   ]
  },
  {
   "cell_type": "markdown",
   "metadata": {},
   "source": [
    "### Next SVM\n",
    "\n",
    "Response Variable: \n",
    "\n",
    "       Accepted to Luther or not."
   ]
  },
  {
   "cell_type": "code",
   "execution_count": 16,
   "metadata": {
    "collapsed": false
   },
   "outputs": [
    {
     "name": "stdout",
     "output_type": "stream",
     "text": [
      "             precision    recall  f1-score   support\n",
      "\n",
      "          0       0.97      0.55      0.71       292\n",
      "          1       0.88      0.99      0.93       918\n",
      "\n",
      "avg / total       0.90      0.89      0.88      1210\n",
      "\n",
      "[[162 130]\n",
      " [  5 913]]\n"
     ]
    },
    {
     "data": {
      "image/png": "[encoded data removed]",
      "text/plain": [
       "<matplotlib.figure.Figure at 0x108eb49e8>"
      ]
     },
     "metadata": {},
     "output_type": "display_data"
    }
   ],
   "source": [
    "classifier = SVC()\n",
    "classifier.fit(x_train_accepted,y_train_accepted)\n",
    "\n",
    "ypred = classifier.predict(x_test_accepted)\n",
    "print(classification_report(y_test_accepted,ypred))\n",
    "print(confusion_matrix(y_test_accepted,ypred))\n",
    "plt.imshow(np.log(confusion_matrix(y_test_accepted,ypred)),\n",
    "          cmap='Blues',interpolation='nearest')\n",
    "plt.grid(False)\n",
    "plt.ylabel('true')\n",
    "plt.xlabel('predicted');"
   ]
  },
  {
   "cell_type": "code",
   "execution_count": 17,
   "metadata": {
    "collapsed": false
   },
   "outputs": [
    {
     "name": "stdout",
     "output_type": "stream",
     "text": [
      "Accepted to Luther\n",
      "Accepted to Luther\n",
      "Accepted to Luther\n",
      "Accepted to Luther\n"
     ]
    }
   ],
   "source": [
    "def predict_accepted(hs_gpa,visited,class_percentile,distance):\n",
    "    if classifier.predict([hs_gpa,visited,class_percentile,distance]) == [0]:\n",
    "        return \"Not Accepted to Luther\"\n",
    "    else:\n",
    "        return \"Accepted to Luther\"\n",
    "\n",
    "\n",
    "print(predict_accepted(4.0,1,95,100))\n",
    "print(predict_accepted(2.5,0,65,40))\n",
    "print(predict_accepted(1.5,1,0,25))\n",
    "print(predict_accepted(2.0,0,100,0))"
   ]
  },
  {
   "cell_type": "markdown",
   "metadata": {},
   "source": [
    "### Next SVM\n",
    "\n",
    "Response Variable: \n",
    "\n",
    "       Final decision on Luther (denied, accepted not attending, attending)."
   ]
  },
  {
   "cell_type": "code",
   "execution_count": 18,
   "metadata": {
    "collapsed": false
   },
   "outputs": [
    {
     "name": "stdout",
     "output_type": "stream",
     "text": [
      "             precision    recall  f1-score   support\n",
      "\n",
      "          0       0.99      0.61      0.75       277\n",
      "          1       0.68      0.95      0.79       706\n",
      "          2       0.30      0.07      0.11       227\n",
      "\n",
      "avg / total       0.68      0.70      0.65      1210\n",
      "\n",
      "[[168 109   0]\n",
      " [  1 670  35]\n",
      " [  1 211  15]]\n"
     ]
    },
    {
     "data": {
      "image/png": "[encoded data removed]",
      "text/plain": [
       "<matplotlib.figure.Figure at 0x1090420b8>"
      ]
     },
     "metadata": {},
     "output_type": "display_data"
    }
   ],
   "source": [
    "classifier = SVC()\n",
    "classifier.fit(x_train_final,y_train_final)\n",
    "\n",
    "ypred = classifier.predict(x_test_final)\n",
    "print(classification_report(y_test_final,ypred))\n",
    "print(confusion_matrix(y_test_final,ypred))\n",
    "plt.imshow(np.log(confusion_matrix(y_test_final,ypred)),\n",
    "          cmap='Blues',interpolation='nearest')\n",
    "plt.grid(False)\n",
    "plt.ylabel('true')\n",
    "plt.xlabel('predicted');"
   ]
  },
  {
   "cell_type": "code",
   "execution_count": 19,
   "metadata": {
    "collapsed": false
   },
   "outputs": [
    {
     "name": "stdout",
     "output_type": "stream",
     "text": [
      "Accepted to Luther, not Attending\n",
      "Accepted to Luther, not Attending\n",
      "Accepted to Luther, not Attending\n",
      "Attending Luther\n",
      "Attending Luther\n"
     ]
    }
   ],
   "source": [
    "def predict_final(hs_gpa,visited,class_percentile,distance):\n",
    "    if classifier.predict([hs_gpa,visited,class_percentile,distance]) == [0]:\n",
    "        return \"Denied to Luther\"\n",
    "    elif classifier.predict([hs_gpa,visited,class_percentile,distance]) == [1]:\n",
    "        return \"Accepted to Luther, not Attending\"\n",
    "    else:\n",
    "        return \"Attending Luther\"\n",
    "\n",
    "\n",
    "    \n",
    "print(predict_final(1.5,1,0,25))\n",
    "print(predict_final(4.0,1,95,100))\n",
    "print(predict_final(2.5,0,65,40))\n",
    "print(predict_final(3.5,1,50,100))\n",
    "print(predict_final(4.0,1,90,1))"
   ]
  },
  {
   "cell_type": "markdown",
   "metadata": {
    "collapsed": true
   },
   "source": [
    "\n",
    "### -------------------------------------------------------------------------------------------------------\n",
    "\n",
    "\n",
    "### Decision Trees\n",
    "\n"
   ]
  },
  {
   "cell_type": "markdown",
   "metadata": {
    "collapsed": true
   },
   "source": [
    "Found in R using party library.  These trees are a useful tool for someone to quickly look and see where they fall given certain covariates, and find whether they will be accepted or attend Luther.\n",
    "\n",
    "### Tree \\#1\n",
    "\n",
    "Response:\n",
    "\n",
    "        Attending Luther\n",
    "        \n",
    "Covariates:\n",
    "        \n",
    "        Visited Luther\n",
    "        ACT Score\n",
    "        High School GPA\n",
    "\n",
    "<img src=\"tree1.png\">\n",
    "\n",
    "### Tree \\#2\n",
    "\n",
    "Response:\n",
    "\n",
    "        Attending Luther\n",
    "        \n",
    "Covariates:\n",
    "        \n",
    "        Distance to Luther\n",
    "\n",
    "<img src=\"tree2.png\">\n",
    "\n",
    "### Tree \\#3\n",
    "\n",
    "Response:\n",
    "\n",
    "        Accepted to Luther\n",
    "        \n",
    "Covariates:\n",
    "        \n",
    "        High School GPA\n",
    "\n",
    "<img src=\"tree3.png\">"
   ]
  },
  {
   "cell_type": "markdown",
   "metadata": {
    "collapsed": true
   },
   "source": [
    "# |||||||||||||||||||||||||||||||||||||||||||||||||||||||||||||||||||||||||||||||||||||||||||||||||||||||||||||||||||||||||\n",
    "\n",
    "# Overview\n",
    "\n",
    "Found two logistic regression models for the data that described probability of being accepted into Luther and attending Luther using other factors as predictors.\n",
    "\n",
    "Did a few Bayesian Statistics to find chances of attending or being accepted given other factors. \n",
    "\n",
    "Fit three different support vector machine models to the data to describe the outcome of an applicant to Luther.\n",
    "\n",
    "Created a few decision tress as useful tools to get an idea of whether an applicant will be accepted or attend Luther."
   ]
  }
 ],
 "metadata": {
  "kernelspec": {
   "display_name": "Python 3",
   "language": "python",
   "name": "python3"
  },
  "language_info": {
   "codemirror_mode": {
    "name": "ipython",
    "version": 3
   },
   "file_extension": ".py",
   "mimetype": "text/x-python",
   "name": "python",
   "nbconvert_exporter": "python",
   "pygments_lexer": "ipython3",
   "version": "3.4.3"
  }
 },
 "nbformat": 4,
 "nbformat_minor": 0
}
