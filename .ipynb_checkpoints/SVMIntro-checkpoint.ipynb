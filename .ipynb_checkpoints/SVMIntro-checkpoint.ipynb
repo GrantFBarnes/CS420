{
 "cells": [
  {
   "cell_type": "markdown",
   "metadata": {},
   "source": [
    "# Support Vector Machine\n",
    "\n",
    "![http://docs.opencv.org/_images/optimal-hyperplane.png](http://docs.opencv.org/_images/optimal-hyperplane.png)\n",
    "\n"
   ]
  },
  {
   "cell_type": "markdown",
   "metadata": {},
   "source": [
    "They are an evolved form of the Perceptron.\n",
    "\n",
    "See this link:  http://www.tristanfletcher.co.uk/SVM%20Explained.pdf  for a nice paper (first 10 pages) that goes into the math.  Also here for the scikit-learn page:  http://scikit-learn.org/stable/modules/svm.html#kernel-functions\n",
    "\n",
    "\n"
   ]
  },
  {
   "cell_type": "code",
   "execution_count": 1,
   "metadata": {
    "collapsed": false
   },
   "outputs": [],
   "source": [
    "%matplotlib inline\n",
    "import pandas as pd\n",
    "import numpy as np\n",
    "import matplotlib.pyplot as plt\n",
    "\n",
    "from sklearn.linear_model import Perceptron\n",
    "from sklearn.svm import SVC\n",
    "from sklearn.cross_validation import train_test_split\n",
    "from sklearn.metrics import confusion_matrix, classification_report\n",
    "import matplotlib.pyplot as plt\n",
    "from sklearn import datasets\n",
    "\n",
    "\n",
    "import warnings\n",
    "warnings.filterwarnings('ignore')"
   ]
  },
  {
   "cell_type": "code",
   "execution_count": 2,
   "metadata": {
    "collapsed": false
   },
   "outputs": [],
   "source": [
    "df = pd.read_csv('mystery.csv',header=None)\n",
    "mdata = df[[0,1]].values\n",
    "cats = df[2].values\n",
    "\n",
    "Xtrain, Xtest, Ctrain, Ctest = train_test_split(mdata, cats)"
   ]
  },
  {
   "cell_type": "code",
   "execution_count": 3,
   "metadata": {
    "collapsed": false
   },
   "outputs": [
    {
     "data": {
      "text/plain": [
       "SVC(C=1.0, cache_size=200, class_weight=None, coef0=0.0, degree=3, gamma=0.0,\n",
       "  kernel='rbf', max_iter=-1, probability=False, random_state=None,\n",
       "  shrinking=True, tol=0.001, verbose=False)"
      ]
     },
     "execution_count": 3,
     "metadata": {},
     "output_type": "execute_result"
    }
   ],
   "source": [
    "classifier = SVC()\n",
    "classifier.fit(Xtrain,Ctrain)"
   ]
  },
  {
   "cell_type": "code",
   "execution_count": null,
   "metadata": {
    "collapsed": true
   },
   "outputs": [],
   "source": []
  },
  {
   "cell_type": "code",
   "execution_count": 4,
   "metadata": {
    "collapsed": false
   },
   "outputs": [
    {
     "name": "stdout",
     "output_type": "stream",
     "text": [
      "             precision    recall  f1-score   support\n",
      "\n",
      "         -1       1.00      0.93      0.96        29\n",
      "          1       0.91      1.00      0.95        21\n",
      "\n",
      "avg / total       0.96      0.96      0.96        50\n",
      "\n"
     ]
    }
   ],
   "source": [
    "Cpred = classifier.predict(Xtest)\n",
    "print(classification_report(Ctest,Cpred))"
   ]
  },
  {
   "cell_type": "markdown",
   "metadata": {},
   "source": [
    "## Compare the performance of the Perceptron and the SVM on the iris and digits data"
   ]
  },
  {
   "cell_type": "markdown",
   "metadata": {},
   "source": [
    "### Iris Data Set"
   ]
  },
  {
   "cell_type": "code",
   "execution_count": 5,
   "metadata": {
    "collapsed": false
   },
   "outputs": [
    {
     "data": {
      "text/plain": [
       "SVC(C=1.0, cache_size=200, class_weight=None, coef0=0.0, degree=3, gamma=0.0,\n",
       "  kernel='rbf', max_iter=-1, probability=False, random_state=None,\n",
       "  shrinking=True, tol=0.001, verbose=False)"
      ]
     },
     "execution_count": 5,
     "metadata": {},
     "output_type": "execute_result"
    }
   ],
   "source": [
    "iris = datasets.load_iris()\n",
    "x,y = iris.data, iris.target\n",
    "Xtrain, Xtest, Ctrain, Ctest = train_test_split(x,y)\n",
    "\n",
    "classifier = SVC()\n",
    "classifier.fit(Xtrain,Ctrain)"
   ]
  },
  {
   "cell_type": "code",
   "execution_count": 6,
   "metadata": {
    "collapsed": false
   },
   "outputs": [
    {
     "name": "stdout",
     "output_type": "stream",
     "text": [
      "             precision    recall  f1-score   support\n",
      "\n",
      "          0       1.00      1.00      1.00        12\n",
      "          1       0.82      0.90      0.86        10\n",
      "          2       0.93      0.88      0.90        16\n",
      "\n",
      "avg / total       0.92      0.92      0.92        38\n",
      "\n"
     ]
    }
   ],
   "source": [
    "Cpred = classifier.predict(Xtest)\n",
    "print(classification_report(Ctest,Cpred))"
   ]
  },
  {
   "cell_type": "code",
   "execution_count": 7,
   "metadata": {
    "collapsed": false
   },
   "outputs": [
    {
     "name": "stdout",
     "output_type": "stream",
     "text": [
      "[[12  0  0]\n",
      " [ 0  9  1]\n",
      " [ 0  2 14]]\n"
     ]
    },
    {
     "data": {
      "image/png": "[encoded data removed]",
      "text/plain": [
       "<matplotlib.figure.Figure at 0x103ea9668>"
      ]
     },
     "metadata": {},
     "output_type": "display_data"
    }
   ],
   "source": [
    "ypred = classifier.predict(Xtest)\n",
    "print(confusion_matrix(Ctest,Cpred))\n",
    "\n",
    "plt.imshow(np.log(confusion_matrix(Ctest,Cpred)),\n",
    "          cmap='Blues',interpolation='nearest')\n",
    "plt.grid(False)\n",
    "plt.ylabel('true')\n",
    "plt.xlabel('predicted');"
   ]
  },
  {
   "cell_type": "markdown",
   "metadata": {},
   "source": [
    "# |||||||||||||||||||||||||||||||||||||||||||||||||||||||||||||||||||||||||||||||||||||||||||||||||||||||||||||||||||||||||||||||||||||"
   ]
  },
  {
   "cell_type": "markdown",
   "metadata": {},
   "source": [
    "\n",
    "\n",
    "\n",
    "# Digits Data Set"
   ]
  },
  {
   "cell_type": "code",
   "execution_count": 8,
   "metadata": {
    "collapsed": false
   },
   "outputs": [
    {
     "data": {
      "text/plain": [
       "SVC(C=1.0, cache_size=200, class_weight=None, coef0=0.0, degree=3, gamma=0.0,\n",
       "  kernel='linear', max_iter=-1, probability=False, random_state=None,\n",
       "  shrinking=True, tol=0.001, verbose=False)"
      ]
     },
     "execution_count": 8,
     "metadata": {},
     "output_type": "execute_result"
    }
   ],
   "source": [
    "df = datasets.load_digits(n_class=10)\n",
    "x,y = df.data, df.target\n",
    "Xtrain, Xtest, Ctrain, Ctest = train_test_split(x,y)\n",
    "\n",
    "classifier = SVC(kernel='linear')\n",
    "classifier.fit(Xtrain,Ctrain)"
   ]
  },
  {
   "cell_type": "code",
   "execution_count": 9,
   "metadata": {
    "collapsed": false
   },
   "outputs": [
    {
     "name": "stdout",
     "output_type": "stream",
     "text": [
      "             precision    recall  f1-score   support\n",
      "\n",
      "          0       1.00      1.00      1.00        36\n",
      "          1       0.94      1.00      0.97        47\n",
      "          2       1.00      1.00      1.00        47\n",
      "          3       1.00      1.00      1.00        49\n",
      "          4       1.00      0.98      0.99        56\n",
      "          5       1.00      0.98      0.99        41\n",
      "          6       1.00      1.00      1.00        54\n",
      "          7       0.97      1.00      0.98        32\n",
      "          8       1.00      0.95      0.97        41\n",
      "          9       0.96      0.96      0.96        47\n",
      "\n",
      "avg / total       0.99      0.99      0.99       450\n",
      "\n"
     ]
    }
   ],
   "source": [
    "Cpred = classifier.predict(Xtest)\n",
    "print(classification_report(Ctest,Cpred))"
   ]
  },
  {
   "cell_type": "code",
   "execution_count": 10,
   "metadata": {
    "collapsed": false
   },
   "outputs": [
    {
     "name": "stdout",
     "output_type": "stream",
     "text": [
      "[[36  0  0  0  0  0  0  0  0  0]\n",
      " [ 0 47  0  0  0  0  0  0  0  0]\n",
      " [ 0  0 47  0  0  0  0  0  0  0]\n",
      " [ 0  0  0 49  0  0  0  0  0  0]\n",
      " [ 0  1  0  0 55  0  0  0  0  0]\n",
      " [ 0  0  0  0  0 40  0  0  0  1]\n",
      " [ 0  0  0  0  0  0 54  0  0  0]\n",
      " [ 0  0  0  0  0  0  0 32  0  0]\n",
      " [ 0  1  0  0  0  0  0  0 39  1]\n",
      " [ 0  1  0  0  0  0  0  1  0 45]]\n",
      "[0 1 2 3 4 5 6 7 8 9]\n"
     ]
    },
    {
     "data": {
      "image/png": "[encoded data removed]",
      "text/plain": [
       "<matplotlib.figure.Figure at 0x108e8d4a8>"
      ]
     },
     "metadata": {},
     "output_type": "display_data"
    }
   ],
   "source": [
    "ypred = classifier.predict(Xtest)\n",
    "print(confusion_matrix(Ctest,Cpred))\n",
    "print(df.target_names)\n",
    "plt.imshow(np.log(confusion_matrix(Ctest,Cpred)),\n",
    "          cmap='Blues',interpolation='nearest')\n",
    "plt.grid(False)\n",
    "plt.ylabel('true')\n",
    "plt.xlabel('predicted');"
   ]
  },
  {
   "cell_type": "markdown",
   "metadata": {
    "collapsed": true
   },
   "source": [
    "# |||||||||||||||||||||||||||||||||||||||||||||||||||||||||||||||||||||||||||||||||||||||||||||||||||||||||||||||||||||||||||"
   ]
  },
  {
   "cell_type": "markdown",
   "metadata": {
    "collapsed": false
   },
   "source": [
    "# Typed Letter Images\n",
    "        "
   ]
  },
  {
   "cell_type": "code",
   "execution_count": 2,
   "metadata": {
    "collapsed": false
   },
   "outputs": [
    {
     "data": {
      "text/plain": [
       "SVC(C=1.0, cache_size=200, class_weight=None, coef0=0.0, degree=3, gamma=0.0,\n",
       "  kernel='linear', max_iter=-1, probability=False, random_state=None,\n",
       "  shrinking=True, tol=0.001, verbose=False)"
      ]
     },
     "execution_count": 2,
     "metadata": {},
     "output_type": "execute_result"
    }
   ],
   "source": [
    "temp = list(range(400))\n",
    "df = pd.read_csv('letters.csv',header=None)\n",
    "mdata = df[temp].values\n",
    "cats = df[[400]].values\n",
    "\n",
    "Xtrain, Xtest, Ctrain, Ctest = train_test_split(mdata, cats)\n",
    "\n",
    "classifier = SVC(kernel='linear')\n",
    "classifier.fit(Xtrain,Ctrain)"
   ]
  },
  {
   "cell_type": "code",
   "execution_count": 3,
   "metadata": {
    "collapsed": false
   },
   "outputs": [
    {
     "name": "stdout",
     "output_type": "stream",
     "text": [
      "             precision    recall  f1-score   support\n",
      "\n",
      "          A       1.00      1.00      1.00        55\n",
      "          B       0.98      0.96      0.97        51\n",
      "          C       0.75      0.75      0.75        48\n",
      "          D       1.00      0.98      0.99        47\n",
      "          E       0.95      0.96      0.96        57\n",
      "          F       0.96      0.98      0.97        56\n",
      "          G       1.00      0.98      0.99        52\n",
      "          H       1.00      1.00      1.00        33\n",
      "          I       0.73      0.67      0.70        54\n",
      "          J       0.91      1.00      0.95        52\n",
      "          K       1.00      1.00      1.00        49\n",
      "          L       1.00      1.00      1.00        49\n",
      "          M       1.00      0.98      0.99        47\n",
      "          N       1.00      1.00      1.00        48\n",
      "          O       0.74      0.73      0.73        55\n",
      "          P       0.95      1.00      0.97        55\n",
      "          Q       1.00      1.00      1.00        37\n",
      "          R       1.00      1.00      1.00        41\n",
      "          S       0.70      0.73      0.71        48\n",
      "          T       0.98      0.94      0.96        47\n",
      "          U       0.90      1.00      0.95        47\n",
      "          V       0.82      0.71      0.76        58\n",
      "          W       0.73      0.69      0.71        55\n",
      "          X       0.75      0.69      0.72        59\n",
      "          Y       0.96      0.98      0.97        51\n",
      "          Z       0.80      0.81      0.80        53\n",
      "          a       1.00      0.89      0.94        46\n",
      "          b       1.00      0.92      0.96        48\n",
      "          c       0.77      0.76      0.77        54\n",
      "          d       0.97      1.00      0.98        61\n",
      "          e       1.00      1.00      1.00        44\n",
      "          f       1.00      1.00      1.00        57\n",
      "          g       0.93      0.98      0.96        44\n",
      "          h       0.92      1.00      0.96        46\n",
      "          i       1.00      1.00      1.00         1\n",
      "          j       1.00      0.50      0.67         6\n",
      "          k       1.00      1.00      1.00        47\n",
      "          l       0.62      0.71      0.66        45\n",
      "          m       1.00      0.96      0.98        53\n",
      "          n       1.00      0.94      0.97        54\n",
      "          o       0.60      0.64      0.62        39\n",
      "          p       1.00      0.95      0.97        55\n",
      "          q       0.98      0.98      0.98        46\n",
      "          r       0.95      0.98      0.96        41\n",
      "          s       0.63      0.59      0.61        37\n",
      "          t       0.97      1.00      0.98        61\n",
      "          u       0.96      0.94      0.95        52\n",
      "          v       0.70      0.82      0.76        51\n",
      "          w       0.71      0.75      0.73        56\n",
      "          x       0.68      0.74      0.71        53\n",
      "          y       0.98      0.92      0.95        53\n",
      "          z       0.78      0.74      0.76        47\n",
      "\n",
      "avg / total       0.90      0.89      0.89      2501\n",
      "\n"
     ]
    }
   ],
   "source": [
    "Cpred = classifier.predict(Xtest)\n",
    "print(classification_report(Ctest,Cpred))"
   ]
  },
  {
   "cell_type": "code",
   "execution_count": 5,
   "metadata": {
    "collapsed": false
   },
   "outputs": [
    {
     "name": "stdout",
     "output_type": "stream",
     "text": [
      "[[55  0  0 ...,  0  0  0]\n",
      " [ 0 49  0 ...,  0  0  0]\n",
      " [ 0  0 36 ...,  0  0  0]\n",
      " ..., \n",
      " [ 0  0  0 ..., 39  0  0]\n",
      " [ 0  0  0 ...,  0 49  0]\n",
      " [ 0  0  0 ...,  0  0 35]]\n"
     ]
    },
    {
     "data": {
      "image/png": "[encoded data removed]",
      "text/plain": [
       "<matplotlib.figure.Figure at 0x1030dc550>"
      ]
     },
     "metadata": {},
     "output_type": "display_data"
    }
   ],
   "source": [
    "ypred = classifier.predict(Xtest)\n",
    "print(confusion_matrix(Ctest,Cpred))\n",
    "plt.imshow(np.log(confusion_matrix(Ctest,Cpred)),\n",
    "          cmap='Blues',interpolation='nearest')\n",
    "plt.grid(False)\n",
    "plt.ylabel('true')\n",
    "plt.xlabel('predicted');"
   ]
  },
  {
   "cell_type": "code",
   "execution_count": null,
   "metadata": {
    "collapsed": true
   },
   "outputs": [],
   "source": []
  }
 ],
 "metadata": {
  "kernelspec": {
   "display_name": "Python 3",
   "language": "python",
   "name": "python3"
  },
  "language_info": {
   "codemirror_mode": {
    "name": "ipython",
    "version": 3
   },
   "file_extension": ".py",
   "mimetype": "text/x-python",
   "name": "python",
   "nbconvert_exporter": "python",
   "pygments_lexer": "ipython3",
   "version": "3.4.3"
  }
 },
 "nbformat": 4,
 "nbformat_minor": 0
}
