{
 "cells": [
  {
   "cell_type": "markdown",
   "metadata": {},
   "source": [
    "# ||||||||||||||||||||||||||||||||||||||||||||||||||||||||||||||||||||||||||||||||||||||||||||||||||||||||||||||||||||||||||||||||||||||||||||||||||||||||||||||"
   ]
  },
  {
   "cell_type": "markdown",
   "metadata": {},
   "source": [
    "# Iris Data"
   ]
  },
  {
   "cell_type": "markdown",
   "metadata": {},
   "source": [
    "Just do Cell - Run All, and scroll to the bottom to see results of perceptron on test data"
   ]
  },
  {
   "cell_type": "markdown",
   "metadata": {},
   "source": [
    "## See how Perceptron works on the data"
   ]
  },
  {
   "cell_type": "code",
   "execution_count": 1,
   "metadata": {
    "collapsed": true
   },
   "outputs": [],
   "source": [
    "%matplotlib inline\n",
    "import numpy as np\n",
    "import random\n",
    "import pandas as pd\n",
    "import seaborn as sbn\n",
    "sbn.set()\n",
    "import matplotlib.pyplot as plt"
   ]
  },
  {
   "cell_type": "code",
   "execution_count": 2,
   "metadata": {
    "collapsed": false
   },
   "outputs": [],
   "source": [
    "class Perceptron:\n",
    "    def __init__(self,ts,tc):\n",
    "        self.training_set = ts\n",
    "        self.classes = tc\n",
    "        self.weights = np.array([1 for i in range(len(ts[0]))])\n",
    "        \n",
    "    def classify(self,x):\n",
    "        return np.sign(np.dot(x,self.weights))\n",
    "    \n",
    "    def learn(self,limit=10000):\n",
    "        done = False\n",
    "        count = 0\n",
    "        minamount = 100\n",
    "\n",
    "        while not done and count < limit:\n",
    "            count += 1\n",
    "            self.correct = []\n",
    "            self.incorrect = []\n",
    "            # first classify all points\n",
    "            for ix,i in enumerate(self.training_set):\n",
    "                if self.classify(i) == self.classes[ix]:\n",
    "                    self.correct.append(ix)\n",
    "                else:\n",
    "                    self.incorrect.append(ix)\n",
    "\n",
    "            if len(self.incorrect) == 0:\n",
    "                #print(\"Done!\",self.weights)\n",
    "                done = True\n",
    "            else:\n",
    "                if len(self.incorrect) < minamount:\n",
    "                    minamount = len(self.incorrect)\n",
    "                    best = self.weights\n",
    "                p = random.randrange(len(self.incorrect))\n",
    "                y = self.training_set[self.incorrect[p]]\n",
    "                self.weights = self.weights + y*self.classes[self.incorrect[p]]\n",
    "                #print(len(self.incorrect), self.weights)\n",
    "        if not done:\n",
    "            self.weights = best\n",
    "        return (self.weights)"
   ]
  },
  {
   "cell_type": "code",
   "execution_count": 3,
   "metadata": {
    "collapsed": true
   },
   "outputs": [],
   "source": [
    "def classify_Iris(sepallen,sepalwidth,petallen,petalwidth,weight1,weight2):\n",
    "    first = np.sign(np.dot([sepallen,sepalwidth,petallen,petalwidth],weight1))\n",
    "    if first == 1:\n",
    "        return \"Iris-setosa\"\n",
    "    else:\n",
    "        second = np.sign(np.dot([sepallen,sepalwidth,petallen,petalwidth],weight2))\n",
    "        if second == 1:\n",
    "            return \"Iris-virginica\"\n",
    "        else:\n",
    "            return \"Iris-versicolor\""
   ]
  },
  {
   "cell_type": "code",
   "execution_count": 4,
   "metadata": {
    "collapsed": true
   },
   "outputs": [],
   "source": [
    "def find_weights(data):\n",
    "    c = data[(data.kind == 'Iris-setosa') | (data.kind == 'Iris-virginica') | (data.kind == 'Iris-versicolor')]\n",
    "    cls = []\n",
    "    for x in c['kind']:\n",
    "        if x == \"Iris-setosa\":\n",
    "            cls.append(1)\n",
    "        else:\n",
    "            cls.append(-1)\n",
    "    p = Perceptron((c[['sepallen','sepalwidth','petallen','petalwidth']]).values,cls)\n",
    "    one = p.learn()\n",
    "\n",
    "\n",
    "    c = data[(data.kind == 'Iris-versicolor') | (data.kind == 'Iris-virginica')]\n",
    "    cls = []\n",
    "    for x in c['kind']:\n",
    "        if x == \"Iris-virginica\":\n",
    "            cls.append(1)\n",
    "        else:\n",
    "            cls.append(-1)\n",
    "    p = Perceptron((c[['sepallen','sepalwidth','petallen','petalwidth']]).values,cls)\n",
    "    two = p.learn()\n",
    "    \n",
    "    return (one,two)"
   ]
  },
  {
   "cell_type": "code",
   "execution_count": 5,
   "metadata": {
    "collapsed": false
   },
   "outputs": [
    {
     "data": {
      "text/plain": [
       "True     148\n",
       "False      2\n",
       "dtype: int64"
      ]
     },
     "execution_count": 5,
     "metadata": {},
     "output_type": "execute_result"
    }
   ],
   "source": [
    "df = pd.read_csv('iris.csv',header=None)\n",
    "df.columns = ['sepallen','sepalwidth','petallen','petalwidth','kind']\n",
    "\n",
    "one, two = find_weights(df)\n",
    "\n",
    "calculated = []\n",
    "for idx,row in df.iterrows():\n",
    "    calculated.append(classify_Iris(row['sepallen'],row['sepalwidth'],row['petallen'],row['petalwidth'],one,two))\n",
    "df['calculated'] = calculated\n",
    "df['correct'] = (df['kind'] == df['calculated'])\n",
    "df.correct.value_counts()\n",
    "\n",
    "\n"
   ]
  },
  {
   "cell_type": "markdown",
   "metadata": {},
   "source": [
    "# Now do it on Training Data and test on Test Data"
   ]
  },
  {
   "cell_type": "code",
   "execution_count": 6,
   "metadata": {
    "collapsed": false
   },
   "outputs": [
    {
     "name": "stdout",
     "output_type": "stream",
     "text": [
      "93.33333333333333% of the test data is identified correctly\n"
     ]
    }
   ],
   "source": [
    "df = pd.read_csv('iris.csv',header=None)\n",
    "df.columns = ['sepallen','sepalwidth','petallen','petalwidth','kind']\n",
    "\n",
    "training_data = df.sample(120)\n",
    "test_data = df.drop(training_data.index)\n",
    "\n",
    "one, two = find_weights(training_data)\n",
    "\n",
    "calculated = []\n",
    "for idx,row in test_data.iterrows():\n",
    "    calculated.append(classify_Iris(row['sepallen'],row['sepalwidth'],row['petallen'],row['petalwidth'],one,two))\n",
    "test_data['calculated'] = calculated\n",
    "test_data['correct'] = (test_data['kind'] == test_data['calculated'])\n",
    "\n",
    "right = 0\n",
    "wrong = 0\n",
    "for idx,row in test_data.iterrows():\n",
    "    if row['correct'] == True:\n",
    "        right += 1\n",
    "    else:\n",
    "        wrong += 1\n",
    "tot = right + wrong\n",
    "print(str((right/tot)*100) + \"% of the test data is identified correctly\")\n",
    "        "
   ]
  },
  {
   "cell_type": "markdown",
   "metadata": {},
   "source": [
    "# ||||||||||||||||||||||||||||||||||||||||||||||||||||||||||||||||||||||||||||||||||||||||||||||||||||||||||||||||||||||||||||||||||||||||||||||||||||||||||||||"
   ]
  }
 ],
 "metadata": {
  "kernelspec": {
   "display_name": "Python 3",
   "language": "python",
   "name": "python3"
  },
  "language_info": {
   "codemirror_mode": {
    "name": "ipython",
    "version": 3
   },
   "file_extension": ".py",
   "mimetype": "text/x-python",
   "name": "python",
   "nbconvert_exporter": "python",
   "pygments_lexer": "ipython3",
   "version": "3.4.3"
  }
 },
 "nbformat": 4,
 "nbformat_minor": 0
}
