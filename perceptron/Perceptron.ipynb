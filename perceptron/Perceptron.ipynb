{
 "cells": [
  {
   "cell_type": "markdown",
   "metadata": {},
   "source": [
    "# The Perceptron\n",
    "\n",
    "Based on a simple (the simplest) nerual net.\n",
    "\n",
    "![http://i.stack.imgur.com/KUvpQ.png](http://i.stack.imgur.com/KUvpQ.png)\n",
    "\n",
    "\n",
    "$h(x) = sign((\\sum{w_ix_i}) - threshold)$\n",
    "\n",
    "Can simplify by adding an artificial coordinate $x_0$ and $w_0$  where $x_0 = 1$ \n",
    "\n",
    "This makes it easy\n",
    "\n",
    "$h(x) = sign(\\sum{w_ix_i})$\n",
    "\n",
    "or in vector notation\n",
    "\n",
    "$h(x) = sign(w \\cdot x)$\n",
    "\n"
   ]
  },
  {
   "cell_type": "markdown",
   "metadata": {},
   "source": [
    "## So, how is this a learning system?\n",
    "\n",
    "We need a learning algorithm\n",
    "\n",
    "Supervised Learning requires a training set where we have some data and we know the answer.\n",
    "\n",
    "1. Given a training set of $\\vec x,\\vec y$\n",
    "2. Classify all of the points in $\\vec x$\n",
    "3. Pick a point $n$ from $\\vec x$ that was misclassified\n",
    "4. update the weight vector $\\vec w$ using: $\\vec w = \\vec w + y_n \\vec w_n$\n",
    "\n",
    "Repeat 2 -- 4 until all points are classified correctly.  OR at some upper limit of iteration.\n"
   ]
  },
  {
   "cell_type": "markdown",
   "metadata": {},
   "source": [
    "See https://datasciencelab.wordpress.com/2014/01/10/machine-learning-classics-the-perceptron/ for a nice writeup."
   ]
  },
  {
   "cell_type": "code",
   "execution_count": 1,
   "metadata": {
    "collapsed": false
   },
   "outputs": [],
   "source": [
    "%matplotlib inline\n",
    "import numpy as np\n",
    "import random\n",
    "import pandas as pd\n",
    "import seaborn as sbn\n",
    "sbn.set()\n",
    "import matplotlib.pyplot as plt\n",
    "\n",
    "#ts = [np.array([1,5,10]), np.array([1,3,11]), np.array([1,7,10]), np.array([1,2,3]), np.array([1,6,2]),np.array([1,1,1])]\n",
    "#cls = [1,1,1,-1,-1,-1]\n",
    "#ts = [np.array([1,.2,.1]),np.array([1,.4,.6]),np.array([1,.5,.2]),np.array([1,.7,.9])]\n",
    "#cls = [1,1,1,-1]\n",
    "ts = [np.array([1,.2,.1]),np.array([1,.4,.6]),np.array([1,.5,.2]),\n",
    "      np.array([1,.4,.5]),np.array([1,.2,.35]),np.array([1,.25,.2]),\n",
    "      np.array([1,.1,.3]),np.array([1,.4,.4]),np.array([1,.43,.42]),\n",
    "      \n",
    "      np.array([1,.6,.6]),np.array([1,.9,.58]),np.array([1,.5,.67]),\n",
    "      np.array([1,.7,.56]),np.array([1,.7,.5]),np.array([1,.8,.9]),\n",
    "      np.array([1,.8,.9]),np.array([1,.76,.58]),np.array([1,.79,.42])]\n",
    "      \n",
    "cls = [1,1,1,-1,1,1,1,1,1,-1,-1,-1,1,-1,-1,-1,1,-1]\n",
    "w = np.array([1,1,1])\n"
   ]
  },
  {
   "cell_type": "code",
   "execution_count": 2,
   "metadata": {
    "collapsed": false
   },
   "outputs": [
    {
     "name": "stderr",
     "output_type": "stream",
     "text": [
      "/Users/Grant/Documents/2015_Fall/machine_learning/jupyter/lib/python3.4/site-packages/IPython/html.py:14: ShimWarning: The `IPython.html` package has been deprecated. You should import from `notebook` instead. `IPython.html.widgets` has moved to `ipywidgets`.\n",
      "  \"`IPython.html.widgets` has moved to `ipywidgets`.\", ShimWarning)\n"
     ]
    },
    {
     "data": {
      "image/png": "[encoded data removed]",
      "text/plain": [
       "<matplotlib.figure.Figure at 0x10952ff28>"
      ]
     },
     "metadata": {},
     "output_type": "display_data"
    }
   ],
   "source": [
    "from ipywidgets import interact, interactive, fixed\n",
    "from IPython.html import widgets\n",
    "\n",
    "class Perceptron:\n",
    "    def __init__(self,ts,tc):\n",
    "        self.training_set = ts\n",
    "        self.classes = tc\n",
    "        self.weights = np.array([1 for i in range(len(ts[0]))])\n",
    "        \n",
    "    def classify(self,x):\n",
    "        return np.sign(np.dot(x,self.weights))\n",
    "    \n",
    "    def learn(self,limit=10000):\n",
    "        done = False\n",
    "        count = 0\n",
    "        minamount = 100\n",
    "\n",
    "        while not done and count < limit:\n",
    "            count += 1\n",
    "            self.correct = []\n",
    "            self.incorrect = []\n",
    "            # first classify all points\n",
    "            for ix,i in enumerate(self.training_set):\n",
    "                if self.classify(i) == self.classes[ix]:\n",
    "                    self.correct.append(ix)\n",
    "                else:\n",
    "                    self.incorrect.append(ix)\n",
    "\n",
    "            if len(self.incorrect) == 0:\n",
    "                print(\"Done!\",self.weights)\n",
    "                done = True\n",
    "            else:\n",
    "                if len(self.incorrect) < minamount:\n",
    "                    minamount = len(self.incorrect)\n",
    "                    best = self.weights\n",
    "                p = random.randrange(len(self.incorrect))\n",
    "                y = self.training_set[self.incorrect[p]]\n",
    "                self.weights = self.weights + y*self.classes[self.incorrect[p]]\n",
    "                #print(len(self.incorrect), self.weights)\n",
    "        if not done:\n",
    "            self.weights = best\n",
    "        self.plot()\n",
    "        \n",
    "        \n",
    "    def plot(self):\n",
    "        cols = []\n",
    "        xvals = list(map(lambda x: x[1], self.training_set))\n",
    "        #cmap = list(map(lambda x: 'red' if x < 0 else 'blue', self.classes))\n",
    "        plt.scatter(xvals,list(map(lambda x: x[2],self.training_set)),c=self.classes)\n",
    "        slope, intcpt = -self.weights[1]/self.weights[2], -self.weights[0]/self.weights[2]\n",
    "        xvals = np.linspace(min(xvals),max(xvals))\n",
    "        plt.plot(xvals,slope*xvals+intcpt)\n",
    "\n",
    "p = Perceptron(ts,cls)\n",
    "p.learn()\n",
    "#interact(p.learn,limit=widgets.widget_int.IntSlider(min=0,max=10,step=1,value=1))\n",
    "\n",
    "        \n",
    "\n",
    "\n"
   ]
  },
  {
   "cell_type": "code",
   "execution_count": 3,
   "metadata": {
    "collapsed": false
   },
   "outputs": [
    {
     "data": {
      "text/plain": [
       "<matplotlib.collections.PathCollection at 0x109695898>"
      ]
     },
     "execution_count": 3,
     "metadata": {},
     "output_type": "execute_result"
    },
    {
     "data": {
      "image/png": "[encoded data removed]",
      "text/plain": [
       "<matplotlib.figure.Figure at 0x10950d0b8>"
      ]
     },
     "metadata": {},
     "output_type": "display_data"
    }
   ],
   "source": [
    "plt.scatter(list(map(lambda x: x[1],ts)),list(map(lambda x: x[2],ts)))"
   ]
  },
  {
   "cell_type": "markdown",
   "metadata": {},
   "source": [
    "### Lets look at a classic dataset in machine learning.  The iris dataset\n",
    "\n",
    "Attribute Information:\n",
    "1. sepal length in cm\n",
    "2. sepal width in cm\n",
    "3. petal length in cm\n",
    "4. petal width in cm\n",
    "5. class: \n",
    "  - Iris Setosa\n",
    "  - Iris Versicolour\n",
    "  - Iris Virginica\n",
    "\n",
    "Since we only can do a binary classification right now, lets look at setosa versus virginica\n"
   ]
  },
  {
   "cell_type": "markdown",
   "metadata": {},
   "source": [
    "# ||||||||||||||||||||||||||||||||||||||||||||||||||||||||||||||||||||||||||||||||||||||||||||||||||||||||||||||||||||||||||||||||||||||||||||||||||||||||||||||"
   ]
  },
  {
   "cell_type": "markdown",
   "metadata": {},
   "source": [
    "# Iris Data"
   ]
  },
  {
   "cell_type": "markdown",
   "metadata": {},
   "source": [
    "## See how Perceptron works on the data"
   ]
  },
  {
   "cell_type": "code",
   "execution_count": 4,
   "metadata": {
    "collapsed": false
   },
   "outputs": [],
   "source": [
    "from ipywidgets import interact, interactive, fixed\n",
    "from IPython.html import widgets\n",
    "\n",
    "class Perceptron:\n",
    "    def __init__(self,ts,tc):\n",
    "        self.training_set = ts\n",
    "        self.classes = tc\n",
    "        self.weights = np.array([1 for i in range(len(ts[0]))])\n",
    "        \n",
    "    def classify(self,x):\n",
    "        return np.sign(np.dot(x,self.weights))\n",
    "    \n",
    "    def learn(self,limit=10000):\n",
    "        done = False\n",
    "        count = 0\n",
    "        minamount = 100\n",
    "\n",
    "        while not done and count < limit:\n",
    "            count += 1\n",
    "            self.correct = []\n",
    "            self.incorrect = []\n",
    "            # first classify all points\n",
    "            for ix,i in enumerate(self.training_set):\n",
    "                if self.classify(i) == self.classes[ix]:\n",
    "                    self.correct.append(ix)\n",
    "                else:\n",
    "                    self.incorrect.append(ix)\n",
    "\n",
    "            if len(self.incorrect) == 0:\n",
    "                #print(\"Done!\",self.weights)\n",
    "                done = True\n",
    "            else:\n",
    "                if len(self.incorrect) < minamount:\n",
    "                    minamount = len(self.incorrect)\n",
    "                    best = self.weights\n",
    "                p = random.randrange(len(self.incorrect))\n",
    "                y = self.training_set[self.incorrect[p]]\n",
    "                self.weights = self.weights + y*self.classes[self.incorrect[p]]\n",
    "                #print(len(self.incorrect), self.weights)\n",
    "        if not done:\n",
    "            self.weights = best\n",
    "        return (self.weights)"
   ]
  },
  {
   "cell_type": "code",
   "execution_count": 5,
   "metadata": {
    "collapsed": true
   },
   "outputs": [],
   "source": [
    "def classify_Iris(sepallen,sepalwidth,petallen,petalwidth,weight1,weight2):\n",
    "    first = np.sign(np.dot([sepallen,sepalwidth,petallen,petalwidth],weight1))\n",
    "    if first == 1:\n",
    "        return \"Iris-setosa\"\n",
    "    else:\n",
    "        second = np.sign(np.dot([sepallen,sepalwidth,petallen,petalwidth],weight2))\n",
    "        if second == 1:\n",
    "            return \"Iris-virginica\"\n",
    "        else:\n",
    "            return \"Iris-versicolor\""
   ]
  },
  {
   "cell_type": "code",
   "execution_count": 6,
   "metadata": {
    "collapsed": true
   },
   "outputs": [],
   "source": [
    "def find_weights(data):\n",
    "    c = data[(data.kind == 'Iris-setosa') | (data.kind == 'Iris-virginica') | (data.kind == 'Iris-versicolor')]\n",
    "    cls = []\n",
    "    for x in c['kind']:\n",
    "        if x == \"Iris-setosa\":\n",
    "            cls.append(1)\n",
    "        else:\n",
    "            cls.append(-1)\n",
    "    p = Perceptron((c[['sepallen','sepalwidth','petallen','petalwidth']]).values,cls)\n",
    "    one = p.learn()\n",
    "\n",
    "\n",
    "    c = data[(data.kind == 'Iris-versicolor') | (data.kind == 'Iris-virginica')]\n",
    "    cls = []\n",
    "    for x in c['kind']:\n",
    "        if x == \"Iris-virginica\":\n",
    "            cls.append(1)\n",
    "        else:\n",
    "            cls.append(-1)\n",
    "    p = Perceptron((c[['sepallen','sepalwidth','petallen','petalwidth']]).values,cls)\n",
    "    two = p.learn()\n",
    "    \n",
    "    return (one,two)"
   ]
  },
  {
   "cell_type": "code",
   "execution_count": 7,
   "metadata": {
    "collapsed": false
   },
   "outputs": [
    {
     "data": {
      "text/plain": [
       "True     147\n",
       "False      3\n",
       "dtype: int64"
      ]
     },
     "execution_count": 7,
     "metadata": {},
     "output_type": "execute_result"
    }
   ],
   "source": [
    "df = pd.read_csv('iris.csv',header=None)\n",
    "df.columns = ['sepallen','sepalwidth','petallen','petalwidth','kind']\n",
    "\n",
    "one, two = find_weights(df)\n",
    "\n",
    "calculated = []\n",
    "for idx,row in df.iterrows():\n",
    "    calculated.append(classify_Iris(row['sepallen'],row['sepalwidth'],row['petallen'],row['petalwidth'],one,two))\n",
    "df['calculated'] = calculated\n",
    "df['correct'] = (df['kind'] == df['calculated'])\n",
    "df.correct.value_counts()\n"
   ]
  },
  {
   "cell_type": "markdown",
   "metadata": {},
   "source": [
    "# Now do it on Training Data and test on Test Data"
   ]
  },
  {
   "cell_type": "code",
   "execution_count": 8,
   "metadata": {
    "collapsed": false
   },
   "outputs": [
    {
     "name": "stdout",
     "output_type": "stream",
     "text": [
      "96.66666666666667% of the test data is identified correctly\n"
     ]
    }
   ],
   "source": [
    "df = pd.read_csv('iris.csv',header=None)\n",
    "df.columns = ['sepallen','sepalwidth','petallen','petalwidth','kind']\n",
    "\n",
    "training_data = df.sample(120)\n",
    "test_data = df.drop(training_data.index)\n",
    "\n",
    "one, two = find_weights(training_data)\n",
    "\n",
    "calculated = []\n",
    "for idx,row in test_data.iterrows():\n",
    "    calculated.append(classify_Iris(row['sepallen'],row['sepalwidth'],row['petallen'],row['petalwidth'],one,two))\n",
    "test_data['calculated'] = calculated\n",
    "test_data['correct'] = (test_data['kind'] == test_data['calculated'])\n",
    "\n",
    "right = 0\n",
    "wrong = 0\n",
    "for idx,row in test_data.iterrows():\n",
    "    if row['correct'] == True:\n",
    "        right += 1\n",
    "    else:\n",
    "        wrong += 1\n",
    "tot = right + wrong\n",
    "print(str((right/tot)*100) + \"% of the test data is identified correctly\")\n",
    "        "
   ]
  },
  {
   "cell_type": "markdown",
   "metadata": {},
   "source": [
    "# ||||||||||||||||||||||||||||||||||||||||||||||||||||||||||||||||||||||||||||||||||||||||||||||||||||||||||||||||||||||||||||||||||||||||||||||||||||||||||||||"
   ]
  },
  {
   "cell_type": "markdown",
   "metadata": {},
   "source": [
    "### Lets try\n",
    "\n",
    "Conver this into something we can use with our simple perceptron learning algorithm and see if it works.\n"
   ]
  },
  {
   "cell_type": "markdown",
   "metadata": {
    "collapsed": true
   },
   "source": [
    "### Lets look at a more interesting dataset\n",
    "\n",
    "Predicting the incidence of diabetes in the Pima Indian population  using the `pima-indians-diabetes.data` file.\n",
    "\n",
    "The columns of the file are as follows:\n",
    "\n",
    "1. Number of times pregnant\n",
    "2. Plasma glucose concentration a 2 hours in an oral glucose tolerance test\n",
    "3. Diastolic blood pressure (mm Hg)\n",
    "4. Triceps skin fold thickness (mm)\n",
    "5. 2-Hour serum insulin (mu U/ml)\n",
    "6. Body mass index (weight in kg/(height in m)^2)\n",
    "7. Diabetes pedigree function\n",
    "8. Age (years)\n",
    "9. Class variable (0 or 1)\n",
    "\n"
   ]
  },
  {
   "cell_type": "code",
   "execution_count": 11,
   "metadata": {
    "collapsed": false
   },
   "outputs": [
    {
     "ename": "OSError",
     "evalue": "File b'../Data/pima-indians-diabetes.data' does not exist",
     "output_type": "error",
     "traceback": [
      "\u001b[0;31m---------------------------------------------------------------------------\u001b[0m",
      "\u001b[0;31mOSError\u001b[0m                                   Traceback (most recent call last)",
      "\u001b[0;32m<ipython-input-11-aeb8cb7e4195>\u001b[0m in \u001b[0;36m<module>\u001b[0;34m()\u001b[0m\n\u001b[0;32m----> 1\u001b[0;31m \u001b[0mdf\u001b[0m \u001b[0;34m=\u001b[0m \u001b[0mpd\u001b[0m\u001b[0;34m.\u001b[0m\u001b[0mread_csv\u001b[0m\u001b[0;34m(\u001b[0m\u001b[0;34m'../Data/pima-indians-diabetes.data'\u001b[0m\u001b[0;34m,\u001b[0m\u001b[0mheader\u001b[0m\u001b[0;34m=\u001b[0m\u001b[0;32mNone\u001b[0m\u001b[0;34m)\u001b[0m\u001b[0;34m\u001b[0m\u001b[0m\n\u001b[0m\u001b[1;32m      2\u001b[0m \u001b[0mdf\u001b[0m\u001b[0;34m.\u001b[0m\u001b[0mcolumns\u001b[0m \u001b[0;34m=\u001b[0m \u001b[0;34m[\u001b[0m\u001b[0;34m'ntp'\u001b[0m\u001b[0;34m,\u001b[0m\u001b[0;34m'glucose'\u001b[0m\u001b[0;34m,\u001b[0m\u001b[0;34m'bp'\u001b[0m\u001b[0;34m,\u001b[0m\u001b[0;34m'tsft'\u001b[0m\u001b[0;34m,\u001b[0m\u001b[0;34m'insulin'\u001b[0m\u001b[0;34m,\u001b[0m\u001b[0;34m'bmi'\u001b[0m\u001b[0;34m,\u001b[0m\u001b[0;34m'dpf'\u001b[0m\u001b[0;34m,\u001b[0m\u001b[0;34m'age'\u001b[0m\u001b[0;34m,\u001b[0m\u001b[0;34m'class'\u001b[0m\u001b[0;34m]\u001b[0m\u001b[0;34m\u001b[0m\u001b[0m\n",
      "\u001b[0;32m/Users/Grant/Documents/2015_Fall/machine_learning/jupyter/lib/python3.4/site-packages/pandas/io/parsers.py\u001b[0m in \u001b[0;36mparser_f\u001b[0;34m(filepath_or_buffer, sep, dialect, compression, doublequote, escapechar, quotechar, quoting, skipinitialspace, lineterminator, header, index_col, names, prefix, skiprows, skipfooter, skip_footer, na_values, na_fvalues, true_values, false_values, delimiter, converters, dtype, usecols, engine, delim_whitespace, as_recarray, na_filter, compact_ints, use_unsigned, low_memory, buffer_lines, warn_bad_lines, error_bad_lines, keep_default_na, thousands, comment, decimal, parse_dates, keep_date_col, dayfirst, date_parser, memory_map, float_precision, nrows, iterator, chunksize, verbose, encoding, squeeze, mangle_dupe_cols, tupleize_cols, infer_datetime_format, skip_blank_lines)\u001b[0m\n\u001b[1;32m    472\u001b[0m                     skip_blank_lines=skip_blank_lines)\n\u001b[1;32m    473\u001b[0m \u001b[0;34m\u001b[0m\u001b[0m\n\u001b[0;32m--> 474\u001b[0;31m         \u001b[0;32mreturn\u001b[0m \u001b[0m_read\u001b[0m\u001b[0;34m(\u001b[0m\u001b[0mfilepath_or_buffer\u001b[0m\u001b[0;34m,\u001b[0m \u001b[0mkwds\u001b[0m\u001b[0;34m)\u001b[0m\u001b[0;34m\u001b[0m\u001b[0m\n\u001b[0m\u001b[1;32m    475\u001b[0m \u001b[0;34m\u001b[0m\u001b[0m\n\u001b[1;32m    476\u001b[0m     \u001b[0mparser_f\u001b[0m\u001b[0;34m.\u001b[0m\u001b[0m__name__\u001b[0m \u001b[0;34m=\u001b[0m \u001b[0mname\u001b[0m\u001b[0;34m\u001b[0m\u001b[0m\n",
      "\u001b[0;32m/Users/Grant/Documents/2015_Fall/machine_learning/jupyter/lib/python3.4/site-packages/pandas/io/parsers.py\u001b[0m in \u001b[0;36m_read\u001b[0;34m(filepath_or_buffer, kwds)\u001b[0m\n\u001b[1;32m    248\u001b[0m \u001b[0;34m\u001b[0m\u001b[0m\n\u001b[1;32m    249\u001b[0m     \u001b[0;31m# Create the parser.\u001b[0m\u001b[0;34m\u001b[0m\u001b[0;34m\u001b[0m\u001b[0m\n\u001b[0;32m--> 250\u001b[0;31m     \u001b[0mparser\u001b[0m \u001b[0;34m=\u001b[0m \u001b[0mTextFileReader\u001b[0m\u001b[0;34m(\u001b[0m\u001b[0mfilepath_or_buffer\u001b[0m\u001b[0;34m,\u001b[0m \u001b[0;34m**\u001b[0m\u001b[0mkwds\u001b[0m\u001b[0;34m)\u001b[0m\u001b[0;34m\u001b[0m\u001b[0m\n\u001b[0m\u001b[1;32m    251\u001b[0m \u001b[0;34m\u001b[0m\u001b[0m\n\u001b[1;32m    252\u001b[0m     \u001b[0;32mif\u001b[0m \u001b[0;34m(\u001b[0m\u001b[0mnrows\u001b[0m \u001b[0;32mis\u001b[0m \u001b[0;32mnot\u001b[0m \u001b[0;32mNone\u001b[0m\u001b[0;34m)\u001b[0m \u001b[0;32mand\u001b[0m \u001b[0;34m(\u001b[0m\u001b[0mchunksize\u001b[0m \u001b[0;32mis\u001b[0m \u001b[0;32mnot\u001b[0m \u001b[0;32mNone\u001b[0m\u001b[0;34m)\u001b[0m\u001b[0;34m:\u001b[0m\u001b[0;34m\u001b[0m\u001b[0m\n",
      "\u001b[0;32m/Users/Grant/Documents/2015_Fall/machine_learning/jupyter/lib/python3.4/site-packages/pandas/io/parsers.py\u001b[0m in \u001b[0;36m__init__\u001b[0;34m(self, f, engine, **kwds)\u001b[0m\n\u001b[1;32m    564\u001b[0m             \u001b[0mself\u001b[0m\u001b[0;34m.\u001b[0m\u001b[0moptions\u001b[0m\u001b[0;34m[\u001b[0m\u001b[0;34m'has_index_names'\u001b[0m\u001b[0;34m]\u001b[0m \u001b[0;34m=\u001b[0m \u001b[0mkwds\u001b[0m\u001b[0;34m[\u001b[0m\u001b[0;34m'has_index_names'\u001b[0m\u001b[0;34m]\u001b[0m\u001b[0;34m\u001b[0m\u001b[0m\n\u001b[1;32m    565\u001b[0m \u001b[0;34m\u001b[0m\u001b[0m\n\u001b[0;32m--> 566\u001b[0;31m         \u001b[0mself\u001b[0m\u001b[0;34m.\u001b[0m\u001b[0m_make_engine\u001b[0m\u001b[0;34m(\u001b[0m\u001b[0mself\u001b[0m\u001b[0;34m.\u001b[0m\u001b[0mengine\u001b[0m\u001b[0;34m)\u001b[0m\u001b[0;34m\u001b[0m\u001b[0m\n\u001b[0m\u001b[1;32m    567\u001b[0m \u001b[0;34m\u001b[0m\u001b[0m\n\u001b[1;32m    568\u001b[0m     \u001b[0;32mdef\u001b[0m \u001b[0m_get_options_with_defaults\u001b[0m\u001b[0;34m(\u001b[0m\u001b[0mself\u001b[0m\u001b[0;34m,\u001b[0m \u001b[0mengine\u001b[0m\u001b[0;34m)\u001b[0m\u001b[0;34m:\u001b[0m\u001b[0;34m\u001b[0m\u001b[0m\n",
      "\u001b[0;32m/Users/Grant/Documents/2015_Fall/machine_learning/jupyter/lib/python3.4/site-packages/pandas/io/parsers.py\u001b[0m in \u001b[0;36m_make_engine\u001b[0;34m(self, engine)\u001b[0m\n\u001b[1;32m    703\u001b[0m     \u001b[0;32mdef\u001b[0m \u001b[0m_make_engine\u001b[0m\u001b[0;34m(\u001b[0m\u001b[0mself\u001b[0m\u001b[0;34m,\u001b[0m \u001b[0mengine\u001b[0m\u001b[0;34m=\u001b[0m\u001b[0;34m'c'\u001b[0m\u001b[0;34m)\u001b[0m\u001b[0;34m:\u001b[0m\u001b[0;34m\u001b[0m\u001b[0m\n\u001b[1;32m    704\u001b[0m         \u001b[0;32mif\u001b[0m \u001b[0mengine\u001b[0m \u001b[0;34m==\u001b[0m \u001b[0;34m'c'\u001b[0m\u001b[0;34m:\u001b[0m\u001b[0;34m\u001b[0m\u001b[0m\n\u001b[0;32m--> 705\u001b[0;31m             \u001b[0mself\u001b[0m\u001b[0;34m.\u001b[0m\u001b[0m_engine\u001b[0m \u001b[0;34m=\u001b[0m \u001b[0mCParserWrapper\u001b[0m\u001b[0;34m(\u001b[0m\u001b[0mself\u001b[0m\u001b[0;34m.\u001b[0m\u001b[0mf\u001b[0m\u001b[0;34m,\u001b[0m \u001b[0;34m**\u001b[0m\u001b[0mself\u001b[0m\u001b[0;34m.\u001b[0m\u001b[0moptions\u001b[0m\u001b[0;34m)\u001b[0m\u001b[0;34m\u001b[0m\u001b[0m\n\u001b[0m\u001b[1;32m    706\u001b[0m         \u001b[0;32melse\u001b[0m\u001b[0;34m:\u001b[0m\u001b[0;34m\u001b[0m\u001b[0m\n\u001b[1;32m    707\u001b[0m             \u001b[0;32mif\u001b[0m \u001b[0mengine\u001b[0m \u001b[0;34m==\u001b[0m \u001b[0;34m'python'\u001b[0m\u001b[0;34m:\u001b[0m\u001b[0;34m\u001b[0m\u001b[0m\n",
      "\u001b[0;32m/Users/Grant/Documents/2015_Fall/machine_learning/jupyter/lib/python3.4/site-packages/pandas/io/parsers.py\u001b[0m in \u001b[0;36m__init__\u001b[0;34m(self, src, **kwds)\u001b[0m\n\u001b[1;32m   1070\u001b[0m         \u001b[0mkwds\u001b[0m\u001b[0;34m[\u001b[0m\u001b[0;34m'allow_leading_cols'\u001b[0m\u001b[0;34m]\u001b[0m \u001b[0;34m=\u001b[0m \u001b[0mself\u001b[0m\u001b[0;34m.\u001b[0m\u001b[0mindex_col\u001b[0m \u001b[0;32mis\u001b[0m \u001b[0;32mnot\u001b[0m \u001b[0;32mFalse\u001b[0m\u001b[0;34m\u001b[0m\u001b[0m\n\u001b[1;32m   1071\u001b[0m \u001b[0;34m\u001b[0m\u001b[0m\n\u001b[0;32m-> 1072\u001b[0;31m         \u001b[0mself\u001b[0m\u001b[0;34m.\u001b[0m\u001b[0m_reader\u001b[0m \u001b[0;34m=\u001b[0m \u001b[0m_parser\u001b[0m\u001b[0;34m.\u001b[0m\u001b[0mTextReader\u001b[0m\u001b[0;34m(\u001b[0m\u001b[0msrc\u001b[0m\u001b[0;34m,\u001b[0m \u001b[0;34m**\u001b[0m\u001b[0mkwds\u001b[0m\u001b[0;34m)\u001b[0m\u001b[0;34m\u001b[0m\u001b[0m\n\u001b[0m\u001b[1;32m   1073\u001b[0m \u001b[0;34m\u001b[0m\u001b[0m\n\u001b[1;32m   1074\u001b[0m         \u001b[0;31m# XXX\u001b[0m\u001b[0;34m\u001b[0m\u001b[0;34m\u001b[0m\u001b[0m\n",
      "\u001b[0;32mpandas/parser.pyx\u001b[0m in \u001b[0;36mpandas.parser.TextReader.__cinit__ (pandas/parser.c:3173)\u001b[0;34m()\u001b[0m\n",
      "\u001b[0;32mpandas/parser.pyx\u001b[0m in \u001b[0;36mpandas.parser.TextReader._setup_parser_source (pandas/parser.c:5912)\u001b[0;34m()\u001b[0m\n",
      "\u001b[0;31mOSError\u001b[0m: File b'../Data/pima-indians-diabetes.data' does not exist"
     ]
    }
   ],
   "source": [
    "df = pd.read_csv('../Data/pima-indians-diabetes.data',header=None)\n",
    "df.columns = ['ntp','glucose','bp','tsft','insulin','bmi','dpf','age','class']"
   ]
  },
  {
   "cell_type": "code",
   "execution_count": null,
   "metadata": {
    "collapsed": false
   },
   "outputs": [],
   "source": [
    "df.head()"
   ]
  },
  {
   "cell_type": "code",
   "execution_count": null,
   "metadata": {
    "collapsed": false
   },
   "outputs": [],
   "source": [
    "sbn.pairplot(df[['glucose','bp','bmi','age','insulin']])"
   ]
  }
 ],
 "metadata": {
  "kernelspec": {
   "display_name": "Python 3",
   "language": "python",
   "name": "python3"
  },
  "language_info": {
   "codemirror_mode": {
    "name": "ipython",
    "version": 3
   },
   "file_extension": ".py",
   "mimetype": "text/x-python",
   "name": "python",
   "nbconvert_exporter": "python",
   "pygments_lexer": "ipython3",
   "version": "3.4.3"
  }
 },
 "nbformat": 4,
 "nbformat_minor": 0
}
