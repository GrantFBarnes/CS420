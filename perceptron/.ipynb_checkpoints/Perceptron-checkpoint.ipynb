{
 "cells": [
  {
   "cell_type": "markdown",
   "metadata": {},
   "source": [
    "# The Perceptron\n",
    "\n",
    "Based on a simple (the simplest) nerual net.\n",
    "\n",
    "![http://i.stack.imgur.com/KUvpQ.png](http://i.stack.imgur.com/KUvpQ.png)\n",
    "\n",
    "\n",
    "$h(x) = sign((\\sum{w_ix_i}) - threshold)$\n",
    "\n",
    "Can simplify by adding an artificial coordinate $x_0$ and $w_0$  where $x_0 = 1$ \n",
    "\n",
    "This makes it easy\n",
    "\n",
    "$h(x) = sign(\\sum{w_ix_i})$\n",
    "\n",
    "or in vector notation\n",
    "\n",
    "$h(x) = sign(w \\cdot x)$\n",
    "\n"
   ]
  },
  {
   "cell_type": "markdown",
   "metadata": {},
   "source": [
    "## So, how is this a learning system?\n",
    "\n",
    "We need a learning algorithm\n",
    "\n",
    "Supervised Learning requires a training set where we have some data and we know the answer.\n",
    "\n",
    "1. Given a training set of $\\vec x,\\vec y$\n",
    "2. Classify all of the points in $\\vec x$\n",
    "3. Pick a point $n$ from $\\vec x$ that was misclassified\n",
    "4. update the weight vector $\\vec w$ using: $\\vec w = \\vec w + y_n \\vec w_n$\n",
    "\n",
    "Repeat 2 -- 4 until all points are classified correctly.  OR at some upper limit of iteration.\n"
   ]
  },
  {
   "cell_type": "markdown",
   "metadata": {},
   "source": [
    "See https://datasciencelab.wordpress.com/2014/01/10/machine-learning-classics-the-perceptron/ for a nice writeup."
   ]
  },
  {
   "cell_type": "code",
   "execution_count": 1,
   "metadata": {
    "collapsed": false
   },
   "outputs": [],
   "source": [
    "%matplotlib inline\n",
    "import numpy as np\n",
    "import random\n",
    "import pandas as pd\n",
    "import seaborn as sbn\n",
    "sbn.set()\n",
    "import matplotlib.pyplot as plt\n",
    "\n",
    "#ts = [np.array([1,5,10]), np.array([1,3,11]), np.array([1,7,10]), np.array([1,2,3]), np.array([1,6,2]),np.array([1,1,1])]\n",
    "#cls = [1,1,1,-1,-1,-1]\n",
    "#ts = [np.array([1,.2,.1]),np.array([1,.4,.6]),np.array([1,.5,.2]),np.array([1,.7,.9])]\n",
    "#cls = [1,1,1,-1]\n",
    "ts = [np.array([1,.2,.1]),np.array([1,.4,.6]),np.array([1,.5,.2]),\n",
    "      np.array([1,.4,.5]),np.array([1,.2,.35]),np.array([1,.25,.2]),\n",
    "      np.array([1,.1,.3]),np.array([1,.4,.4]),np.array([1,.43,.42]),\n",
    "      \n",
    "      np.array([1,.6,.6]),np.array([1,.9,.58]),np.array([1,.5,.67]),\n",
    "      np.array([1,.7,.56]),np.array([1,.7,.5]),np.array([1,.8,.9]),\n",
    "      np.array([1,.8,.9]),np.array([1,.76,.58]),np.array([1,.79,.42])]\n",
    "      \n",
    "cls = [1,1,1,-1,1,1,1,1,1,-1,-1,-1,1,-1,-1,-1,1,-1]\n",
    "w = np.array([1,1,1])\n"
   ]
  },
  {
   "cell_type": "code",
   "execution_count": 2,
   "metadata": {
    "collapsed": false
   },
   "outputs": [
    {
     "name": "stderr",
     "output_type": "stream",
     "text": [
      "/Users/Grant/Documents/2015_Fall/machine_learning/jupyter/lib/python3.4/site-packages/IPython/html.py:14: ShimWarning: The `IPython.html` package has been deprecated. You should import from `notebook` instead. `IPython.html.widgets` has moved to `ipywidgets`.\n",
      "  \"`IPython.html.widgets` has moved to `ipywidgets`.\", ShimWarning)\n"
     ]
    },
    {
     "data": {
      "image/png": "[encoded data removed]",
      "text/plain": [
       "<matplotlib.figure.Figure at 0x1083ecf60>"
      ]
     },
     "metadata": {},
     "output_type": "display_data"
    }
   ],
   "source": [
    "from ipywidgets import interact, interactive, fixed\n",
    "from IPython.html import widgets\n",
    "\n",
    "class Perceptron:\n",
    "    def __init__(self,ts,tc):\n",
    "        self.training_set = ts\n",
    "        self.classes = tc\n",
    "        self.weights = np.array([1 for i in range(len(ts[0]))])\n",
    "        \n",
    "    def classify(self,x):\n",
    "        return np.sign(np.dot(x,self.weights))\n",
    "    \n",
    "    def learn(self,limit=10000):\n",
    "        done = False\n",
    "        count = 0\n",
    "        minamount = 100\n",
    "\n",
    "        while not done and count < limit:\n",
    "            count += 1\n",
    "            self.correct = []\n",
    "            self.incorrect = []\n",
    "            # first classify all points\n",
    "            for ix,i in enumerate(self.training_set):\n",
    "                if self.classify(i) == self.classes[ix]:\n",
    "                    self.correct.append(ix)\n",
    "                else:\n",
    "                    self.incorrect.append(ix)\n",
    "\n",
    "            if len(self.incorrect) == 0:\n",
    "                print(\"Done!\",self.weights)\n",
    "                done = True\n",
    "            else:\n",
    "                if len(self.incorrect) < minamount:\n",
    "                    minamount = len(self.incorrect)\n",
    "                    best = self.weights\n",
    "                p = random.randrange(len(self.incorrect))\n",
    "                y = self.training_set[self.incorrect[p]]\n",
    "                self.weights = self.weights + y*self.classes[self.incorrect[p]]\n",
    "                #print(len(self.incorrect), self.weights)\n",
    "        if not done:\n",
    "            self.weights = best\n",
    "        self.plot()\n",
    "        \n",
    "        \n",
    "    def plot(self):\n",
    "        cols = []\n",
    "        xvals = list(map(lambda x: x[1], self.training_set))\n",
    "        #cmap = list(map(lambda x: 'red' if x < 0 else 'blue', self.classes))\n",
    "        plt.scatter(xvals,list(map(lambda x: x[2],self.training_set)),c=self.classes)\n",
    "        slope, intcpt = -self.weights[1]/self.weights[2], -self.weights[0]/self.weights[2]\n",
    "        xvals = np.linspace(min(xvals),max(xvals))\n",
    "        plt.plot(xvals,slope*xvals+intcpt)\n",
    "\n",
    "p = Perceptron(ts,cls)\n",
    "p.learn()\n",
    "#interact(p.learn,limit=widgets.widget_int.IntSlider(min=0,max=10,step=1,value=1))\n",
    "\n",
    "        \n",
    "\n",
    "\n"
   ]
  },
  {
   "cell_type": "code",
   "execution_count": 3,
   "metadata": {
    "collapsed": false
   },
   "outputs": [
    {
     "data": {
      "text/plain": [
       "<matplotlib.collections.PathCollection at 0x108641b38>"
      ]
     },
     "execution_count": 3,
     "metadata": {},
     "output_type": "execute_result"
    },
    {
     "data": {
      "image/png": "[encoded data removed]",
      "text/plain": [
       "<matplotlib.figure.Figure at 0x1083d0048>"
      ]
     },
     "metadata": {},
     "output_type": "display_data"
    }
   ],
   "source": [
    "plt.scatter(list(map(lambda x: x[1],ts)),list(map(lambda x: x[2],ts)))"
   ]
  },
  {
   "cell_type": "markdown",
   "metadata": {},
   "source": [
    "### Lets look at a classic dataset in machine learning.  The iris dataset\n",
    "\n",
    "Attribute Information:\n",
    "1. sepal length in cm\n",
    "2. sepal width in cm\n",
    "3. petal length in cm\n",
    "4. petal width in cm\n",
    "5. class: \n",
    "  - Iris Setosa\n",
    "  - Iris Versicolour\n",
    "  - Iris Virginica\n",
    "\n",
    "Since we only can do a binary classification right now, lets look at setosa versus virginica\n"
   ]
  },
  {
   "cell_type": "markdown",
   "metadata": {},
   "source": [
    "# ||||||||||||||||||||||||||||||||||||||||||||||||||||||||||||||||||||||||||||||||||||||||||||||||||||||||||||||||||||||||||||||||||||||||||||||||||||||||||||||"
   ]
  },
  {
   "cell_type": "markdown",
   "metadata": {},
   "source": [
    "# Iris Data"
   ]
  },
  {
   "cell_type": "markdown",
   "metadata": {},
   "source": [
    "## See how Perceptron works on the data"
   ]
  },
  {
   "cell_type": "code",
   "execution_count": 4,
   "metadata": {
    "collapsed": true
   },
   "outputs": [],
   "source": [
    "%matplotlib inline\n",
    "import numpy as np\n",
    "import random\n",
    "import pandas as pd\n",
    "import seaborn as sbn\n",
    "sbn.set()\n",
    "import matplotlib.pyplot as plt"
   ]
  },
  {
   "cell_type": "code",
   "execution_count": 5,
   "metadata": {
    "collapsed": false
   },
   "outputs": [],
   "source": [
    "class Perceptron:\n",
    "    def __init__(self,ts,tc):\n",
    "        self.training_set = ts\n",
    "        self.classes = tc\n",
    "        self.weights = np.array([1 for i in range(len(ts[0]))])\n",
    "        \n",
    "    def classify(self,x):\n",
    "        return np.sign(np.dot(x,self.weights))\n",
    "    \n",
    "    def learn(self,limit=10000):\n",
    "        done = False\n",
    "        count = 0\n",
    "        minamount = 100\n",
    "\n",
    "        while not done and count < limit:\n",
    "            count += 1\n",
    "            self.correct = []\n",
    "            self.incorrect = []\n",
    "            # first classify all points\n",
    "            for ix,i in enumerate(self.training_set):\n",
    "                if self.classify(i) == self.classes[ix]:\n",
    "                    self.correct.append(ix)\n",
    "                else:\n",
    "                    self.incorrect.append(ix)\n",
    "\n",
    "            if len(self.incorrect) == 0:\n",
    "                #print(\"Done!\",self.weights)\n",
    "                done = True\n",
    "            else:\n",
    "                if len(self.incorrect) < minamount:\n",
    "                    minamount = len(self.incorrect)\n",
    "                    best = self.weights\n",
    "                p = random.randrange(len(self.incorrect))\n",
    "                y = self.training_set[self.incorrect[p]]\n",
    "                self.weights = self.weights + y*self.classes[self.incorrect[p]]\n",
    "                #print(len(self.incorrect), self.weights)\n",
    "        if not done:\n",
    "            self.weights = best\n",
    "        return (self.weights)"
   ]
  },
  {
   "cell_type": "code",
   "execution_count": 6,
   "metadata": {
    "collapsed": true
   },
   "outputs": [],
   "source": [
    "def classify_Iris(sepallen,sepalwidth,petallen,petalwidth,weight1,weight2):\n",
    "    first = np.sign(np.dot([sepallen,sepalwidth,petallen,petalwidth],weight1))\n",
    "    if first == 1:\n",
    "        return \"Iris-setosa\"\n",
    "    else:\n",
    "        second = np.sign(np.dot([sepallen,sepalwidth,petallen,petalwidth],weight2))\n",
    "        if second == 1:\n",
    "            return \"Iris-virginica\"\n",
    "        else:\n",
    "            return \"Iris-versicolor\""
   ]
  },
  {
   "cell_type": "code",
   "execution_count": 7,
   "metadata": {
    "collapsed": true
   },
   "outputs": [],
   "source": [
    "def find_weights(data):\n",
    "    c = data[(data.kind == 'Iris-setosa') | (data.kind == 'Iris-virginica') | (data.kind == 'Iris-versicolor')]\n",
    "    cls = []\n",
    "    for x in c['kind']:\n",
    "        if x == \"Iris-setosa\":\n",
    "            cls.append(1)\n",
    "        else:\n",
    "            cls.append(-1)\n",
    "    p = Perceptron((c[['sepallen','sepalwidth','petallen','petalwidth']]).values,cls)\n",
    "    one = p.learn()\n",
    "\n",
    "\n",
    "    c = data[(data.kind == 'Iris-versicolor') | (data.kind == 'Iris-virginica')]\n",
    "    cls = []\n",
    "    for x in c['kind']:\n",
    "        if x == \"Iris-virginica\":\n",
    "            cls.append(1)\n",
    "        else:\n",
    "            cls.append(-1)\n",
    "    p = Perceptron((c[['sepallen','sepalwidth','petallen','petalwidth']]).values,cls)\n",
    "    two = p.learn()\n",
    "    \n",
    "    return (one,two)"
   ]
  },
  {
   "cell_type": "code",
   "execution_count": 8,
   "metadata": {
    "collapsed": false
   },
   "outputs": [
    {
     "data": {
      "text/plain": [
       "True     147\n",
       "False      3\n",
       "dtype: int64"
      ]
     },
     "execution_count": 8,
     "metadata": {},
     "output_type": "execute_result"
    }
   ],
   "source": [
    "df = pd.read_csv('iris.csv',header=None)\n",
    "df.columns = ['sepallen','sepalwidth','petallen','petalwidth','kind']\n",
    "\n",
    "one, two = find_weights(df)\n",
    "\n",
    "calculated = []\n",
    "for idx,row in df.iterrows():\n",
    "    calculated.append(classify_Iris(row['sepallen'],row['sepalwidth'],row['petallen'],row['petalwidth'],one,two))\n",
    "df['calculated'] = calculated\n",
    "df['correct'] = (df['kind'] == df['calculated'])\n",
    "df.correct.value_counts()"
   ]
  },
  {
   "cell_type": "markdown",
   "metadata": {},
   "source": [
    "# Now do it on Training Data and test on Test Data"
   ]
  },
  {
   "cell_type": "code",
   "execution_count": 9,
   "metadata": {
    "collapsed": false
   },
   "outputs": [
    {
     "name": "stdout",
     "output_type": "stream",
     "text": [
      "96.66666666666667% of the test data is identified correctly\n"
     ]
    }
   ],
   "source": [
    "df = pd.read_csv('iris.csv',header=None)\n",
    "df.columns = ['sepallen','sepalwidth','petallen','petalwidth','kind']\n",
    "\n",
    "training_data = df.sample(120)\n",
    "test_data = df.drop(training_data.index)\n",
    "\n",
    "one, two = find_weights(training_data)\n",
    "\n",
    "calculated = []\n",
    "for idx,row in test_data.iterrows():\n",
    "    calculated.append(classify_Iris(row['sepallen'],row['sepalwidth'],row['petallen'],row['petalwidth'],one,two))\n",
    "test_data['calculated'] = calculated\n",
    "test_data['correct'] = (test_data['kind'] == test_data['calculated'])\n",
    "\n",
    "right = 0\n",
    "wrong = 0\n",
    "for idx,row in test_data.iterrows():\n",
    "    if row['correct'] == True:\n",
    "        right += 1\n",
    "    else:\n",
    "        wrong += 1\n",
    "tot = right + wrong\n",
    "print(str((right/tot)*100) + \"% of the test data is identified correctly\")\n",
    "        "
   ]
  },
  {
   "cell_type": "markdown",
   "metadata": {},
   "source": [
    "# ||||||||||||||||||||||||||||||||||||||||||||||||||||||||||||||||||||||||||||||||||||||||||||||||||||||||||||||||||||||||||||||||||||||||||||||||||||||||||||||"
   ]
  },
  {
   "cell_type": "markdown",
   "metadata": {},
   "source": [
    "### Lets try\n",
    "\n",
    "Conver this into something we can use with our simple perceptron learning algorithm and see if it works.\n"
   ]
  },
  {
   "cell_type": "markdown",
   "metadata": {
    "collapsed": true
   },
   "source": [
    "### Lets look at a more interesting dataset\n",
    "\n",
    "Predicting the incidence of diabetes in the Pima Indian population  using the `pima-indians-diabetes.data` file.\n",
    "\n",
    "The columns of the file are as follows:\n",
    "\n",
    "1. Number of times pregnant\n",
    "2. Plasma glucose concentration a 2 hours in an oral glucose tolerance test\n",
    "3. Diastolic blood pressure (mm Hg)\n",
    "4. Triceps skin fold thickness (mm)\n",
    "5. 2-Hour serum insulin (mu U/ml)\n",
    "6. Body mass index (weight in kg/(height in m)^2)\n",
    "7. Diabetes pedigree function\n",
    "8. Age (years)\n",
    "9. Class variable (0 or 1)\n",
    "\n"
   ]
  },
  {
   "cell_type": "code",
   "execution_count": 10,
   "metadata": {
    "collapsed": false
   },
   "outputs": [],
   "source": [
    "#df = pd.read_csv('../Data/pima-indians-diabetes.data',header=None)\n",
    "#df.columns = ['ntp','glucose','bp','tsft','insulin','bmi','dpf','age','class']"
   ]
  },
  {
   "cell_type": "code",
   "execution_count": 11,
   "metadata": {
    "collapsed": false
   },
   "outputs": [],
   "source": [
    "#df.head()"
   ]
  },
  {
   "cell_type": "code",
   "execution_count": 12,
   "metadata": {
    "collapsed": false
   },
   "outputs": [],
   "source": [
    "#sbn.pairplot(df[['glucose','bp','bmi','age','insulin']])"
   ]
  },
  {
   "cell_type": "markdown",
   "metadata": {
    "collapsed": true
   },
   "source": [
    "# |||||||||||||||||||||||||||||||||||||||||||||||||||||||||||||||||||||||||||||||||||||||||||||||||||||||||||||||||||||||||||||||||||||"
   ]
  },
  {
   "cell_type": "markdown",
   "metadata": {
    "collapsed": true
   },
   "source": [
    "# Scikit-learn Perceptron on Iris data"
   ]
  },
  {
   "cell_type": "code",
   "execution_count": 13,
   "metadata": {
    "collapsed": false
   },
   "outputs": [
    {
     "name": "stdout",
     "output_type": "stream",
     "text": [
      "Keys =  dict_keys(['data', 'target_names', 'DESCR', 'feature_names', 'target'])\n",
      "['virginica']\n",
      "             precision    recall  f1-score   support\n",
      "\n",
      "     setosa       0.71      1.00      0.83        10\n",
      " versicolor       1.00      0.47      0.64        17\n",
      "  virginica       0.69      1.00      0.81        11\n",
      "\n",
      "avg / total       0.83      0.76      0.74        38\n",
      "\n"
     ]
    }
   ],
   "source": [
    "%matplotlib inline\n",
    "import numpy as np\n",
    "import random\n",
    "import pandas as pd\n",
    "import seaborn as sbn\n",
    "sbn.set()\n",
    "import matplotlib.pyplot as plt\n",
    "from sklearn import datasets\n",
    "from sklearn.linear_model import Perceptron\n",
    "from sklearn.cross_validation import train_test_split\n",
    "from sklearn.metrics import confusion_matrix, classification_report\n",
    "\n",
    "iris = datasets.load_iris()\n",
    "print(\"Keys = \", iris.keys())\n",
    "x,y = iris.data, iris.target\n",
    "Xtrain, Xtest, ytrain, ytest = train_test_split(x,y)\n",
    "\n",
    "#create the model\n",
    "sss = Perceptron(n_iter = 1000) #n_iter\n",
    "\n",
    "# fit the model\n",
    "sss.fit(Xtrain,ytrain)\n",
    "\n",
    "# What kind of iris has 3cm x 5cm sepal and 4cm x 2cm petal?\n",
    "# call the 'predict' method:\n",
    "result = sss.predict([[3,5,4,2]])\n",
    "print(iris.target_names[result])\n",
    "\n",
    "ypred = sss.predict(Xtest)\n",
    "print(classification_report(ytest,ypred,target_names=iris.target_names))"
   ]
  },
  {
   "cell_type": "code",
   "execution_count": 14,
   "metadata": {
    "collapsed": false
   },
   "outputs": [
    {
     "name": "stdout",
     "output_type": "stream",
     "text": [
      "[[10  0  0]\n",
      " [ 4  8  5]\n",
      " [ 0  0 11]]\n",
      "['setosa' 'versicolor' 'virginica']\n"
     ]
    },
    {
     "data": {
      "image/png": "[encoded data removed]",
      "text/plain": [
       "<matplotlib.figure.Figure at 0x103db1f98>"
      ]
     },
     "metadata": {},
     "output_type": "display_data"
    }
   ],
   "source": [
    "ypred = sss.predict(Xtest)\n",
    "print(confusion_matrix(ytest,ypred))\n",
    "print(iris.target_names)\n",
    "plt.imshow(np.log(confusion_matrix(ytest,ypred)),\n",
    "          cmap='Blues',interpolation='nearest')\n",
    "plt.grid(False)\n",
    "plt.ylabel('true')\n",
    "plt.xlabel('predicted');"
   ]
  },
  {
   "cell_type": "markdown",
   "metadata": {
    "collapsed": true
   },
   "source": [
    "# |||||||||||||||||||||||||||||||||||||||||||||||||||||||||||||||||||||||||||||||||||||||||||||||||||||||||||||||||||||||||||||||||||||\n"
   ]
  },
  {
   "cell_type": "markdown",
   "metadata": {
    "collapsed": true
   },
   "source": [
    "# Scikit-learn Perceptron on Mystery Data"
   ]
  },
  {
   "cell_type": "code",
   "execution_count": 15,
   "metadata": {
    "collapsed": false
   },
   "outputs": [
    {
     "data": {
      "text/html": [
       "<div>\n",
       "<table border=\"1\" class=\"dataframe\">\n",
       "  <thead>\n",
       "    <tr style=\"text-align: right;\">\n",
       "      <th></th>\n",
       "      <th>x</th>\n",
       "      <th>y</th>\n",
       "      <th>class</th>\n",
       "    </tr>\n",
       "  </thead>\n",
       "  <tbody>\n",
       "    <tr>\n",
       "      <th>0</th>\n",
       "      <td>-3</td>\n",
       "      <td>7</td>\n",
       "      <td>-1</td>\n",
       "    </tr>\n",
       "    <tr>\n",
       "      <th>1</th>\n",
       "      <td>-4</td>\n",
       "      <td>-1</td>\n",
       "      <td>-1</td>\n",
       "    </tr>\n",
       "    <tr>\n",
       "      <th>2</th>\n",
       "      <td>-7</td>\n",
       "      <td>0</td>\n",
       "      <td>-1</td>\n",
       "    </tr>\n",
       "    <tr>\n",
       "      <th>3</th>\n",
       "      <td>-4</td>\n",
       "      <td>-4</td>\n",
       "      <td>-1</td>\n",
       "    </tr>\n",
       "    <tr>\n",
       "      <th>4</th>\n",
       "      <td>6</td>\n",
       "      <td>1</td>\n",
       "      <td>-1</td>\n",
       "    </tr>\n",
       "  </tbody>\n",
       "</table>\n",
       "</div>"
      ],
      "text/plain": [
       "   x  y  class\n",
       "0 -3  7     -1\n",
       "1 -4 -1     -1\n",
       "2 -7  0     -1\n",
       "3 -4 -4     -1\n",
       "4  6  1     -1"
      ]
     },
     "execution_count": 15,
     "metadata": {},
     "output_type": "execute_result"
    }
   ],
   "source": [
    "df = pd.read_csv('mystery.csv',header=False)\n",
    "df.columns = ['x','y','class']\n",
    "df.head()"
   ]
  },
  {
   "cell_type": "code",
   "execution_count": 16,
   "metadata": {
    "collapsed": false
   },
   "outputs": [
    {
     "name": "stdout",
     "output_type": "stream",
     "text": [
      "             precision    recall  f1-score   support\n",
      "\n",
      "         -1       0.44      0.38      0.41        42\n",
      "          1       0.40      0.46      0.42        37\n",
      "\n",
      "avg / total       0.42      0.42      0.42        79\n",
      "\n"
     ]
    }
   ],
   "source": [
    "training_data = df.iloc[0:199,[0,1]].sample(120)\n",
    "training_y = df.iloc[training_data.index,2].values\n",
    "test_data = df.iloc[0:199,[0,1]].drop(training_data.index) #df.drop(training_data.index)\n",
    "ytest = df.iloc[test_data.index,2].values\n",
    "training_data = training_data.values\n",
    "test_data = test_data.values\n",
    "\n",
    "#create the model\n",
    "sss = Perceptron() #n_iter\n",
    "\n",
    "# fit the model\n",
    "sss.fit(training_data,training_y)\n",
    "# test model\n",
    "ypred = sss.predict(test_data)\n",
    "\n",
    "print(classification_report(ytest,ypred))"
   ]
  },
  {
   "cell_type": "markdown",
   "metadata": {},
   "source": [
    "It seems to be a fairly poor job classifying the test data.  This may be because the data is not linearly seperable, lets graph it to find out."
   ]
  },
  {
   "cell_type": "markdown",
   "metadata": {},
   "source": [
    "### Plot data to have an idea of what we are trying to classify"
   ]
  },
  {
   "cell_type": "code",
   "execution_count": 17,
   "metadata": {
    "collapsed": false
   },
   "outputs": [
    {
     "data": {
      "text/plain": [
       "<matplotlib.collections.PathCollection at 0x108eb30f0>"
      ]
     },
     "execution_count": 17,
     "metadata": {},
     "output_type": "execute_result"
    },
    {
     "data": {
      "image/png": "[encoded data removed]",
      "text/plain": [
       "<matplotlib.figure.Figure at 0x108c743c8>"
      ]
     },
     "metadata": {},
     "output_type": "display_data"
    }
   ],
   "source": [
    "colors = []\n",
    "for idx,row in df.iterrows():\n",
    "    if row['class'] == 1:\n",
    "        colors.append('red')\n",
    "    else:\n",
    "        colors.append('blue')\n",
    "\n",
    "plt.scatter(df.x,df.y,color=colors)"
   ]
  },
  {
   "cell_type": "markdown",
   "metadata": {},
   "source": [
    "Clearly this data is not linearly seperable, and therefore perceptron is useless for it. We need to make changes in order to use perceptron and be accurate with classifing the data."
   ]
  },
  {
   "cell_type": "markdown",
   "metadata": {},
   "source": [
    "### Take the absolute value of each entry"
   ]
  },
  {
   "cell_type": "code",
   "execution_count": 18,
   "metadata": {
    "collapsed": false
   },
   "outputs": [
    {
     "name": "stdout",
     "output_type": "stream",
     "text": [
      "             precision    recall  f1-score   support\n",
      "\n",
      "         -1       1.00      1.00      1.00        40\n",
      "          1       1.00      1.00      1.00        39\n",
      "\n",
      "avg / total       1.00      1.00      1.00        79\n",
      "\n"
     ]
    }
   ],
   "source": [
    "newx = []\n",
    "newy = []\n",
    "for idx,row in df.iterrows():\n",
    "    newx.append(np.abs(row['x']))\n",
    "    newy.append(np.abs(row['y']))\n",
    "df.x = newx\n",
    "df.y = newy\n",
    "\n",
    "training_data = df.iloc[0:199,[0,1]].sample(120)\n",
    "training_y = df.iloc[training_data.index,2].values\n",
    "test_data = df.iloc[0:199,[0,1]].drop(training_data.index) #df.drop(training_data.index)\n",
    "ytest = df.iloc[test_data.index,2].values\n",
    "training_data = training_data.values\n",
    "test_data = test_data.values\n",
    "\n",
    "#create the model\n",
    "sss = Perceptron(n_iter=100) #n_iter\n",
    "\n",
    "# fit the model\n",
    "sss.fit(training_data,training_y)\n",
    "# test model\n",
    "ypred = sss.predict(test_data)\n",
    "\n",
    "print(classification_report(ytest,ypred))"
   ]
  },
  {
   "cell_type": "code",
   "execution_count": 19,
   "metadata": {
    "collapsed": false
   },
   "outputs": [
    {
     "data": {
      "text/plain": [
       "<matplotlib.collections.PathCollection at 0x108fc57f0>"
      ]
     },
     "execution_count": 19,
     "metadata": {},
     "output_type": "execute_result"
    },
    {
     "data": {
      "image/png": "[encoded data removed]",
      "text/plain": [
       "<matplotlib.figure.Figure at 0x108c93470>"
      ]
     },
     "metadata": {},
     "output_type": "display_data"
    }
   ],
   "source": [
    "colors = []\n",
    "for idx,row in df.iterrows():\n",
    "    if row['class'] == 1:\n",
    "        colors.append('red')\n",
    "    else:\n",
    "        colors.append('blue')\n",
    "\n",
    "plt.scatter(df.x,df.y,color=colors)"
   ]
  },
  {
   "cell_type": "markdown",
   "metadata": {},
   "source": [
    "By taking the absolute values of x and y, we have made the data linearly seperable between the two classifications, so now perceptron works well, and was able to correctly identify much more points in the test data than before. "
   ]
  },
  {
   "cell_type": "markdown",
   "metadata": {
    "collapsed": true
   },
   "source": [
    "# |||||||||||||||||||||||||||||||||||||||||||||||||||||||||||||||||||||||||||||||||||||||||||||||||||||||||||||||||||||||||||||||||||||\n"
   ]
  },
  {
   "cell_type": "markdown",
   "metadata": {},
   "source": [
    "# Perceptron with Digit Data\n"
   ]
  },
  {
   "cell_type": "code",
   "execution_count": 20,
   "metadata": {
    "collapsed": false
   },
   "outputs": [
    {
     "data": {
      "text/plain": [
       "array([[[  0.,   0.,   5.,  13.,   9.,   1.,   0.,   0.],\n",
       "        [  0.,   0.,  13.,  15.,  10.,  15.,   5.,   0.],\n",
       "        [  0.,   3.,  15.,   2.,   0.,  11.,   8.,   0.],\n",
       "        [  0.,   4.,  12.,   0.,   0.,   8.,   8.,   0.],\n",
       "        [  0.,   5.,   8.,   0.,   0.,   9.,   8.,   0.],\n",
       "        [  0.,   4.,  11.,   0.,   1.,  12.,   7.,   0.],\n",
       "        [  0.,   2.,  14.,   5.,  10.,  12.,   0.,   0.],\n",
       "        [  0.,   0.,   6.,  13.,  10.,   0.,   0.,   0.]],\n",
       "\n",
       "       [[  0.,   0.,   0.,  12.,  13.,   5.,   0.,   0.],\n",
       "        [  0.,   0.,   0.,  11.,  16.,   9.,   0.,   0.],\n",
       "        [  0.,   0.,   3.,  15.,  16.,   6.,   0.,   0.],\n",
       "        [  0.,   7.,  15.,  16.,  16.,   2.,   0.,   0.],\n",
       "        [  0.,   0.,   1.,  16.,  16.,   3.,   0.,   0.],\n",
       "        [  0.,   0.,   1.,  16.,  16.,   6.,   0.,   0.],\n",
       "        [  0.,   0.,   1.,  16.,  16.,   6.,   0.,   0.],\n",
       "        [  0.,   0.,   0.,  11.,  16.,  10.,   0.,   0.]],\n",
       "\n",
       "       [[  0.,   0.,   0.,   4.,  15.,  12.,   0.,   0.],\n",
       "        [  0.,   0.,   3.,  16.,  15.,  14.,   0.,   0.],\n",
       "        [  0.,   0.,   8.,  13.,   8.,  16.,   0.,   0.],\n",
       "        [  0.,   0.,   1.,   6.,  15.,  11.,   0.,   0.],\n",
       "        [  0.,   1.,   8.,  13.,  15.,   1.,   0.,   0.],\n",
       "        [  0.,   9.,  16.,  16.,   5.,   0.,   0.,   0.],\n",
       "        [  0.,   3.,  13.,  16.,  16.,  11.,   5.,   0.],\n",
       "        [  0.,   0.,   0.,   3.,  11.,  16.,   9.,   0.]]])"
      ]
     },
     "execution_count": 20,
     "metadata": {},
     "output_type": "execute_result"
    }
   ],
   "source": [
    "df = datasets.load_digits(n_class=10)\n",
    "df.images[0:3]"
   ]
  },
  {
   "cell_type": "markdown",
   "metadata": {},
   "source": [
    "Each 'data point' is a list of 8 lists, with 8 elements in each of those.  So a total of 64 numbers in each 'data point'.  In this case a 'data point' is the color at specific locations of a handwritten letter.  To get a better view of this we can plot a few below."
   ]
  },
  {
   "cell_type": "code",
   "execution_count": 21,
   "metadata": {
    "collapsed": false
   },
   "outputs": [
    {
     "data": {
      "text/plain": [
       "<matplotlib.figure.Figure at 0x108c8c0f0>"
      ]
     },
     "metadata": {},
     "output_type": "display_data"
    },
    {
     "data": {
      "image/png": "[encoded data removed]",
      "text/plain": [
       "<matplotlib.figure.Figure at 0x108c8c7b8>"
      ]
     },
     "metadata": {},
     "output_type": "display_data"
    },
    {
     "data": {
      "text/plain": [
       "<matplotlib.figure.Figure at 0x108ffd2b0>"
      ]
     },
     "metadata": {},
     "output_type": "display_data"
    },
    {
     "data": {
      "image/png": "[encoded data removed]",
      "text/plain": [
       "<matplotlib.figure.Figure at 0x108ed4438>"
      ]
     },
     "metadata": {},
     "output_type": "display_data"
    },
    {
     "data": {
      "text/plain": [
       "<matplotlib.figure.Figure at 0x10849c550>"
      ]
     },
     "metadata": {},
     "output_type": "display_data"
    },
    {
     "data": {
      "image/png": "[encoded data removed]",
      "text/plain": [
       "<matplotlib.figure.Figure at 0x1084e65f8>"
      ]
     },
     "metadata": {},
     "output_type": "display_data"
    },
    {
     "data": {
      "text/plain": [
       "<matplotlib.figure.Figure at 0x109589898>"
      ]
     },
     "metadata": {},
     "output_type": "display_data"
    },
    {
     "data": {
      "image/png": "[encoded data removed]",
      "text/plain": [
       "<matplotlib.figure.Figure at 0x10943ed68>"
      ]
     },
     "metadata": {},
     "output_type": "display_data"
    }
   ],
   "source": [
    "import pylab as pl \n",
    "for x in range(4):\n",
    "    pl.gray() \n",
    "    pl.matshow(df.images[x]) \n",
    "    pl.show() "
   ]
  },
  {
   "cell_type": "markdown",
   "metadata": {},
   "source": [
    "As we can see from this, we would like to be able to use perceptron to identify what number is written when given the 'data point' that includes the 64 numbers.  Below we run perceptron on a training data set, and then test it on the test data, and find the precision at which it can identify each number."
   ]
  },
  {
   "cell_type": "code",
   "execution_count": 22,
   "metadata": {
    "collapsed": false
   },
   "outputs": [
    {
     "name": "stdout",
     "output_type": "stream",
     "text": [
      "Keys =  dict_keys(['images', 'data', 'target_names', 'DESCR', 'target'])\n",
      "             precision    recall  f1-score   support\n",
      "\n",
      "          0       0.98      1.00      0.99        44\n",
      "          1       0.76      0.93      0.84        42\n",
      "          2       0.98      0.87      0.92        53\n",
      "          3       0.90      0.96      0.93        48\n",
      "          4       1.00      0.95      0.97        40\n",
      "          5       0.91      0.98      0.94        41\n",
      "          6       1.00      0.94      0.97        51\n",
      "          7       0.95      0.93      0.94        40\n",
      "          8       0.85      0.89      0.87        37\n",
      "          9       0.98      0.87      0.92        54\n",
      "\n",
      "avg / total       0.93      0.93      0.93       450\n",
      "\n"
     ]
    }
   ],
   "source": [
    "print(\"Keys = \", df.keys())\n",
    "x,y = df.data, df.target\n",
    "Xtrain, Xtest, ytrain, ytest = train_test_split(x,y)\n",
    "\n",
    "#create the model\n",
    "sss = Perceptron(n_iter = 1000) #n_iter\n",
    "\n",
    "# fit the model\n",
    "sss.fit(Xtrain,ytrain)\n",
    "\n",
    "ypred = sss.predict(Xtest)\n",
    "print(classification_report(ytest,ypred))"
   ]
  },
  {
   "cell_type": "markdown",
   "metadata": {},
   "source": [
    "We can see from this that it does a pretty good job at identifying what the number is on the test data."
   ]
  },
  {
   "cell_type": "code",
   "execution_count": 23,
   "metadata": {
    "collapsed": false
   },
   "outputs": [
    {
     "name": "stdout",
     "output_type": "stream",
     "text": [
      "[[44  0  0  0  0  0  0  0  0  0]\n",
      " [ 1 39  1  0  0  0  0  0  1  0]\n",
      " [ 0  4 46  3  0  0  0  0  0  0]\n",
      " [ 0  0  0 46  0  0  0  0  2  0]\n",
      " [ 0  0  0  0 38  0  0  1  1  0]\n",
      " [ 0  0  0  0  0 40  0  0  1  0]\n",
      " [ 0  3  0  0  0  0 48  0  0  0]\n",
      " [ 0  2  0  0  0  0  0 37  0  1]\n",
      " [ 0  2  0  0  0  2  0  0 33  0]\n",
      " [ 0  1  0  2  0  2  0  1  1 47]]\n",
      "['setosa' 'versicolor' 'virginica']\n"
     ]
    },
    {
     "data": {
      "image/png": "[encoded data removed]",
      "text/plain": [
       "<matplotlib.figure.Figure at 0x10956fe48>"
      ]
     },
     "metadata": {},
     "output_type": "display_data"
    }
   ],
   "source": [
    "ypred = sss.predict(Xtest)\n",
    "print(confusion_matrix(ytest,ypred))\n",
    "print(iris.target_names)\n",
    "plt.imshow(np.log(confusion_matrix(ytest,ypred)),\n",
    "          cmap='Blues',interpolation='nearest')\n",
    "plt.grid(False)\n",
    "plt.ylabel('true')\n",
    "plt.xlabel('predicted');\n",
    "\n",
    "\n"
   ]
  },
  {
   "cell_type": "markdown",
   "metadata": {},
   "source": [
    "So perceptron was able to identify what handwritten numbers are which fairly accurately after examining a training data set."
   ]
  }
 ],
 "metadata": {
  "kernelspec": {
   "display_name": "Python 3",
   "language": "python",
   "name": "python3"
  },
  "language_info": {
   "codemirror_mode": {
    "name": "ipython",
    "version": 3
   },
   "file_extension": ".py",
   "mimetype": "text/x-python",
   "name": "python",
   "nbconvert_exporter": "python",
   "pygments_lexer": "ipython3",
   "version": "3.4.3"
  }
 },
 "nbformat": 4,
 "nbformat_minor": 0
}
