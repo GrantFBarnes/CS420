{
 "cells": [
  {
   "cell_type": "code",
   "execution_count": 2,
   "metadata": {
    "collapsed": true
   },
   "outputs": [],
   "source": [
    "%matplotlib inline\n",
    "import pandas as pd\n",
    "import seaborn as sbn\n",
    "import numpy as np\n",
    "sbn.set()"
   ]
  },
  {
   "cell_type": "code",
   "execution_count": 3,
   "metadata": {
    "collapsed": false
   },
   "outputs": [
    {
     "data": {
      "text/html": [
       "<style>body {\n",
       "    margin: 0;\n",
       "    font-family: Helvetica;\n",
       "}\n",
       "table.dataframe {\n",
       "    border-collapse: collapse;\n",
       "    border: none;\n",
       "}\n",
       "table.dataframe tr {\n",
       "    border: none;\n",
       "}\n",
       "table.dataframe td, table.dataframe th {\n",
       "    margin: 0;\n",
       "    border: 1px solid white;\n",
       "    padding-left: 0.25em;\n",
       "    padding-right: 0.25em;\n",
       "}\n",
       "table.dataframe th:not(:empty) {\n",
       "    background-color: #fec;\n",
       "    text-align: left;\n",
       "    font-weight: normal;\n",
       "}\n",
       "table.dataframe tr:nth-child(2) th:empty {\n",
       "    border-left: none;\n",
       "    border-right: 1px dashed #888;\n",
       "}\n",
       "table.dataframe td {\n",
       "    border: 2px solid #ccf;\n",
       "    background-color: #f4f4ff;\n",
       "}\n",
       "h3 {\n",
       "    color: white;\n",
       "    background-color: black;\n",
       "    padding: 0.5em;\n",
       "}\n",
       "</style>"
      ],
      "text/plain": [
       "<IPython.core.display.HTML object>"
      ]
     },
     "execution_count": 3,
     "metadata": {},
     "output_type": "execute_result"
    }
   ],
   "source": [
    "from IPython.core.display import HTML\n",
    "css = open('style-table.css').read() + open('style-notebook.css').read()\n",
    "HTML('<style>{}</style>'.format(css))"
   ]
  },
  {
   "cell_type": "markdown",
   "metadata": {},
   "source": [
    "## Read in max temp files"
   ]
  },
  {
   "cell_type": "code",
   "execution_count": 3,
   "metadata": {
    "collapsed": false
   },
   "outputs": [],
   "source": [
    "maxtempjan = pd.read_table('data/shtmax01.txt',sep='\\s+',header=None,index_col=0)\n",
    "maxtempfeb = pd.read_table('data/shtmax02.txt',sep='\\s+',header=None,index_col=0)\n",
    "maxtempmar = pd.read_table('data/shtmax03.txt',sep='\\s+',header=None,index_col=0)\n",
    "maxtempapr = pd.read_table('data/shtmax04.txt',sep='\\s+',header=None,index_col=0)\n",
    "maxtempmay = pd.read_table('data/shtmax05.txt',sep='\\s+',header=None,index_col=0)\n",
    "maxtempjune = pd.read_table('data/shtmax06.txt',sep='\\s+',header=None,index_col=0)\n",
    "maxtempjuly = pd.read_table('data/shtmax07.txt',sep='\\s+',header=None,index_col=0)\n",
    "maxtempaug = pd.read_table('data/shtmax08.txt',sep='\\s+',header=None,index_col=0)\n",
    "maxtempsept = pd.read_table('data/shtmax09.txt',sep='\\s+',header=None,index_col=0)\n",
    "maxtempoct = pd.read_table('data/shtmax10.txt',sep='\\s+',header=None,index_col=0)\n",
    "maxtempnov = pd.read_table('data/shtmax11.txt',sep='\\s+',header=None,index_col=0)\n",
    "maxtempdec = pd.read_table('data/shtmax12.txt',sep='\\s+',header=None,index_col=0)"
   ]
  },
  {
   "cell_type": "code",
   "execution_count": 4,
   "metadata": {
    "collapsed": false
   },
   "outputs": [],
   "source": [
    "years = list(range(1893,2013))\n",
    "dates = []\n",
    "highs = []\n",
    "months = [maxtempjan,maxtempfeb,maxtempmar,maxtempapr,maxtempmay,maxtempjune,maxtempjuly,maxtempaug,maxtempsept,maxtempoct,maxtempnov,maxtempdec]\n",
    "\n",
    "for month in range(len(months)):\n",
    "    for x in years:\n",
    "        for y in months[month].loc[[x]]:\n",
    "            dates.append(str(month+1)+\"-\"+str(y)+'-'+str(x))\n",
    "            highs.append(str(int(months[month].loc[[x]][y])))\n",
    "\n",
    "highmaster = pd.DataFrame({'date':dates,'high':highs})"
   ]
  },
  {
   "cell_type": "markdown",
   "metadata": {},
   "source": [
    "## Read in min temp files"
   ]
  },
  {
   "cell_type": "code",
   "execution_count": 5,
   "metadata": {
    "collapsed": false
   },
   "outputs": [],
   "source": [
    "mintempjan = pd.read_table('data/shtmin01.txt',sep='\\s+',header=None,index_col=0)\n",
    "mintempfeb = pd.read_table('data/shtmin02.txt',sep='\\s+',header=None,index_col=0)\n",
    "mintempmar = pd.read_table('data/shtmin03.txt',sep='\\s+',header=None,index_col=0)\n",
    "mintempapr = pd.read_table('data/shtmin04.txt',sep='\\s+',header=None,index_col=0)\n",
    "mintempmay = pd.read_table('data/shtmin05.txt',sep='\\s+',header=None,index_col=0)\n",
    "mintempjune = pd.read_table('data/shtmin06.txt',sep='\\s+',header=None,index_col=0)\n",
    "mintempjuly = pd.read_table('data/shtmin07.txt',sep='\\s+',header=None,index_col=0)\n",
    "mintempaug = pd.read_table('data/shtmin08.txt',sep='\\s+',header=None,index_col=0)\n",
    "mintempsept = pd.read_table('data/shtmin09.txt',sep='\\s+',header=None,index_col=0)\n",
    "mintempoct = pd.read_table('data/shtmin10.txt',sep='\\s+',header=None,index_col=0)\n",
    "mintempnov = pd.read_table('data/shtmin11.txt',sep='\\s+',header=None,index_col=0)\n",
    "mintempdec = pd.read_table('data/shtmin12.txt',sep='\\s+',header=None,index_col=0)"
   ]
  },
  {
   "cell_type": "code",
   "execution_count": 6,
   "metadata": {
    "collapsed": false
   },
   "outputs": [],
   "source": [
    "years = list(range(1893,2013))\n",
    "dates = []\n",
    "lows = []\n",
    "months = [mintempjan,mintempfeb,mintempmar,mintempapr,mintempmay,mintempjune,mintempjuly,mintempaug,mintempsept,mintempoct,mintempnov,mintempdec]\n",
    "\n",
    "for month in range(len(months)):\n",
    "    for x in years:\n",
    "        for y in months[month].loc[[x]]:\n",
    "            dates.append(str(month+1)+\"-\"+str(y)+'-'+str(x))\n",
    "            lows.append(str(int(months[month].loc[[x]][y])))\n",
    "\n",
    "lowmaster = pd.DataFrame({'date':dates,'low':lows})"
   ]
  },
  {
   "cell_type": "markdown",
   "metadata": {
    "collapsed": false
   },
   "source": [
    "## Read in precipitation files"
   ]
  },
  {
   "cell_type": "code",
   "execution_count": 7,
   "metadata": {
    "collapsed": false
   },
   "outputs": [],
   "source": [
    "prejan = pd.read_table('data/shtpre01.txt',sep='\\s+',header=None,index_col=0)\n",
    "prefeb = pd.read_table('data/shtpre02.txt',sep='\\s+',header=None,index_col=0)\n",
    "premar = pd.read_table('data/shtpre03.txt',sep='\\s+',header=None,index_col=0)\n",
    "preapr = pd.read_table('data/shtpre04.txt',sep='\\s+',header=None,index_col=0)\n",
    "premay = pd.read_table('data/shtpre05.txt',sep='\\s+',header=None,index_col=0)\n",
    "prejune = pd.read_table('data/shtpre06.txt',sep='\\s+',header=None,index_col=0)\n",
    "prejuly = pd.read_table('data/shtpre07.txt',sep='\\s+',header=None,index_col=0)\n",
    "preaug = pd.read_table('data/shtpre08.txt',sep='\\s+',header=None,index_col=0)\n",
    "presept = pd.read_table('data/shtpre09.txt',sep='\\s+',header=None,index_col=0)\n",
    "preoct = pd.read_table('data/shtpre10.txt',sep='\\s+',header=None,index_col=0)\n",
    "prenov = pd.read_table('data/shtpre11.txt',sep='\\s+',header=None,index_col=0)\n",
    "predec = pd.read_table('data/shtpre12.txt',sep='\\s+',header=None,index_col=0)"
   ]
  },
  {
   "cell_type": "code",
   "execution_count": 8,
   "metadata": {
    "collapsed": true
   },
   "outputs": [],
   "source": [
    "years = list(range(1893,2013))\n",
    "dates = []\n",
    "pres = []\n",
    "months = [prejan,prefeb,premar,preapr,premay,prejune,prejuly,preaug,presept,preoct,prenov,predec]\n",
    "\n",
    "for month in range(len(months)):\n",
    "    for x in years:\n",
    "        for y in months[month].loc[[x]]:\n",
    "            dates.append(str(month+1)+\"-\"+str(y)+'-'+str(x))\n",
    "            pres.append(str(int(months[month].loc[[x]][y])))\n",
    "\n",
    "premaster = pd.DataFrame({'date':dates,'precip':pres})"
   ]
  },
  {
   "cell_type": "markdown",
   "metadata": {},
   "source": [
    "## Read in snowfall files"
   ]
  },
  {
   "cell_type": "code",
   "execution_count": 9,
   "metadata": {
    "collapsed": false
   },
   "outputs": [],
   "source": [
    "snojan = pd.read_table('data/shtsno_b01.txt',sep='\\s+',header=None,index_col=0)\n",
    "snofeb = pd.read_table('data/shtsno_b02.txt',sep='\\s+',header=None,index_col=0)\n",
    "snomar = pd.read_table('data/shtsno_b03.txt',sep='\\s+',header=None,index_col=0)\n",
    "snoapr = pd.read_table('data/shtsno_b04.txt',sep='\\s+',header=None,index_col=0)\n",
    "snomay = pd.read_table('data/shtsno_b05.txt',sep='\\s+',header=None,index_col=0)\n",
    "snojune = pd.read_table('data/shtsno_b06.txt',sep='\\s+',header=None,index_col=0)\n",
    "snojuly = pd.read_table('data/shtsno_b07.txt',sep='\\s+',header=None,index_col=0)\n",
    "snoaug = pd.read_table('data/shtsno_b08.txt',sep='\\s+',header=None,index_col=0)\n",
    "snosept = pd.read_table('data/shtsno_b09.txt',sep='\\s+',header=None,index_col=0)\n",
    "snooct = pd.read_table('data/shtsno_b10.txt',sep='\\s+',header=None,index_col=0)\n",
    "snonov = pd.read_table('data/shtsno_b11.txt',sep='\\s+',header=None,index_col=0)\n",
    "snodec = pd.read_table('data/shtsno_b12.txt',sep='\\s+',header=None,index_col=0)"
   ]
  },
  {
   "cell_type": "code",
   "execution_count": 10,
   "metadata": {
    "collapsed": false
   },
   "outputs": [],
   "source": [
    "years = list(range(1893,2013))\n",
    "dates = []\n",
    "snow = []\n",
    "months = [snojan,snofeb,snomar,snoapr,snomay,snojune,snojuly,snoaug,snosept,snooct,snonov,snodec]\n",
    "\n",
    "for month in range(len(months)):\n",
    "    for x in years:\n",
    "        for y in months[month].loc[[x]]:\n",
    "            dates.append(str(month+1)+\"-\"+str(y)+'-'+str(x))\n",
    "            snow.append(str(int(months[month].loc[[x]][y])))\n",
    "\n",
    "snomaster = pd.DataFrame({'date':dates,'snow':snow})"
   ]
  },
  {
   "cell_type": "markdown",
   "metadata": {},
   "source": [
    "# Merge all into one dataframe"
   ]
  },
  {
   "cell_type": "code",
   "execution_count": 11,
   "metadata": {
    "collapsed": false
   },
   "outputs": [
    {
     "data": {
      "text/html": [
       "<div>\n",
       "<table border=\"1\" class=\"dataframe\">\n",
       "  <thead>\n",
       "    <tr style=\"text-align: right;\">\n",
       "      <th></th>\n",
       "      <th>date</th>\n",
       "      <th>high</th>\n",
       "      <th>low</th>\n",
       "      <th>snow</th>\n",
       "      <th>precip</th>\n",
       "    </tr>\n",
       "  </thead>\n",
       "  <tbody>\n",
       "    <tr>\n",
       "      <th>0</th>\n",
       "      <td>1-1-1893</td>\n",
       "      <td>-99</td>\n",
       "      <td>-99</td>\n",
       "      <td>0</td>\n",
       "      <td>-9900</td>\n",
       "    </tr>\n",
       "    <tr>\n",
       "      <th>1</th>\n",
       "      <td>1-2-1893</td>\n",
       "      <td>-99</td>\n",
       "      <td>-99</td>\n",
       "      <td>0</td>\n",
       "      <td>-9900</td>\n",
       "    </tr>\n",
       "    <tr>\n",
       "      <th>2</th>\n",
       "      <td>1-3-1893</td>\n",
       "      <td>-99</td>\n",
       "      <td>-99</td>\n",
       "      <td>0</td>\n",
       "      <td>-9900</td>\n",
       "    </tr>\n",
       "    <tr>\n",
       "      <th>3</th>\n",
       "      <td>1-4-1893</td>\n",
       "      <td>-99</td>\n",
       "      <td>-99</td>\n",
       "      <td>0</td>\n",
       "      <td>-9900</td>\n",
       "    </tr>\n",
       "    <tr>\n",
       "      <th>4</th>\n",
       "      <td>1-5-1893</td>\n",
       "      <td>-99</td>\n",
       "      <td>-99</td>\n",
       "      <td>0</td>\n",
       "      <td>-9900</td>\n",
       "    </tr>\n",
       "  </tbody>\n",
       "</table>\n",
       "</div>"
      ],
      "text/plain": [
       "       date high  low snow precip\n",
       "0  1-1-1893  -99  -99    0  -9900\n",
       "1  1-2-1893  -99  -99    0  -9900\n",
       "2  1-3-1893  -99  -99    0  -9900\n",
       "3  1-4-1893  -99  -99    0  -9900\n",
       "4  1-5-1893  -99  -99    0  -9900"
      ]
     },
     "execution_count": 11,
     "metadata": {},
     "output_type": "execute_result"
    }
   ],
   "source": [
    "temp1 = highmaster.merge(lowmaster)\n",
    "temp2 = temp1.merge(snomaster)\n",
    "master = temp2.merge(premaster)\n",
    "master.head()\n"
   ]
  },
  {
   "cell_type": "markdown",
   "metadata": {},
   "source": [
    "## Write data to csv"
   ]
  },
  {
   "cell_type": "code",
   "execution_count": 12,
   "metadata": {
    "collapsed": false
   },
   "outputs": [],
   "source": [
    "master.to_csv(\"data.csv\")"
   ]
  },
  {
   "cell_type": "markdown",
   "metadata": {},
   "source": [
    "### Read in file from here"
   ]
  },
  {
   "cell_type": "code",
   "execution_count": 5,
   "metadata": {
    "collapsed": false
   },
   "outputs": [],
   "source": [
    "final = pd.DataFrame.from_csv(\"data.csv\",parse_dates=['date'], infer_datetime_format=True)\n",
    "final.replace(to_replace=-99,value=np.nan,inplace=True)\n",
    "final.replace(to_replace=-9900,value=np.nan,inplace=True)\n",
    "final = final.sort('date')\n",
    "final.to_csv(\"data.csv\")"
   ]
  },
  {
   "cell_type": "markdown",
   "metadata": {},
   "source": [
    "# What is the hottest/coldest days on record?"
   ]
  },
  {
   "cell_type": "code",
   "execution_count": 6,
   "metadata": {
    "collapsed": false
   },
   "outputs": [
    {
     "data": {
      "text/html": [
       "<div>\n",
       "<table border=\"1\" class=\"dataframe\">\n",
       "  <thead>\n",
       "    <tr style=\"text-align: right;\">\n",
       "      <th></th>\n",
       "      <th>date</th>\n",
       "      <th>high</th>\n",
       "      <th>low</th>\n",
       "      <th>snow</th>\n",
       "      <th>precip</th>\n",
       "    </tr>\n",
       "  </thead>\n",
       "  <tbody>\n",
       "    <tr>\n",
       "      <th>23066</th>\n",
       "      <td>1936-07-14</td>\n",
       "      <td>111</td>\n",
       "      <td>71</td>\n",
       "      <td>0</td>\n",
       "      <td>0</td>\n",
       "    </tr>\n",
       "  </tbody>\n",
       "</table>\n",
       "</div>"
      ],
      "text/plain": [
       "            date  high  low  snow  precip\n",
       "23066 1936-07-14   111   71     0       0"
      ]
     },
     "execution_count": 6,
     "metadata": {},
     "output_type": "execute_result"
    }
   ],
   "source": [
    "final.high.value_counts().sort_index().tail()\n",
    "final[final.high == 111]"
   ]
  },
  {
   "cell_type": "code",
   "execution_count": 7,
   "metadata": {
    "collapsed": false
   },
   "outputs": [
    {
     "data": {
      "text/html": [
       "<div>\n",
       "<table border=\"1\" class=\"dataframe\">\n",
       "  <thead>\n",
       "    <tr style=\"text-align: right;\">\n",
       "      <th></th>\n",
       "      <th>date</th>\n",
       "      <th>high</th>\n",
       "      <th>low</th>\n",
       "      <th>snow</th>\n",
       "      <th>precip</th>\n",
       "    </tr>\n",
       "  </thead>\n",
       "  <tbody>\n",
       "    <tr>\n",
       "      <th>1827</th>\n",
       "      <td>1951-01-30</td>\n",
       "      <td>2</td>\n",
       "      <td>-43</td>\n",
       "      <td>0</td>\n",
       "      <td>0</td>\n",
       "    </tr>\n",
       "  </tbody>\n",
       "</table>\n",
       "</div>"
      ],
      "text/plain": [
       "           date  high  low  snow  precip\n",
       "1827 1951-01-30     2  -43     0       0"
      ]
     },
     "execution_count": 7,
     "metadata": {},
     "output_type": "execute_result"
    }
   ],
   "source": [
    "final.low.value_counts().sort_index().head()\n",
    "final[final.low == -43]"
   ]
  },
  {
   "cell_type": "markdown",
   "metadata": {},
   "source": [
    "# What is the day with the most rainfall?"
   ]
  },
  {
   "cell_type": "code",
   "execution_count": 8,
   "metadata": {
    "collapsed": false
   },
   "outputs": [
    {
     "data": {
      "text/html": [
       "<div>\n",
       "<table border=\"1\" class=\"dataframe\">\n",
       "  <thead>\n",
       "    <tr style=\"text-align: right;\">\n",
       "      <th></th>\n",
       "      <th>date</th>\n",
       "      <th>high</th>\n",
       "      <th>low</th>\n",
       "      <th>snow</th>\n",
       "      <th>precip</th>\n",
       "    </tr>\n",
       "  </thead>\n",
       "  <tbody>\n",
       "    <tr>\n",
       "      <th>15917</th>\n",
       "      <td>1941-05-30</td>\n",
       "      <td>68</td>\n",
       "      <td>58</td>\n",
       "      <td>0</td>\n",
       "      <td>770</td>\n",
       "    </tr>\n",
       "  </tbody>\n",
       "</table>\n",
       "</div>"
      ],
      "text/plain": [
       "            date  high  low  snow  precip\n",
       "15917 1941-05-30    68   58     0     770"
      ]
     },
     "execution_count": 8,
     "metadata": {},
     "output_type": "execute_result"
    }
   ],
   "source": [
    "final.precip.value_counts().sort_index().tail()\n",
    "final[final.precip == 770]"
   ]
  },
  {
   "cell_type": "markdown",
   "metadata": {},
   "source": [
    "# What day had the maximum difference between high and low temp?"
   ]
  },
  {
   "cell_type": "code",
   "execution_count": 9,
   "metadata": {
    "collapsed": false
   },
   "outputs": [
    {
     "data": {
      "text/html": [
       "<div>\n",
       "<table border=\"1\" class=\"dataframe\">\n",
       "  <thead>\n",
       "    <tr style=\"text-align: right;\">\n",
       "      <th></th>\n",
       "      <th>date</th>\n",
       "      <th>high</th>\n",
       "      <th>low</th>\n",
       "      <th>snow</th>\n",
       "      <th>precip</th>\n",
       "      <th>temp_diff</th>\n",
       "    </tr>\n",
       "  </thead>\n",
       "  <tbody>\n",
       "    <tr>\n",
       "      <th>5275</th>\n",
       "      <td>1948-02-16</td>\n",
       "      <td>46</td>\n",
       "      <td>-32</td>\n",
       "      <td>0</td>\n",
       "      <td>0</td>\n",
       "      <td>78</td>\n",
       "    </tr>\n",
       "  </tbody>\n",
       "</table>\n",
       "</div>"
      ],
      "text/plain": [
       "           date  high  low  snow  precip  temp_diff\n",
       "5275 1948-02-16    46  -32     0       0         78"
      ]
     },
     "execution_count": 9,
     "metadata": {},
     "output_type": "execute_result"
    }
   ],
   "source": [
    "final['temp_diff'] = final.high - final.low\n",
    "final.temp_diff.value_counts().sort_index().tail()\n",
    "final[final.temp_diff == 78]"
   ]
  },
  {
   "cell_type": "markdown",
   "metadata": {},
   "source": [
    "# Find periods of drought"
   ]
  },
  {
   "cell_type": "code",
   "execution_count": 10,
   "metadata": {
    "collapsed": false
   },
   "outputs": [],
   "source": [
    "drought_days = 0\n",
    "drought = []\n",
    "for index, row in final.iterrows():\n",
    "    if row['precip'] == 0:\n",
    "        drought_days += 1\n",
    "        drought.append(0)\n",
    "    else:\n",
    "        drought.append(drought_days)\n",
    "        drought_days = 0\n",
    "        \n",
    "final['drought'] = drought"
   ]
  },
  {
   "cell_type": "code",
   "execution_count": 11,
   "metadata": {
    "collapsed": false
   },
   "outputs": [
    {
     "data": {
      "text/html": [
       "<div>\n",
       "<table border=\"1\" class=\"dataframe\">\n",
       "  <thead>\n",
       "    <tr style=\"text-align: right;\">\n",
       "      <th></th>\n",
       "      <th>date</th>\n",
       "      <th>high</th>\n",
       "      <th>low</th>\n",
       "      <th>snow</th>\n",
       "      <th>precip</th>\n",
       "      <th>temp_diff</th>\n",
       "      <th>drought</th>\n",
       "    </tr>\n",
       "  </thead>\n",
       "  <tbody>\n",
       "    <tr>\n",
       "      <th>11313</th>\n",
       "      <td>1910-04-04</td>\n",
       "      <td>80</td>\n",
       "      <td>55</td>\n",
       "      <td>0</td>\n",
       "      <td>8</td>\n",
       "      <td>25</td>\n",
       "      <td>31</td>\n",
       "    </tr>\n",
       "    <tr>\n",
       "      <th>38198</th>\n",
       "      <td>1950-11-09</td>\n",
       "      <td>34</td>\n",
       "      <td>27</td>\n",
       "      <td>1</td>\n",
       "      <td>30</td>\n",
       "      <td>7</td>\n",
       "      <td>31</td>\n",
       "    </tr>\n",
       "    <tr>\n",
       "      <th>17107</th>\n",
       "      <td>1980-05-11</td>\n",
       "      <td>61</td>\n",
       "      <td>38</td>\n",
       "      <td>0</td>\n",
       "      <td>68</td>\n",
       "      <td>23</td>\n",
       "      <td>31</td>\n",
       "    </tr>\n",
       "    <tr>\n",
       "      <th>32902</th>\n",
       "      <td>1897-10-19</td>\n",
       "      <td>53</td>\n",
       "      <td>42</td>\n",
       "      <td>0</td>\n",
       "      <td>43</td>\n",
       "      <td>11</td>\n",
       "      <td>32</td>\n",
       "    </tr>\n",
       "    <tr>\n",
       "      <th>495</th>\n",
       "      <td>1908-01-31</td>\n",
       "      <td>22</td>\n",
       "      <td>15</td>\n",
       "      <td>6</td>\n",
       "      <td>50</td>\n",
       "      <td>7</td>\n",
       "      <td>32</td>\n",
       "    </tr>\n",
       "    <tr>\n",
       "      <th>37061</th>\n",
       "      <td>1912-11-12</td>\n",
       "      <td>58</td>\n",
       "      <td>39</td>\n",
       "      <td>0</td>\n",
       "      <td>75</td>\n",
       "      <td>19</td>\n",
       "      <td>32</td>\n",
       "    </tr>\n",
       "    <tr>\n",
       "      <th>37124</th>\n",
       "      <td>1914-11-15</td>\n",
       "      <td>52</td>\n",
       "      <td>23</td>\n",
       "      <td>0</td>\n",
       "      <td>39</td>\n",
       "      <td>29</td>\n",
       "      <td>32</td>\n",
       "    </tr>\n",
       "    <tr>\n",
       "      <th>33553</th>\n",
       "      <td>1918-10-19</td>\n",
       "      <td>50</td>\n",
       "      <td>41</td>\n",
       "      <td>0</td>\n",
       "      <td>14</td>\n",
       "      <td>9</td>\n",
       "      <td>32</td>\n",
       "    </tr>\n",
       "    <tr>\n",
       "      <th>1719</th>\n",
       "      <td>1948-01-15</td>\n",
       "      <td>32</td>\n",
       "      <td>3</td>\n",
       "      <td>1</td>\n",
       "      <td>6</td>\n",
       "      <td>29</td>\n",
       "      <td>32</td>\n",
       "    </tr>\n",
       "    <tr>\n",
       "      <th>40615</th>\n",
       "      <td>1910-12-09</td>\n",
       "      <td>28</td>\n",
       "      <td>-1</td>\n",
       "      <td>1</td>\n",
       "      <td>7</td>\n",
       "      <td>29</td>\n",
       "      <td>34</td>\n",
       "    </tr>\n",
       "    <tr>\n",
       "      <th>10048</th>\n",
       "      <td>1988-03-24</td>\n",
       "      <td>56</td>\n",
       "      <td>31</td>\n",
       "      <td>0</td>\n",
       "      <td>14</td>\n",
       "      <td>25</td>\n",
       "      <td>35</td>\n",
       "    </tr>\n",
       "    <tr>\n",
       "      <th>22258</th>\n",
       "      <td>1910-07-12</td>\n",
       "      <td>82</td>\n",
       "      <td>64</td>\n",
       "      <td>0</td>\n",
       "      <td>2</td>\n",
       "      <td>18</td>\n",
       "      <td>37</td>\n",
       "    </tr>\n",
       "    <tr>\n",
       "      <th>5100</th>\n",
       "      <td>1942-02-09</td>\n",
       "      <td>26</td>\n",
       "      <td>19</td>\n",
       "      <td>1</td>\n",
       "      <td>10</td>\n",
       "      <td>7</td>\n",
       "      <td>37</td>\n",
       "    </tr>\n",
       "    <tr>\n",
       "      <th>36546</th>\n",
       "      <td>1895-11-07</td>\n",
       "      <td>40</td>\n",
       "      <td>29</td>\n",
       "      <td>1</td>\n",
       "      <td>45</td>\n",
       "      <td>11</td>\n",
       "      <td>45</td>\n",
       "    </tr>\n",
       "    <tr>\n",
       "      <th>30810</th>\n",
       "      <td>1948-09-01</td>\n",
       "      <td>86</td>\n",
       "      <td>65</td>\n",
       "      <td>0</td>\n",
       "      <td>17</td>\n",
       "      <td>21</td>\n",
       "      <td>62</td>\n",
       "    </tr>\n",
       "  </tbody>\n",
       "</table>\n",
       "</div>"
      ],
      "text/plain": [
       "            date  high  low  snow  precip  temp_diff  drought\n",
       "11313 1910-04-04    80   55     0       8         25       31\n",
       "38198 1950-11-09    34   27     1      30          7       31\n",
       "17107 1980-05-11    61   38     0      68         23       31\n",
       "32902 1897-10-19    53   42     0      43         11       32\n",
       "495   1908-01-31    22   15     6      50          7       32\n",
       "37061 1912-11-12    58   39     0      75         19       32\n",
       "37124 1914-11-15    52   23     0      39         29       32\n",
       "33553 1918-10-19    50   41     0      14          9       32\n",
       "1719  1948-01-15    32    3     1       6         29       32\n",
       "40615 1910-12-09    28   -1     1       7         29       34\n",
       "10048 1988-03-24    56   31     0      14         25       35\n",
       "22258 1910-07-12    82   64     0       2         18       37\n",
       "5100  1942-02-09    26   19     1      10          7       37\n",
       "36546 1895-11-07    40   29     1      45         11       45\n",
       "30810 1948-09-01    86   65     0      17         21       62"
      ]
     },
     "execution_count": 11,
     "metadata": {},
     "output_type": "execute_result"
    }
   ],
   "source": [
    "final.drought.value_counts().sort_index().tail(20)\n",
    "final[final.drought > 30].sort(\"drought\")"
   ]
  },
  {
   "cell_type": "markdown",
   "metadata": {},
   "source": [
    "# Finds days of consecutive rain (where rain was > 20 each day)"
   ]
  },
  {
   "cell_type": "code",
   "execution_count": 12,
   "metadata": {
    "collapsed": true
   },
   "outputs": [],
   "source": [
    "rain_days = 0\n",
    "rain = []\n",
    "for index, row in final.iterrows():\n",
    "    if row['precip'] > 20:\n",
    "        rain_days += 1\n",
    "    else:\n",
    "        rain_days = 0\n",
    "    rain.append(rain_days)\n",
    "        \n",
    "final['storm'] = rain"
   ]
  },
  {
   "cell_type": "code",
   "execution_count": 13,
   "metadata": {
    "collapsed": false
   },
   "outputs": [
    {
     "data": {
      "text/html": [
       "<div>\n",
       "<table border=\"1\" class=\"dataframe\">\n",
       "  <thead>\n",
       "    <tr style=\"text-align: right;\">\n",
       "      <th></th>\n",
       "      <th>date</th>\n",
       "      <th>high</th>\n",
       "      <th>low</th>\n",
       "      <th>snow</th>\n",
       "      <th>precip</th>\n",
       "      <th>temp_diff</th>\n",
       "      <th>drought</th>\n",
       "      <th>storm</th>\n",
       "    </tr>\n",
       "  </thead>\n",
       "  <tbody>\n",
       "    <tr>\n",
       "      <th>30519</th>\n",
       "      <td>1938-09-10</td>\n",
       "      <td>91</td>\n",
       "      <td>65</td>\n",
       "      <td>0</td>\n",
       "      <td>60</td>\n",
       "      <td>26</td>\n",
       "      <td>0</td>\n",
       "      <td>5</td>\n",
       "    </tr>\n",
       "    <tr>\n",
       "      <th>15918</th>\n",
       "      <td>1941-05-31</td>\n",
       "      <td>77</td>\n",
       "      <td>60</td>\n",
       "      <td>0</td>\n",
       "      <td>43</td>\n",
       "      <td>17</td>\n",
       "      <td>0</td>\n",
       "      <td>5</td>\n",
       "    </tr>\n",
       "    <tr>\n",
       "      <th>31340</th>\n",
       "      <td>1965-09-21</td>\n",
       "      <td>71</td>\n",
       "      <td>55</td>\n",
       "      <td>0</td>\n",
       "      <td>132</td>\n",
       "      <td>16</td>\n",
       "      <td>0</td>\n",
       "      <td>5</td>\n",
       "    </tr>\n",
       "    <tr>\n",
       "      <th>28148</th>\n",
       "      <td>1980-08-12</td>\n",
       "      <td>81</td>\n",
       "      <td>56</td>\n",
       "      <td>0</td>\n",
       "      <td>59</td>\n",
       "      <td>25</td>\n",
       "      <td>0</td>\n",
       "      <td>5</td>\n",
       "    </tr>\n",
       "    <tr>\n",
       "      <th>28149</th>\n",
       "      <td>1980-08-13</td>\n",
       "      <td>79</td>\n",
       "      <td>60</td>\n",
       "      <td>0</td>\n",
       "      <td>112</td>\n",
       "      <td>19</td>\n",
       "      <td>0</td>\n",
       "      <td>6</td>\n",
       "    </tr>\n",
       "    <tr>\n",
       "      <th>28150</th>\n",
       "      <td>1980-08-14</td>\n",
       "      <td>77</td>\n",
       "      <td>62</td>\n",
       "      <td>0</td>\n",
       "      <td>26</td>\n",
       "      <td>15</td>\n",
       "      <td>0</td>\n",
       "      <td>7</td>\n",
       "    </tr>\n",
       "    <tr>\n",
       "      <th>24510</th>\n",
       "      <td>1983-07-01</td>\n",
       "      <td>82</td>\n",
       "      <td>61</td>\n",
       "      <td>0</td>\n",
       "      <td>241</td>\n",
       "      <td>21</td>\n",
       "      <td>0</td>\n",
       "      <td>5</td>\n",
       "    </tr>\n",
       "    <tr>\n",
       "      <th>21139</th>\n",
       "      <td>1993-06-20</td>\n",
       "      <td>69</td>\n",
       "      <td>59</td>\n",
       "      <td>0</td>\n",
       "      <td>75</td>\n",
       "      <td>10</td>\n",
       "      <td>0</td>\n",
       "      <td>5</td>\n",
       "    </tr>\n",
       "    <tr>\n",
       "      <th>13870</th>\n",
       "      <td>1995-04-11</td>\n",
       "      <td>42</td>\n",
       "      <td>32</td>\n",
       "      <td>0</td>\n",
       "      <td>35</td>\n",
       "      <td>10</td>\n",
       "      <td>0</td>\n",
       "      <td>5</td>\n",
       "    </tr>\n",
       "    <tr>\n",
       "      <th>13871</th>\n",
       "      <td>1995-04-12</td>\n",
       "      <td>42</td>\n",
       "      <td>33</td>\n",
       "      <td>0</td>\n",
       "      <td>64</td>\n",
       "      <td>9</td>\n",
       "      <td>0</td>\n",
       "      <td>6</td>\n",
       "    </tr>\n",
       "    <tr>\n",
       "      <th>25026</th>\n",
       "      <td>1999-07-21</td>\n",
       "      <td>85</td>\n",
       "      <td>69</td>\n",
       "      <td>0</td>\n",
       "      <td>168</td>\n",
       "      <td>16</td>\n",
       "      <td>0</td>\n",
       "      <td>5</td>\n",
       "    </tr>\n",
       "    <tr>\n",
       "      <th>28995</th>\n",
       "      <td>2007-08-22</td>\n",
       "      <td>82</td>\n",
       "      <td>66</td>\n",
       "      <td>0</td>\n",
       "      <td>146</td>\n",
       "      <td>16</td>\n",
       "      <td>0</td>\n",
       "      <td>5</td>\n",
       "    </tr>\n",
       "  </tbody>\n",
       "</table>\n",
       "</div>"
      ],
      "text/plain": [
       "            date  high  low  snow  precip  temp_diff  drought  storm\n",
       "30519 1938-09-10    91   65     0      60         26        0      5\n",
       "15918 1941-05-31    77   60     0      43         17        0      5\n",
       "31340 1965-09-21    71   55     0     132         16        0      5\n",
       "28148 1980-08-12    81   56     0      59         25        0      5\n",
       "28149 1980-08-13    79   60     0     112         19        0      6\n",
       "28150 1980-08-14    77   62     0      26         15        0      7\n",
       "24510 1983-07-01    82   61     0     241         21        0      5\n",
       "21139 1993-06-20    69   59     0      75         10        0      5\n",
       "13870 1995-04-11    42   32     0      35         10        0      5\n",
       "13871 1995-04-12    42   33     0      64          9        0      6\n",
       "25026 1999-07-21    85   69     0     168         16        0      5\n",
       "28995 2007-08-22    82   66     0     146         16        0      5"
      ]
     },
     "execution_count": 13,
     "metadata": {},
     "output_type": "execute_result"
    }
   ],
   "source": [
    "final.storm.value_counts().sort_index()\n",
    "final[final.storm > 4]"
   ]
  },
  {
   "cell_type": "markdown",
   "metadata": {
    "collapsed": true
   },
   "source": [
    "# Which Saturdays in summer months had the most rain?"
   ]
  },
  {
   "cell_type": "code",
   "execution_count": 14,
   "metadata": {
    "collapsed": false
   },
   "outputs": [
    {
     "data": {
      "text/html": [
       "<div>\n",
       "<table border=\"1\" class=\"dataframe\">\n",
       "  <thead>\n",
       "    <tr style=\"text-align: right;\">\n",
       "      <th></th>\n",
       "      <th>date</th>\n",
       "      <th>high</th>\n",
       "      <th>low</th>\n",
       "      <th>snow</th>\n",
       "      <th>precip</th>\n",
       "      <th>temp_diff</th>\n",
       "      <th>drought</th>\n",
       "      <th>storm</th>\n",
       "    </tr>\n",
       "  </thead>\n",
       "  <tbody>\n",
       "    <tr>\n",
       "      <th>18589</th>\n",
       "      <td>1908-06-20</td>\n",
       "      <td>92</td>\n",
       "      <td>56</td>\n",
       "      <td>0</td>\n",
       "      <td>390</td>\n",
       "      <td>36</td>\n",
       "      <td>0</td>\n",
       "      <td>1</td>\n",
       "    </tr>\n",
       "    <tr>\n",
       "      <th>22328</th>\n",
       "      <td>1912-07-20</td>\n",
       "      <td>71</td>\n",
       "      <td>54</td>\n",
       "      <td>0</td>\n",
       "      <td>280</td>\n",
       "      <td>17</td>\n",
       "      <td>0</td>\n",
       "      <td>1</td>\n",
       "    </tr>\n",
       "    <tr>\n",
       "      <th>18862</th>\n",
       "      <td>1917-06-23</td>\n",
       "      <td>72</td>\n",
       "      <td>53</td>\n",
       "      <td>0</td>\n",
       "      <td>246</td>\n",
       "      <td>19</td>\n",
       "      <td>1</td>\n",
       "      <td>1</td>\n",
       "    </tr>\n",
       "    <tr>\n",
       "      <th>28471</th>\n",
       "      <td>1990-08-25</td>\n",
       "      <td>83</td>\n",
       "      <td>65</td>\n",
       "      <td>0</td>\n",
       "      <td>307</td>\n",
       "      <td>18</td>\n",
       "      <td>0</td>\n",
       "      <td>2</td>\n",
       "    </tr>\n",
       "    <tr>\n",
       "      <th>24829</th>\n",
       "      <td>1993-07-10</td>\n",
       "      <td>82</td>\n",
       "      <td>57</td>\n",
       "      <td>0</td>\n",
       "      <td>243</td>\n",
       "      <td>25</td>\n",
       "      <td>0</td>\n",
       "      <td>3</td>\n",
       "    </tr>\n",
       "  </tbody>\n",
       "</table>\n",
       "</div>"
      ],
      "text/plain": [
       "            date  high  low  snow  precip  temp_diff  drought  storm\n",
       "18589 1908-06-20    92   56     0     390         36        0      1\n",
       "22328 1912-07-20    71   54     0     280         17        0      1\n",
       "18862 1917-06-23    72   53     0     246         19        1      1\n",
       "28471 1990-08-25    83   65     0     307         18        0      2\n",
       "24829 1993-07-10    82   57     0     243         25        0      3"
      ]
     },
     "execution_count": 14,
     "metadata": {},
     "output_type": "execute_result"
    }
   ],
   "source": [
    "saturdays = final[final.date.dt.dayofweek == 5]\n",
    "saturdays_summer = saturdays[(saturdays.date.dt.month == 6) | (saturdays.date.dt.month == 7) | (saturdays.date.dt.month == 8)]\n",
    "saturdays_summer[saturdays_summer.precip > 240]"
   ]
  },
  {
   "cell_type": "markdown",
   "metadata": {
    "collapsed": true
   },
   "source": [
    "# How many times did it snow and have other precipitation in the same day? (by decade)"
   ]
  },
  {
   "cell_type": "code",
   "execution_count": 15,
   "metadata": {
    "collapsed": false
   },
   "outputs": [
    {
     "data": {
      "text/plain": [
       "<matplotlib.axes._subplots.AxesSubplot at 0x10a3b7c50>"
      ]
     },
     "execution_count": 15,
     "metadata": {},
     "output_type": "execute_result"
    },
    {
     "data": {
      "image/png": "[encoded data removed]",
      "text/plain": [
       "<matplotlib.figure.Figure at 0x10a873160>"
      ]
     },
     "metadata": {},
     "output_type": "display_data"
    }
   ],
   "source": [
    "final['year'] = final.date.dt.year\n",
    "final['decade'] = final.date.dt.year//10*10\n",
    "\n",
    "years = {}\n",
    "decades = {}\n",
    "for index, row in final.iterrows():\n",
    "    if row['precip'] > 0 and row['snow'] > 0:\n",
    "        if row['decade'] in decades:\n",
    "            decades[row['decade']] += row['precip']\n",
    "        else:\n",
    "            decades[row['decade']] = row['precip']\n",
    "        \n",
    "        if row['year'] in years:\n",
    "            years[row['year']] += row['precip']\n",
    "        else:\n",
    "            years[row['year']] = row['precip']\n",
    "            \n",
    "precip_and_snow = pd.DataFrame([decades])\n",
    "precip_and_snow.unstack().plot(kind='bar')"
   ]
  },
  {
   "cell_type": "markdown",
   "metadata": {
    "collapsed": true
   },
   "source": [
    "# Line plot of high and low temps (by decade)"
   ]
  },
  {
   "cell_type": "code",
   "execution_count": 16,
   "metadata": {
    "collapsed": false
   },
   "outputs": [
    {
     "data": {
      "text/plain": [
       "<matplotlib.axes._subplots.AxesSubplot at 0x10a3f2208>"
      ]
     },
     "execution_count": 16,
     "metadata": {},
     "output_type": "execute_result"
    },
    {
     "data": {
      "image/png": "[encoded data removed]",
      "text/plain": [
       "<matplotlib.figure.Figure at 0x10c2b7128>"
      ]
     },
     "metadata": {},
     "output_type": "display_data"
    }
   ],
   "source": [
    "average_high = {}\n",
    "count_high = {}\n",
    "average_low = {}\n",
    "count_low = {}\n",
    "for index, row in final.iterrows():\n",
    "    if not (np.isnan(row['high'])):\n",
    "        if row['decade'] in average_high:\n",
    "            average_high[row['decade']] = average_high[row['decade']] + row['high']\n",
    "            count_high[row['decade']] = count_high[row['decade']] + 1\n",
    "        else:\n",
    "            average_high[row['decade']] = row['high']\n",
    "            count_high[row['decade']] = 1\n",
    "        \n",
    "    if not (np.isnan(row['low'])):\n",
    "        if row['decade'] in average_low:\n",
    "            average_low[row['decade']] = average_low[row['decade']] + row['low']\n",
    "            count_low[row['decade']] = count_low[row['decade']] + 1\n",
    "        else:\n",
    "            average_low[row['decade']] = row['low']\n",
    "            count_low[row['decade']] = 1\n",
    "        \n",
    "temp = average_high.keys()\n",
    "for x in temp:\n",
    "    average_high[x] = average_high[x]/count_high[x]\n",
    "    average_low[x] = average_low[x]/count_low[x]\n",
    "\n",
    "average_temp_high = pd.DataFrame([average_high])\n",
    "average_temp_low = pd.DataFrame([average_low])\n",
    "\n",
    "average_temp_low.unstack().plot(ylim=[0,50])\n",
    "average_temp_high.unstack().plot(ylim=[0,80])"
   ]
  },
  {
   "cell_type": "markdown",
   "metadata": {
    "collapsed": false
   },
   "source": [
    "# Line plot of high and low temps (by year)"
   ]
  },
  {
   "cell_type": "code",
   "execution_count": 17,
   "metadata": {
    "collapsed": false
   },
   "outputs": [
    {
     "data": {
      "text/plain": [
       "<matplotlib.axes._subplots.AxesSubplot at 0x10c2b3048>"
      ]
     },
     "execution_count": 17,
     "metadata": {},
     "output_type": "execute_result"
    },
    {
     "data": {
      "image/png": "[encoded data removed]",
      "text/plain": [
       "<matplotlib.figure.Figure at 0x10c2e47b8>"
      ]
     },
     "metadata": {},
     "output_type": "display_data"
    }
   ],
   "source": [
    "average_high = {}\n",
    "count_high = {}\n",
    "average_low = {}\n",
    "count_low = {}\n",
    "for index, row in final.iterrows():\n",
    "    if not (np.isnan(row['high'])):\n",
    "        if row['year'] in average_high:\n",
    "            average_high[row['year']] = average_high[row['year']] + row['high']\n",
    "            count_high[row['year']] = count_high[row['year']] + 1\n",
    "        else:\n",
    "            average_high[row['year']] = row['high']\n",
    "            count_high[row['year']] = 1\n",
    "        \n",
    "    if not (np.isnan(row['low'])):\n",
    "        if row['year'] in average_low:\n",
    "            average_low[row['year']] = average_low[row['year']] + row['low']\n",
    "            count_low[row['year']] = count_low[row['year']] + 1\n",
    "        else:\n",
    "            average_low[row['year']] = row['low']\n",
    "            count_low[row['year']] = 1\n",
    "        \n",
    "temp = average_high.keys()\n",
    "for x in temp:\n",
    "    average_high[x] = average_high[x]/count_high[x]\n",
    "    average_low[x] = average_low[x]/count_low[x]\n",
    "    \n",
    "average_temp_high = pd.DataFrame([average_high])\n",
    "average_temp_low = pd.DataFrame([average_low])\n",
    "\n",
    "average_temp_low.unstack().plot(ylim=[0,50])\n",
    "average_temp_high.unstack().plot(ylim=[0,80])"
   ]
  },
  {
   "cell_type": "markdown",
   "metadata": {
    "collapsed": true
   },
   "source": [
    "# Which years had white christmases?"
   ]
  },
  {
   "cell_type": "code",
   "execution_count": 18,
   "metadata": {
    "collapsed": false
   },
   "outputs": [
    {
     "name": "stdout",
     "output_type": "stream",
     "text": [
      "The following years had snow on the ground on Christmas Day:\n",
      "1893, 1895, 1897, 1898, 1900, 1902, 1903, 1905, 1906, 1909, 1910, 1914, 1915, 1916, 1919, 1920, 1924, 1925, 1926, 1927, 1929, 1930, 1933, 1934, 1935, 1937, 1942, 1944, 1945, 1947, 1948, 1949, 1950, 1951, 1952, 1957, 1959, 1960, 1961, 1962, 1963, 1968, 1969, 1970, 1972, 1973, 1974, 1977, 1978, 1980, 1983, 1985, 1990, 1991, 1992, 1993, 1995, 1996, 1999, 2000, 2001, 2004, 2005, 2007, 2008, 2009, 2010, 2012\n"
     ]
    }
   ],
   "source": [
    "# Assume that for every degree above 32 on a day, 1/4 inch of snow melts that day\n",
    "\n",
    "snow_on_ground = False\n",
    "inches = 0\n",
    "sog = []\n",
    "for index, row in final.iterrows():\n",
    "    if inches < 0:\n",
    "        inches = 0\n",
    "    inches += row['snow']\n",
    "    if row['high']>32:\n",
    "        inches -= (row['high']-32)*.25\n",
    "    if inches >0:\n",
    "        snow_on_ground = True\n",
    "    else:\n",
    "        snow_on_ground = False\n",
    "\n",
    "    sog.append(snow_on_ground)\n",
    "    \n",
    "final['snow_on_ground'] = sog\n",
    "christmas = final[(final.date.dt.month == 12) & (final.date.dt.day == 25)]\n",
    "\n",
    "print(\"The following years had snow on the ground on Christmas Day:\")\n",
    "string = \"\"\n",
    "for x in (christmas[christmas.snow_on_ground == True].year):\n",
    "    string += (str(x) + \", \")\n",
    "print(string[:-2])"
   ]
  },
  {
   "cell_type": "markdown",
   "metadata": {
    "collapsed": true
   },
   "source": [
    "# Look for extreme outliers of snow in august and/or rain in january"
   ]
  },
  {
   "cell_type": "code",
   "execution_count": 19,
   "metadata": {
    "collapsed": false
   },
   "outputs": [
    {
     "data": {
      "text/html": [
       "<div>\n",
       "<table border=\"1\" class=\"dataframe\">\n",
       "  <thead>\n",
       "    <tr style=\"text-align: right;\">\n",
       "      <th></th>\n",
       "      <th>date</th>\n",
       "      <th>high</th>\n",
       "      <th>low</th>\n",
       "      <th>snow</th>\n",
       "      <th>precip</th>\n",
       "      <th>temp_diff</th>\n",
       "      <th>drought</th>\n",
       "      <th>storm</th>\n",
       "      <th>year</th>\n",
       "      <th>decade</th>\n",
       "      <th>snow_on_ground</th>\n",
       "    </tr>\n",
       "  </thead>\n",
       "  <tbody>\n",
       "    <tr>\n",
       "      <th>35226</th>\n",
       "      <td>1972-10-18</td>\n",
       "      <td>33</td>\n",
       "      <td>25</td>\n",
       "      <td>2</td>\n",
       "      <td>7</td>\n",
       "      <td>8</td>\n",
       "      <td>7</td>\n",
       "      <td>0</td>\n",
       "      <td>1972</td>\n",
       "      <td>1970</td>\n",
       "      <td>True</td>\n",
       "    </tr>\n",
       "    <tr>\n",
       "      <th>35351</th>\n",
       "      <td>1976-10-19</td>\n",
       "      <td>37</td>\n",
       "      <td>32</td>\n",
       "      <td>1</td>\n",
       "      <td>10</td>\n",
       "      <td>5</td>\n",
       "      <td>9</td>\n",
       "      <td>0</td>\n",
       "      <td>1976</td>\n",
       "      <td>1970</td>\n",
       "      <td>False</td>\n",
       "    </tr>\n",
       "  </tbody>\n",
       "</table>\n",
       "</div>"
      ],
      "text/plain": [
       "            date  high  low  snow  precip  temp_diff  drought  storm  year  \\\n",
       "35226 1972-10-18    33   25     2       7          8        7      0  1972   \n",
       "35351 1976-10-19    37   32     1      10          5        9      0  1976   \n",
       "\n",
       "       decade snow_on_ground  \n",
       "35226    1970           True  \n",
       "35351    1970          False  "
      ]
     },
     "execution_count": 19,
     "metadata": {},
     "output_type": "execute_result"
    }
   ],
   "source": [
    "summer = final[(final.date.dt.month >= 5) & (final.date.dt.month <= 10)]\n",
    "summer[summer.snow > 0]"
   ]
  },
  {
   "cell_type": "code",
   "execution_count": 20,
   "metadata": {
    "collapsed": false
   },
   "outputs": [
    {
     "data": {
      "text/html": [
       "<div>\n",
       "<table border=\"1\" class=\"dataframe\">\n",
       "  <thead>\n",
       "    <tr style=\"text-align: right;\">\n",
       "      <th></th>\n",
       "      <th>date</th>\n",
       "      <th>high</th>\n",
       "      <th>low</th>\n",
       "      <th>snow</th>\n",
       "      <th>precip</th>\n",
       "      <th>temp_diff</th>\n",
       "      <th>drought</th>\n",
       "      <th>storm</th>\n",
       "      <th>year</th>\n",
       "      <th>decade</th>\n",
       "      <th>snow_on_ground</th>\n",
       "    </tr>\n",
       "  </thead>\n",
       "  <tbody>\n",
       "    <tr>\n",
       "      <th>40125</th>\n",
       "      <td>1894-12-15</td>\n",
       "      <td>45</td>\n",
       "      <td>36</td>\n",
       "      <td>1</td>\n",
       "      <td>150</td>\n",
       "      <td>9</td>\n",
       "      <td>3</td>\n",
       "      <td>1</td>\n",
       "      <td>1894</td>\n",
       "      <td>1890</td>\n",
       "      <td>False</td>\n",
       "    </tr>\n",
       "    <tr>\n",
       "      <th>40647</th>\n",
       "      <td>1911-12-10</td>\n",
       "      <td>51</td>\n",
       "      <td>37</td>\n",
       "      <td>0</td>\n",
       "      <td>120</td>\n",
       "      <td>14</td>\n",
       "      <td>20</td>\n",
       "      <td>1</td>\n",
       "      <td>1911</td>\n",
       "      <td>1910</td>\n",
       "      <td>False</td>\n",
       "    </tr>\n",
       "    <tr>\n",
       "      <th>902</th>\n",
       "      <td>1922-01-04</td>\n",
       "      <td>34</td>\n",
       "      <td>20</td>\n",
       "      <td>3</td>\n",
       "      <td>110</td>\n",
       "      <td>14</td>\n",
       "      <td>11</td>\n",
       "      <td>1</td>\n",
       "      <td>1922</td>\n",
       "      <td>1920</td>\n",
       "      <td>True</td>\n",
       "    </tr>\n",
       "    <tr>\n",
       "      <th>41312</th>\n",
       "      <td>1932-12-24</td>\n",
       "      <td>34</td>\n",
       "      <td>30</td>\n",
       "      <td>1</td>\n",
       "      <td>130</td>\n",
       "      <td>4</td>\n",
       "      <td>12</td>\n",
       "      <td>1</td>\n",
       "      <td>1932</td>\n",
       "      <td>1930</td>\n",
       "      <td>True</td>\n",
       "    </tr>\n",
       "    <tr>\n",
       "      <th>1320</th>\n",
       "      <td>1935-01-19</td>\n",
       "      <td>35</td>\n",
       "      <td>12</td>\n",
       "      <td>3</td>\n",
       "      <td>109</td>\n",
       "      <td>23</td>\n",
       "      <td>1</td>\n",
       "      <td>1</td>\n",
       "      <td>1935</td>\n",
       "      <td>1930</td>\n",
       "      <td>True</td>\n",
       "    </tr>\n",
       "    <tr>\n",
       "      <th>1648</th>\n",
       "      <td>1946-01-06</td>\n",
       "      <td>44</td>\n",
       "      <td>27</td>\n",
       "      <td>4</td>\n",
       "      <td>180</td>\n",
       "      <td>17</td>\n",
       "      <td>0</td>\n",
       "      <td>2</td>\n",
       "      <td>1946</td>\n",
       "      <td>1940</td>\n",
       "      <td>True</td>\n",
       "    </tr>\n",
       "    <tr>\n",
       "      <th>2318</th>\n",
       "      <td>1967-01-25</td>\n",
       "      <td>40</td>\n",
       "      <td>15</td>\n",
       "      <td>0</td>\n",
       "      <td>125</td>\n",
       "      <td>25</td>\n",
       "      <td>1</td>\n",
       "      <td>1</td>\n",
       "      <td>1967</td>\n",
       "      <td>1960</td>\n",
       "      <td>False</td>\n",
       "    </tr>\n",
       "    <tr>\n",
       "      <th>2421</th>\n",
       "      <td>1971-01-04</td>\n",
       "      <td>24</td>\n",
       "      <td>6</td>\n",
       "      <td>15</td>\n",
       "      <td>115</td>\n",
       "      <td>18</td>\n",
       "      <td>12</td>\n",
       "      <td>1</td>\n",
       "      <td>1971</td>\n",
       "      <td>1970</td>\n",
       "      <td>True</td>\n",
       "    </tr>\n",
       "    <tr>\n",
       "      <th>42564</th>\n",
       "      <td>1973-12-05</td>\n",
       "      <td>28</td>\n",
       "      <td>18</td>\n",
       "      <td>7</td>\n",
       "      <td>136</td>\n",
       "      <td>10</td>\n",
       "      <td>8</td>\n",
       "      <td>1</td>\n",
       "      <td>1973</td>\n",
       "      <td>1970</td>\n",
       "      <td>True</td>\n",
       "    </tr>\n",
       "    <tr>\n",
       "      <th>42635</th>\n",
       "      <td>1975-12-14</td>\n",
       "      <td>55</td>\n",
       "      <td>26</td>\n",
       "      <td>0</td>\n",
       "      <td>134</td>\n",
       "      <td>29</td>\n",
       "      <td>5</td>\n",
       "      <td>1</td>\n",
       "      <td>1975</td>\n",
       "      <td>1970</td>\n",
       "      <td>False</td>\n",
       "    </tr>\n",
       "    <tr>\n",
       "      <th>43603</th>\n",
       "      <td>2006-12-21</td>\n",
       "      <td>38</td>\n",
       "      <td>32</td>\n",
       "      <td>0</td>\n",
       "      <td>102</td>\n",
       "      <td>6</td>\n",
       "      <td>8</td>\n",
       "      <td>1</td>\n",
       "      <td>2006</td>\n",
       "      <td>2000</td>\n",
       "      <td>False</td>\n",
       "    </tr>\n",
       "  </tbody>\n",
       "</table>\n",
       "</div>"
      ],
      "text/plain": [
       "            date  high  low  snow  precip  temp_diff  drought  storm  year  \\\n",
       "40125 1894-12-15    45   36     1     150          9        3      1  1894   \n",
       "40647 1911-12-10    51   37     0     120         14       20      1  1911   \n",
       "902   1922-01-04    34   20     3     110         14       11      1  1922   \n",
       "41312 1932-12-24    34   30     1     130          4       12      1  1932   \n",
       "1320  1935-01-19    35   12     3     109         23        1      1  1935   \n",
       "1648  1946-01-06    44   27     4     180         17        0      2  1946   \n",
       "2318  1967-01-25    40   15     0     125         25        1      1  1967   \n",
       "2421  1971-01-04    24    6    15     115         18       12      1  1971   \n",
       "42564 1973-12-05    28   18     7     136         10        8      1  1973   \n",
       "42635 1975-12-14    55   26     0     134         29        5      1  1975   \n",
       "43603 2006-12-21    38   32     0     102          6        8      1  2006   \n",
       "\n",
       "       decade snow_on_ground  \n",
       "40125    1890          False  \n",
       "40647    1910          False  \n",
       "902      1920           True  \n",
       "41312    1930           True  \n",
       "1320     1930           True  \n",
       "1648     1940           True  \n",
       "2318     1960          False  \n",
       "2421     1970           True  \n",
       "42564    1970           True  \n",
       "42635    1970          False  \n",
       "43603    2000          False  "
      ]
     },
     "execution_count": 20,
     "metadata": {},
     "output_type": "execute_result"
    }
   ],
   "source": [
    "winter = final[(final.date.dt.month <= 1) | (final.date.dt.month >= 12)]\n",
    "winter[(winter.precip > 100)]"
   ]
  },
  {
   "cell_type": "markdown",
   "metadata": {
    "collapsed": true
   },
   "source": [
    "# Check if average of high and low for the previous day correlates with precipitation. "
   ]
  },
  {
   "cell_type": "code",
   "execution_count": 21,
   "metadata": {
    "collapsed": false
   },
   "outputs": [
    {
     "data": {
      "text/plain": [
       "<matplotlib.axes._subplots.AxesSubplot at 0x1095ebeb8>"
      ]
     },
     "execution_count": 21,
     "metadata": {},
     "output_type": "execute_result"
    },
    {
     "data": {
      "image/png": "[encoded data removed]",
      "text/plain": [
       "<matplotlib.figure.Figure at 0x10a3b76a0>"
      ]
     },
     "metadata": {},
     "output_type": "display_data"
    }
   ],
   "source": [
    "prev_temp = 0\n",
    "delta = 0\n",
    "change_in_temp = 0\n",
    "cit = []\n",
    "for index, row in final.iterrows():\n",
    "    if not np.isnan(row['high']):\n",
    "        ave = (row['high'] + row['low'])/2\n",
    "        delta = ave - prev_temp\n",
    "        prev_temp = ave\n",
    "    else:\n",
    "        delta = 0\n",
    "    cit.append(delta)\n",
    "    \n",
    "final['delta'] = cit\n",
    "final.plot(x='delta',y='precip',kind='scatter')"
   ]
  },
  {
   "cell_type": "markdown",
   "metadata": {},
   "source": [
    "# Plot the total snow fall of each decade"
   ]
  },
  {
   "cell_type": "code",
   "execution_count": 22,
   "metadata": {
    "collapsed": false
   },
   "outputs": [
    {
     "data": {
      "text/plain": [
       "<matplotlib.axes._subplots.AxesSubplot at 0x10bf63780>"
      ]
     },
     "execution_count": 22,
     "metadata": {},
     "output_type": "execute_result"
    },
    {
     "data": {
      "image/png": "[encoded data removed]",
      "text/plain": [
       "<matplotlib.figure.Figure at 0x10c2eb898>"
      ]
     },
     "metadata": {},
     "output_type": "display_data"
    }
   ],
   "source": [
    "snow = {}\n",
    "for index, row in final.iterrows():\n",
    "    if not (np.isnan(row['snow'])):\n",
    "        if row['decade'] in snow:\n",
    "            snow[row['decade']] = snow[row['decade']] + row['snow']\n",
    "        else:\n",
    "            snow[row['decade']] = row['snow']\n",
    "            \n",
    "snow = pd.DataFrame([snow])\n",
    "\n",
    "snow.unstack().plot(kind='bar')"
   ]
  },
  {
   "cell_type": "markdown",
   "metadata": {},
   "source": [
    "# Plot the total snowfall of each year"
   ]
  },
  {
   "cell_type": "code",
   "execution_count": 23,
   "metadata": {
    "collapsed": false
   },
   "outputs": [
    {
     "data": {
      "text/plain": [
       "<matplotlib.axes._subplots.AxesSubplot at 0x10be45cc0>"
      ]
     },
     "execution_count": 23,
     "metadata": {},
     "output_type": "execute_result"
    },
    {
     "data": {
      "image/png": "[encoded data removed]",
      "text/plain": [
       "<matplotlib.figure.Figure at 0x10b65e8d0>"
      ]
     },
     "metadata": {},
     "output_type": "display_data"
    }
   ],
   "source": [
    "snow = {}\n",
    "for index, row in final.iterrows():\n",
    "    if not (np.isnan(row['snow'])):\n",
    "        if row['year'] in snow:\n",
    "            snow[row['year']] = snow[row['year']] + row['snow']\n",
    "        else:\n",
    "            snow[row['year']] = row['snow']\n",
    "            \n",
    "snow = pd.DataFrame([snow])\n",
    "\n",
    "snow.unstack().plot()"
   ]
  },
  {
   "cell_type": "markdown",
   "metadata": {},
   "source": [
    "# Plot the Total Precipitation of each decade"
   ]
  },
  {
   "cell_type": "code",
   "execution_count": 26,
   "metadata": {
    "collapsed": false
   },
   "outputs": [
    {
     "data": {
      "text/plain": [
       "<matplotlib.axes._subplots.AxesSubplot at 0x10b199160>"
      ]
     },
     "execution_count": 26,
     "metadata": {},
     "output_type": "execute_result"
    },
    {
     "data": {
      "image/png": "[encoded data removed]",
      "text/plain": [
       "<matplotlib.figure.Figure at 0x10ac5e1d0>"
      ]
     },
     "metadata": {},
     "output_type": "display_data"
    }
   ],
   "source": [
    "precip = {}\n",
    "for index, row in final.iterrows():\n",
    "    if not (np.isnan(row['precip'])):\n",
    "        if row['decade'] in precip:\n",
    "            precip[row['decade']] = precip[row['decade']] + row['precip']\n",
    "        else:\n",
    "            precip[row['decade']] = row['precip']\n",
    "            \n",
    "precip = pd.DataFrame([precip])\n",
    "\n",
    "precip.unstack().plot(kind='bar')"
   ]
  },
  {
   "cell_type": "markdown",
   "metadata": {},
   "source": [
    "# Plot the total precipitation of each year"
   ]
  },
  {
   "cell_type": "code",
   "execution_count": 28,
   "metadata": {
    "collapsed": false
   },
   "outputs": [
    {
     "data": {
      "text/plain": [
       "<matplotlib.axes._subplots.AxesSubplot at 0x10a4d3710>"
      ]
     },
     "execution_count": 28,
     "metadata": {},
     "output_type": "execute_result"
    },
    {
     "data": {
      "image/png": "[encoded data removed]",
      "text/plain": [
       "<matplotlib.figure.Figure at 0x109e55320>"
      ]
     },
     "metadata": {},
     "output_type": "display_data"
    }
   ],
   "source": [
    "precip = {}\n",
    "for index, row in final.iterrows():\n",
    "    if not (np.isnan(row['precip'])):\n",
    "        if row['year'] in precip:\n",
    "            precip[row['year']] = precip[row['year']] + row['precip']\n",
    "        else:\n",
    "            precip[row['year']] = row['precip']\n",
    "            \n",
    "precip = pd.DataFrame([precip])\n",
    "\n",
    "precip.unstack().plot()"
   ]
  },
  {
   "cell_type": "code",
   "execution_count": 32,
   "metadata": {
    "collapsed": false
   },
   "outputs": [],
   "source": [
    "final.to_csv(\"final_data.csv\")"
   ]
  }
 ],
 "metadata": {
  "kernelspec": {
   "display_name": "Python 3",
   "language": "python",
   "name": "python3"
  },
  "language_info": {
   "codemirror_mode": {
    "name": "ipython",
    "version": 3
   },
   "file_extension": ".py",
   "mimetype": "text/x-python",
   "name": "python",
   "nbconvert_exporter": "python",
   "pygments_lexer": "ipython3",
   "version": "3.4.3"
  }
 },
 "nbformat": 4,
 "nbformat_minor": 0
}
